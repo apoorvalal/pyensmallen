{
 "cells": [
  {
   "cell_type": "markdown",
   "id": "dc9fb1a2",
   "metadata": {},
   "source": [
    "# Benchmarking `pyensmallen` for m-estimation\n",
    "\n",
    "LBFGS works well for most smooth convex functions, notably a convex loss such as a likelihood. I generally find that optimization convergence is so fast that bootstrapping the entire procedure may be feasible.\n",
    "\n",
    "Benchmarks against several popular optimization libraries."
   ]
  },
  {
   "cell_type": "code",
   "execution_count": 1,
   "id": "11982416",
   "metadata": {},
   "outputs": [],
   "source": [
    "import numpy as np\n",
    "import pandas as pd\n",
    "import pyensmallen\n",
    "import scipy.optimize\n",
    "import cvxpy as cp\n",
    "from scipy.special import expit\n",
    "import time\n",
    "\n",
    "import statsmodels.api as sm\n",
    "import nlopt"
   ]
  },
  {
   "cell_type": "code",
   "execution_count": 2,
   "id": "d88d6eac",
   "metadata": {},
   "outputs": [],
   "source": [
    "import jax\n",
    "import jax.numpy as jnp\n",
    "import optax\n",
    "import functools\n",
    "jax.config.update(\"jax_enable_x64\", True)"
   ]
  },
  {
   "cell_type": "markdown",
   "id": "5356965f",
   "metadata": {},
   "source": [
    "## Data Generation"
   ]
  },
  {
   "cell_type": "code",
   "execution_count": 3,
   "id": "e2785ccf",
   "metadata": {},
   "outputs": [
    {
     "name": "stdout",
     "output_type": "stream",
     "text": [
      "[0.51639859 0.94598022 0.23380001 0.55162275 0.97811966 0.24254699\n",
      " 0.64702478 0.70271041 0.26476461 0.77362184 0.7817448  0.36874977\n",
      " 0.72697004 0.06518613 0.72705723 0.38967364 0.03826155 0.39386005\n",
      " 0.0438693  0.72142769]\n"
     ]
    }
   ],
   "source": [
    "np.random.seed(42)\n",
    "n, k = 1_000_000, 20\n",
    "\n",
    "# Linear Regression Data\n",
    "X_linear = np.random.randn(n, k)\n",
    "print(true_params_linear := np.random.rand(k))\n",
    "y_linear = X_linear @ true_params_linear"
   ]
  },
  {
   "cell_type": "markdown",
   "id": "6836c13a",
   "metadata": {
    "lines_to_next_cell": 2
   },
   "source": [
    "## Linear Regression"
   ]
  },
  {
   "cell_type": "markdown",
   "id": "84089c27",
   "metadata": {},
   "source": [
    "### pyensmallen"
   ]
  },
  {
   "cell_type": "code",
   "execution_count": 4,
   "id": "3df0ec24",
   "metadata": {},
   "outputs": [],
   "source": [
    "def linear_objective(params, gradient, X, y):\n",
    "    params = params.reshape(-1, 1)\n",
    "    residuals = X @ params - y.reshape(-1, 1)\n",
    "    objective = np.sum(residuals**2)\n",
    "    grad = 2 * X.T @ residuals\n",
    "    gradient[:] = grad.flatten()\n",
    "    return objective\n",
    "\n",
    "linear_start = np.random.rand(k)"
   ]
  },
  {
   "cell_type": "code",
   "execution_count": 5,
   "id": "a3483674",
   "metadata": {},
   "outputs": [
    {
     "name": "stdout",
     "output_type": "stream",
     "text": [
      "CPU times: user 6.3 s, sys: 191 ms, total: 6.49 s\n",
      "Wall time: 427 ms\n"
     ]
    }
   ],
   "source": [
    "%%time\n",
    "optimizer = pyensmallen.L_BFGS()\n",
    "result_linear_ens = optimizer.optimize(\n",
    "    lambda params, gradient: linear_objective(params, gradient, X_linear, y_linear),\n",
    "    linear_start,\n",
    ")\n"
   ]
  },
  {
   "cell_type": "markdown",
   "id": "3580699f",
   "metadata": {},
   "source": [
    "### nlopt"
   ]
  },
  {
   "cell_type": "code",
   "execution_count": 6,
   "id": "b3261db1",
   "metadata": {},
   "outputs": [
    {
     "name": "stdout",
     "output_type": "stream",
     "text": [
      "CPU times: user 10.8 s, sys: 336 ms, total: 11.1 s\n",
      "Wall time: 713 ms\n"
     ]
    }
   ],
   "source": [
    "%%time\n",
    "opt = nlopt.opt(nlopt.LD_LBFGS, k)\n",
    "opt.set_min_objective(lambda params, gradient: linear_objective(params, gradient, X_linear, y_linear))\n",
    "result_linear_nlopt = opt.optimize(linear_start)\n"
   ]
  },
  {
   "cell_type": "markdown",
   "id": "47cd35fb",
   "metadata": {},
   "source": [
    "### scipy"
   ]
  },
  {
   "cell_type": "code",
   "execution_count": 7,
   "id": "e1318ad5",
   "metadata": {},
   "outputs": [
    {
     "name": "stdout",
     "output_type": "stream",
     "text": [
      "CPU times: user 1min 23s, sys: 2.12 s, total: 1min 25s\n",
      "Wall time: 5.5 s\n"
     ]
    }
   ],
   "source": [
    "%%time\n",
    "result_linear_scipy = scipy.optimize.minimize(\n",
    "    fun=lambda b: np.sum((X_linear @ b - y_linear) ** 2),\n",
    "    x0=linear_start,\n",
    "    jac=lambda b: 2 * X_linear.T @ (X_linear @ b - y_linear),\n",
    ").x\n"
   ]
  },
  {
   "cell_type": "markdown",
   "id": "4d9edb7e",
   "metadata": {},
   "source": [
    "### cvxpy"
   ]
  },
  {
   "cell_type": "code",
   "execution_count": 8,
   "id": "16b477c4",
   "metadata": {},
   "outputs": [
    {
     "name": "stdout",
     "output_type": "stream",
     "text": [
      "CPU times: user 11.4 s, sys: 3.47 s, total: 14.8 s\n",
      "Wall time: 13.2 s\n"
     ]
    },
    {
     "data": {
      "text/plain": [
       "np.float64(3.813432269764509e-16)"
      ]
     },
     "execution_count": 8,
     "metadata": {},
     "output_type": "execute_result"
    }
   ],
   "source": [
    "%%time\n",
    "b_linear = cp.Variable(k)\n",
    "cost_linear = cp.norm(X_linear @ b_linear - y_linear, p=2) ** 2 / n\n",
    "prob_linear = cp.Problem(cp.Minimize(cost_linear))\n",
    "prob_linear.solve(solver=cp.SCS)\n"
   ]
  },
  {
   "cell_type": "markdown",
   "id": "299e3f80",
   "metadata": {},
   "source": [
    "### jax + optax"
   ]
  },
  {
   "cell_type": "code",
   "execution_count": 9,
   "id": "e0f4b82a",
   "metadata": {},
   "outputs": [
    {
     "name": "stdout",
     "output_type": "stream",
     "text": [
      "CPU times: user 5.98 s, sys: 51.4 ms, total: 6.04 s\n",
      "Wall time: 4.53 s\n"
     ]
    }
   ],
   "source": [
    "%%time\n",
    "X_jnp, y_jnp = jnp.array(X_linear), jnp.array(y_linear)\n",
    "\n",
    "def compute_loss(beta):\n",
    "    y_pred = jnp.dot(X_jnp, beta)\n",
    "    loss = jnp.mean((y_pred - y_jnp) ** 2)\n",
    "    return loss\n",
    "\n",
    "params = jnp.array(linear_start)\n",
    "solver = optax.lbfgs()\n",
    "opt_state = solver.init(params)\n",
    "value_and_grad = optax.value_and_grad_from_state(compute_loss)\n",
    "\n",
    "# Optimization loop\n",
    "for i in range(10):\n",
    "    value, grad = value_and_grad(params, state=opt_state)\n",
    "    updates, opt_state = solver.update(\n",
    "        grad, opt_state, params, value=value, grad=grad, value_fn=compute_loss\n",
    "    )\n",
    "    params = optax.apply_updates(params, updates)\n"
   ]
  },
  {
   "cell_type": "markdown",
   "id": "53501bbc",
   "metadata": {},
   "source": [
    "### closed form"
   ]
  },
  {
   "cell_type": "code",
   "execution_count": 10,
   "id": "1bd523d6",
   "metadata": {},
   "outputs": [
    {
     "name": "stdout",
     "output_type": "stream",
     "text": [
      "CPU times: user 1.11 s, sys: 43.6 ms, total: 1.16 s\n",
      "Wall time: 379 ms\n"
     ]
    }
   ],
   "source": [
    "%%time\n",
    "np_lstsq_sol = np.linalg.lstsq(X_linear, y_linear, rcond=None)[0]"
   ]
  },
  {
   "cell_type": "code",
   "execution_count": 11,
   "id": "43383527",
   "metadata": {},
   "outputs": [
    {
     "name": "stdout",
     "output_type": "stream",
     "text": [
      "CPU times: user 7.76 s, sys: 357 ms, total: 8.11 s\n",
      "Wall time: 1.64 s\n"
     ]
    }
   ],
   "source": [
    "%%time\n",
    "sm_lstsq_sol = sm.OLS(y_linear, X_linear).fit().params"
   ]
  },
  {
   "cell_type": "markdown",
   "id": "0f709558",
   "metadata": {},
   "source": [
    "## Comparison"
   ]
  },
  {
   "cell_type": "code",
   "execution_count": 12,
   "id": "d2794ce1",
   "metadata": {},
   "outputs": [
    {
     "data": {
      "text/html": [
       "<div>\n",
       "<style scoped>\n",
       "    .dataframe tbody tr th:only-of-type {\n",
       "        vertical-align: middle;\n",
       "    }\n",
       "\n",
       "    .dataframe tbody tr th {\n",
       "        vertical-align: top;\n",
       "    }\n",
       "\n",
       "    .dataframe thead th {\n",
       "        text-align: right;\n",
       "    }\n",
       "</style>\n",
       "<table border=\"1\" class=\"dataframe\">\n",
       "  <thead>\n",
       "    <tr style=\"text-align: right;\">\n",
       "      <th></th>\n",
       "      <th>true</th>\n",
       "      <th>ensmallen</th>\n",
       "      <th>nlopt</th>\n",
       "      <th>scipy</th>\n",
       "      <th>cvxpy</th>\n",
       "      <th>jax</th>\n",
       "      <th>np_lstsq</th>\n",
       "      <th>sm_lstsq</th>\n",
       "    </tr>\n",
       "  </thead>\n",
       "  <tbody>\n",
       "    <tr>\n",
       "      <th>0</th>\n",
       "      <td>0.516399</td>\n",
       "      <td>0.516399</td>\n",
       "      <td>0.516399</td>\n",
       "      <td>0.516399</td>\n",
       "      <td>0.516399</td>\n",
       "      <td>0.516398</td>\n",
       "      <td>0.516399</td>\n",
       "      <td>0.516399</td>\n",
       "    </tr>\n",
       "    <tr>\n",
       "      <th>1</th>\n",
       "      <td>0.945980</td>\n",
       "      <td>0.945980</td>\n",
       "      <td>0.945980</td>\n",
       "      <td>0.945980</td>\n",
       "      <td>0.945980</td>\n",
       "      <td>0.945978</td>\n",
       "      <td>0.945980</td>\n",
       "      <td>0.945980</td>\n",
       "    </tr>\n",
       "    <tr>\n",
       "      <th>2</th>\n",
       "      <td>0.233800</td>\n",
       "      <td>0.233800</td>\n",
       "      <td>0.233800</td>\n",
       "      <td>0.233800</td>\n",
       "      <td>0.233800</td>\n",
       "      <td>0.233798</td>\n",
       "      <td>0.233800</td>\n",
       "      <td>0.233800</td>\n",
       "    </tr>\n",
       "    <tr>\n",
       "      <th>3</th>\n",
       "      <td>0.551623</td>\n",
       "      <td>0.551623</td>\n",
       "      <td>0.551623</td>\n",
       "      <td>0.551623</td>\n",
       "      <td>0.551623</td>\n",
       "      <td>0.551626</td>\n",
       "      <td>0.551623</td>\n",
       "      <td>0.551623</td>\n",
       "    </tr>\n",
       "    <tr>\n",
       "      <th>4</th>\n",
       "      <td>0.978120</td>\n",
       "      <td>0.978120</td>\n",
       "      <td>0.978120</td>\n",
       "      <td>0.978120</td>\n",
       "      <td>0.978120</td>\n",
       "      <td>0.978113</td>\n",
       "      <td>0.978120</td>\n",
       "      <td>0.978120</td>\n",
       "    </tr>\n",
       "    <tr>\n",
       "      <th>5</th>\n",
       "      <td>0.242547</td>\n",
       "      <td>0.242547</td>\n",
       "      <td>0.242547</td>\n",
       "      <td>0.242547</td>\n",
       "      <td>0.242547</td>\n",
       "      <td>0.242545</td>\n",
       "      <td>0.242547</td>\n",
       "      <td>0.242547</td>\n",
       "    </tr>\n",
       "    <tr>\n",
       "      <th>6</th>\n",
       "      <td>0.647025</td>\n",
       "      <td>0.647025</td>\n",
       "      <td>0.647025</td>\n",
       "      <td>0.647025</td>\n",
       "      <td>0.647025</td>\n",
       "      <td>0.647031</td>\n",
       "      <td>0.647025</td>\n",
       "      <td>0.647025</td>\n",
       "    </tr>\n",
       "    <tr>\n",
       "      <th>7</th>\n",
       "      <td>0.702710</td>\n",
       "      <td>0.702710</td>\n",
       "      <td>0.702710</td>\n",
       "      <td>0.702710</td>\n",
       "      <td>0.702710</td>\n",
       "      <td>0.702712</td>\n",
       "      <td>0.702710</td>\n",
       "      <td>0.702710</td>\n",
       "    </tr>\n",
       "    <tr>\n",
       "      <th>8</th>\n",
       "      <td>0.264765</td>\n",
       "      <td>0.264765</td>\n",
       "      <td>0.264765</td>\n",
       "      <td>0.264765</td>\n",
       "      <td>0.264765</td>\n",
       "      <td>0.264764</td>\n",
       "      <td>0.264765</td>\n",
       "      <td>0.264765</td>\n",
       "    </tr>\n",
       "    <tr>\n",
       "      <th>9</th>\n",
       "      <td>0.773622</td>\n",
       "      <td>0.773622</td>\n",
       "      <td>0.773622</td>\n",
       "      <td>0.773622</td>\n",
       "      <td>0.773622</td>\n",
       "      <td>0.773627</td>\n",
       "      <td>0.773622</td>\n",
       "      <td>0.773622</td>\n",
       "    </tr>\n",
       "    <tr>\n",
       "      <th>10</th>\n",
       "      <td>0.781745</td>\n",
       "      <td>0.781745</td>\n",
       "      <td>0.781745</td>\n",
       "      <td>0.781745</td>\n",
       "      <td>0.781745</td>\n",
       "      <td>0.781750</td>\n",
       "      <td>0.781745</td>\n",
       "      <td>0.781745</td>\n",
       "    </tr>\n",
       "    <tr>\n",
       "      <th>11</th>\n",
       "      <td>0.368750</td>\n",
       "      <td>0.368750</td>\n",
       "      <td>0.368750</td>\n",
       "      <td>0.368750</td>\n",
       "      <td>0.368750</td>\n",
       "      <td>0.368748</td>\n",
       "      <td>0.368750</td>\n",
       "      <td>0.368750</td>\n",
       "    </tr>\n",
       "    <tr>\n",
       "      <th>12</th>\n",
       "      <td>0.726970</td>\n",
       "      <td>0.726970</td>\n",
       "      <td>0.726970</td>\n",
       "      <td>0.726970</td>\n",
       "      <td>0.726970</td>\n",
       "      <td>0.726966</td>\n",
       "      <td>0.726970</td>\n",
       "      <td>0.726970</td>\n",
       "    </tr>\n",
       "    <tr>\n",
       "      <th>13</th>\n",
       "      <td>0.065186</td>\n",
       "      <td>0.065186</td>\n",
       "      <td>0.065186</td>\n",
       "      <td>0.065186</td>\n",
       "      <td>0.065186</td>\n",
       "      <td>0.065180</td>\n",
       "      <td>0.065186</td>\n",
       "      <td>0.065186</td>\n",
       "    </tr>\n",
       "    <tr>\n",
       "      <th>14</th>\n",
       "      <td>0.727057</td>\n",
       "      <td>0.727057</td>\n",
       "      <td>0.727057</td>\n",
       "      <td>0.727057</td>\n",
       "      <td>0.727057</td>\n",
       "      <td>0.727062</td>\n",
       "      <td>0.727057</td>\n",
       "      <td>0.727057</td>\n",
       "    </tr>\n",
       "    <tr>\n",
       "      <th>15</th>\n",
       "      <td>0.389674</td>\n",
       "      <td>0.389674</td>\n",
       "      <td>0.389674</td>\n",
       "      <td>0.389674</td>\n",
       "      <td>0.389674</td>\n",
       "      <td>0.389668</td>\n",
       "      <td>0.389674</td>\n",
       "      <td>0.389674</td>\n",
       "    </tr>\n",
       "    <tr>\n",
       "      <th>16</th>\n",
       "      <td>0.038262</td>\n",
       "      <td>0.038262</td>\n",
       "      <td>0.038262</td>\n",
       "      <td>0.038262</td>\n",
       "      <td>0.038262</td>\n",
       "      <td>0.038263</td>\n",
       "      <td>0.038262</td>\n",
       "      <td>0.038262</td>\n",
       "    </tr>\n",
       "    <tr>\n",
       "      <th>17</th>\n",
       "      <td>0.393860</td>\n",
       "      <td>0.393860</td>\n",
       "      <td>0.393860</td>\n",
       "      <td>0.393860</td>\n",
       "      <td>0.393860</td>\n",
       "      <td>0.393856</td>\n",
       "      <td>0.393860</td>\n",
       "      <td>0.393860</td>\n",
       "    </tr>\n",
       "    <tr>\n",
       "      <th>18</th>\n",
       "      <td>0.043869</td>\n",
       "      <td>0.043869</td>\n",
       "      <td>0.043869</td>\n",
       "      <td>0.043869</td>\n",
       "      <td>0.043869</td>\n",
       "      <td>0.043868</td>\n",
       "      <td>0.043869</td>\n",
       "      <td>0.043869</td>\n",
       "    </tr>\n",
       "    <tr>\n",
       "      <th>19</th>\n",
       "      <td>0.721428</td>\n",
       "      <td>0.721428</td>\n",
       "      <td>0.721428</td>\n",
       "      <td>0.721428</td>\n",
       "      <td>0.721428</td>\n",
       "      <td>0.721436</td>\n",
       "      <td>0.721428</td>\n",
       "      <td>0.721428</td>\n",
       "    </tr>\n",
       "  </tbody>\n",
       "</table>\n",
       "</div>"
      ],
      "text/plain": [
       "        true  ensmallen     nlopt     scipy     cvxpy       jax  np_lstsq  \\\n",
       "0   0.516399   0.516399  0.516399  0.516399  0.516399  0.516398  0.516399   \n",
       "1   0.945980   0.945980  0.945980  0.945980  0.945980  0.945978  0.945980   \n",
       "2   0.233800   0.233800  0.233800  0.233800  0.233800  0.233798  0.233800   \n",
       "3   0.551623   0.551623  0.551623  0.551623  0.551623  0.551626  0.551623   \n",
       "4   0.978120   0.978120  0.978120  0.978120  0.978120  0.978113  0.978120   \n",
       "5   0.242547   0.242547  0.242547  0.242547  0.242547  0.242545  0.242547   \n",
       "6   0.647025   0.647025  0.647025  0.647025  0.647025  0.647031  0.647025   \n",
       "7   0.702710   0.702710  0.702710  0.702710  0.702710  0.702712  0.702710   \n",
       "8   0.264765   0.264765  0.264765  0.264765  0.264765  0.264764  0.264765   \n",
       "9   0.773622   0.773622  0.773622  0.773622  0.773622  0.773627  0.773622   \n",
       "10  0.781745   0.781745  0.781745  0.781745  0.781745  0.781750  0.781745   \n",
       "11  0.368750   0.368750  0.368750  0.368750  0.368750  0.368748  0.368750   \n",
       "12  0.726970   0.726970  0.726970  0.726970  0.726970  0.726966  0.726970   \n",
       "13  0.065186   0.065186  0.065186  0.065186  0.065186  0.065180  0.065186   \n",
       "14  0.727057   0.727057  0.727057  0.727057  0.727057  0.727062  0.727057   \n",
       "15  0.389674   0.389674  0.389674  0.389674  0.389674  0.389668  0.389674   \n",
       "16  0.038262   0.038262  0.038262  0.038262  0.038262  0.038263  0.038262   \n",
       "17  0.393860   0.393860  0.393860  0.393860  0.393860  0.393856  0.393860   \n",
       "18  0.043869   0.043869  0.043869  0.043869  0.043869  0.043868  0.043869   \n",
       "19  0.721428   0.721428  0.721428  0.721428  0.721428  0.721436  0.721428   \n",
       "\n",
       "    sm_lstsq  \n",
       "0   0.516399  \n",
       "1   0.945980  \n",
       "2   0.233800  \n",
       "3   0.551623  \n",
       "4   0.978120  \n",
       "5   0.242547  \n",
       "6   0.647025  \n",
       "7   0.702710  \n",
       "8   0.264765  \n",
       "9   0.773622  \n",
       "10  0.781745  \n",
       "11  0.368750  \n",
       "12  0.726970  \n",
       "13  0.065186  \n",
       "14  0.727057  \n",
       "15  0.389674  \n",
       "16  0.038262  \n",
       "17  0.393860  \n",
       "18  0.043869  \n",
       "19  0.721428  "
      ]
     },
     "execution_count": 12,
     "metadata": {},
     "output_type": "execute_result"
    }
   ],
   "source": [
    "lin_df = pd.DataFrame({\n",
    "    \"true\": true_params_linear,\n",
    "    \"ensmallen\": result_linear_ens,\n",
    "    \"nlopt\": result_linear_nlopt,\n",
    "    \"scipy\": result_linear_scipy,\n",
    "    \"cvxpy\": b_linear.value,\n",
    "    \"jax\": params,\n",
    "    \"np_lstsq\": np_lstsq_sol,\n",
    "    \"sm_lstsq\": sm_lstsq_sol,\n",
    "})\n",
    "lin_df"
   ]
  },
  {
   "cell_type": "markdown",
   "id": "9c05ef61",
   "metadata": {},
   "source": [
    "## Logistic Regression"
   ]
  },
  {
   "cell_type": "code",
   "execution_count": 13,
   "id": "3d5449a7",
   "metadata": {},
   "outputs": [
    {
     "name": "stdout",
     "output_type": "stream",
     "text": [
      "[0.89732722 0.75831337 0.56717163 0.34694649 0.80717784 0.58244036\n",
      " 0.87299492 0.41850594 0.1207063  0.98533514 0.94064507 0.7165698\n",
      " 0.34148517 0.21317874 0.24622957 0.77088703 0.99525454 0.92697675\n",
      " 0.85896413 0.96032642]\n"
     ]
    }
   ],
   "source": [
    "# Logistic Regression Data\n",
    "n, k = 10_000, 20\n",
    "X_logistic = np.random.randn(n, k)\n",
    "print(true_params_logistic := np.random.rand(k))\n",
    "p = expit(X_logistic @ true_params_logistic)\n",
    "y_logistic = np.random.binomial(1, p)"
   ]
  },
  {
   "cell_type": "markdown",
   "id": "fd7b3e3e",
   "metadata": {},
   "source": [
    "### pyensmallen"
   ]
  },
  {
   "cell_type": "code",
   "execution_count": 14,
   "id": "b8446939",
   "metadata": {},
   "outputs": [],
   "source": [
    "def logistic_objective(params, gradient, X, y):\n",
    "    z = X @ params\n",
    "    h = expit(z)\n",
    "    objective = -np.sum(y * np.log(h) + (1 - y) * np.log1p(-h))\n",
    "    if np.isnan(objective):\n",
    "        objective = np.inf\n",
    "    grad = X.T @ (h - y)\n",
    "    gradient[:] = grad\n",
    "    return objective\n",
    "\n",
    "logistic_start = np.random.rand(k)"
   ]
  },
  {
   "cell_type": "code",
   "execution_count": 15,
   "id": "add9a17e",
   "metadata": {},
   "outputs": [
    {
     "name": "stdout",
     "output_type": "stream",
     "text": [
      "CPU times: user 60.4 ms, sys: 28 μs, total: 60.5 ms\n",
      "Wall time: 11.6 ms\n"
     ]
    }
   ],
   "source": [
    "%%time\n",
    "X_logistic2 = np.ascontiguousarray(\n",
    "    X_logistic\n",
    ")  # Ensure C-contiguous array for better performance\n",
    "y_logistic2 = y_logistic.ravel()\n",
    "\n",
    "optimizer = pyensmallen.L_BFGS()\n",
    "result_logistic_ens = optimizer.optimize(\n",
    "    lambda params, gradient: logistic_objective(\n",
    "        params, gradient, X_logistic2, y_logistic2\n",
    "    ),\n",
    "    logistic_start,\n",
    ")\n"
   ]
  },
  {
   "cell_type": "markdown",
   "id": "004027cd",
   "metadata": {},
   "source": [
    "### nlopt"
   ]
  },
  {
   "cell_type": "code",
   "execution_count": 16,
   "id": "fdc7e066",
   "metadata": {},
   "outputs": [
    {
     "name": "stdout",
     "output_type": "stream",
     "text": [
      "CPU times: user 80.9 ms, sys: 52 μs, total: 80.9 ms\n",
      "Wall time: 16.1 ms\n"
     ]
    },
    {
     "name": "stderr",
     "output_type": "stream",
     "text": [
      "/tmp/ipykernel_40977/510062118.py:4: RuntimeWarning: divide by zero encountered in log\n",
      "  objective = -np.sum(y * np.log(h) + (1 - y) * np.log1p(-h))\n",
      "/tmp/ipykernel_40977/510062118.py:4: RuntimeWarning: invalid value encountered in multiply\n",
      "  objective = -np.sum(y * np.log(h) + (1 - y) * np.log1p(-h))\n",
      "/tmp/ipykernel_40977/510062118.py:4: RuntimeWarning: divide by zero encountered in log1p\n",
      "  objective = -np.sum(y * np.log(h) + (1 - y) * np.log1p(-h))\n"
     ]
    }
   ],
   "source": [
    "%%time\n",
    "opt = nlopt.opt(nlopt.LD_LBFGS, k)\n",
    "opt.set_min_objective(lambda params, gradient: logistic_objective(\n",
    "        params, gradient, X_logistic2, y_logistic2\n",
    "    ))\n",
    "result_logistic_nlopt = opt.optimize(logistic_start)\n"
   ]
  },
  {
   "cell_type": "markdown",
   "id": "bb60d2da",
   "metadata": {},
   "source": [
    "### scipy"
   ]
  },
  {
   "cell_type": "code",
   "execution_count": 17,
   "id": "6dee0bb8",
   "metadata": {},
   "outputs": [
    {
     "name": "stdout",
     "output_type": "stream",
     "text": [
      "CPU times: user 52 ms, sys: 3 μs, total: 52 ms\n",
      "Wall time: 51.5 ms\n"
     ]
    },
    {
     "name": "stderr",
     "output_type": "stream",
     "text": [
      "<timed exec>:4: RuntimeWarning: divide by zero encountered in log\n",
      "<timed exec>:4: RuntimeWarning: invalid value encountered in multiply\n"
     ]
    }
   ],
   "source": [
    "%%time\n",
    "result_logistic_scipy = scipy.optimize.minimize(\n",
    "    fun=lambda b: -np.sum(\n",
    "        y_logistic * np.log(expit(X_logistic @ b))\n",
    "        + (1 - y_logistic) * np.log(1 - expit(X_logistic @ b))\n",
    "    ),\n",
    "    x0=logistic_start,\n",
    "    jac=lambda b: X_logistic.T @ (expit(X_logistic @ b) - y_logistic),\n",
    ").x\n"
   ]
  },
  {
   "cell_type": "markdown",
   "id": "00054738",
   "metadata": {},
   "source": [
    "### cvxpy"
   ]
  },
  {
   "cell_type": "code",
   "execution_count": 18,
   "id": "d90380c7",
   "metadata": {},
   "outputs": [
    {
     "name": "stdout",
     "output_type": "stream",
     "text": [
      "CPU times: user 1.06 s, sys: 35.8 ms, total: 1.09 s\n",
      "Wall time: 1.09 s\n"
     ]
    },
    {
     "data": {
      "text/plain": [
       "np.float64(-3404.919683904648)"
      ]
     },
     "execution_count": 18,
     "metadata": {},
     "output_type": "execute_result"
    }
   ],
   "source": [
    "%%time\n",
    "b_logistic = cp.Variable(k)\n",
    "log_likelihood = cp.sum(\n",
    "    cp.multiply(y_logistic, X_logistic @ b_logistic)\n",
    "    - cp.logistic(X_logistic @ b_logistic)\n",
    ")\n",
    "prob_logistic = cp.Problem(cp.Maximize(log_likelihood))\n",
    "prob_logistic.solve(solver=cp.SCS)\n"
   ]
  },
  {
   "cell_type": "markdown",
   "id": "38794806",
   "metadata": {},
   "source": [
    "### statsmodels\n",
    "\n",
    "does IRLS"
   ]
  },
  {
   "cell_type": "code",
   "execution_count": 19,
   "id": "9dad1419",
   "metadata": {},
   "outputs": [
    {
     "name": "stdout",
     "output_type": "stream",
     "text": [
      "Optimization terminated successfully.\n",
      "         Current function value: 0.340492\n",
      "         Iterations 7\n",
      "CPU times: user 128 ms, sys: 0 ns, total: 128 ms\n",
      "Wall time: 20.4 ms\n"
     ]
    }
   ],
   "source": [
    "%%time\n",
    "sm_logit_res = sm.Logit(y_logistic, X_logistic).fit().params"
   ]
  },
  {
   "cell_type": "code",
   "execution_count": 20,
   "id": "1b4f9925",
   "metadata": {},
   "outputs": [
    {
     "name": "stdout",
     "output_type": "stream",
     "text": [
      "CPU times: user 4.94 s, sys: 65.7 ms, total: 5 s\n",
      "Wall time: 4.05 s\n"
     ]
    }
   ],
   "source": [
    "%%time\n",
    "X_jnp, y_jnp = jnp.array(X_logistic), jnp.array(y_logistic)\n",
    "\n",
    "def logistic_likelihood(beta):\n",
    "    z = jnp.dot(X_jnp, beta)\n",
    "    h = jax.scipy.special.expit(z)\n",
    "    loss = -jnp.sum(y_jnp * jnp.log(h) + (1 - y_jnp) * jnp.log1p(-h))\n",
    "    return loss\n",
    "\n",
    "params = jnp.array(linear_start)\n",
    "solver = optax.lbfgs()\n",
    "opt_state = solver.init(params)\n",
    "value_and_grad = optax.value_and_grad_from_state(logistic_likelihood)\n",
    "\n",
    "# Optimization loop\n",
    "for i in range(10):\n",
    "    value, grad = value_and_grad(params, state=opt_state)\n",
    "    updates, opt_state = solver.update(\n",
    "        grad, opt_state, params, value=value, grad=grad, value_fn=logistic_likelihood\n",
    "    )\n",
    "    params = optax.apply_updates(params, updates)"
   ]
  },
  {
   "cell_type": "markdown",
   "id": "975cbb20",
   "metadata": {},
   "source": [
    "## comparison"
   ]
  },
  {
   "cell_type": "code",
   "execution_count": 21,
   "id": "06085d8c",
   "metadata": {},
   "outputs": [
    {
     "data": {
      "text/html": [
       "<div>\n",
       "<style scoped>\n",
       "    .dataframe tbody tr th:only-of-type {\n",
       "        vertical-align: middle;\n",
       "    }\n",
       "\n",
       "    .dataframe tbody tr th {\n",
       "        vertical-align: top;\n",
       "    }\n",
       "\n",
       "    .dataframe thead th {\n",
       "        text-align: right;\n",
       "    }\n",
       "</style>\n",
       "<table border=\"1\" class=\"dataframe\">\n",
       "  <thead>\n",
       "    <tr style=\"text-align: right;\">\n",
       "      <th></th>\n",
       "      <th>true</th>\n",
       "      <th>ensmallen</th>\n",
       "      <th>nlopt</th>\n",
       "      <th>scipy</th>\n",
       "      <th>cvxpy</th>\n",
       "      <th>jax</th>\n",
       "      <th>sm_logit</th>\n",
       "    </tr>\n",
       "  </thead>\n",
       "  <tbody>\n",
       "    <tr>\n",
       "      <th>0</th>\n",
       "      <td>0.897327</td>\n",
       "      <td>0.917879</td>\n",
       "      <td>0.917879</td>\n",
       "      <td>0.917879</td>\n",
       "      <td>0.917868</td>\n",
       "      <td>0.879663</td>\n",
       "      <td>0.917879</td>\n",
       "    </tr>\n",
       "    <tr>\n",
       "      <th>1</th>\n",
       "      <td>0.758313</td>\n",
       "      <td>0.780738</td>\n",
       "      <td>0.780738</td>\n",
       "      <td>0.780738</td>\n",
       "      <td>0.780729</td>\n",
       "      <td>0.790432</td>\n",
       "      <td>0.780738</td>\n",
       "    </tr>\n",
       "    <tr>\n",
       "      <th>2</th>\n",
       "      <td>0.567172</td>\n",
       "      <td>0.607360</td>\n",
       "      <td>0.607360</td>\n",
       "      <td>0.607360</td>\n",
       "      <td>0.607352</td>\n",
       "      <td>0.571163</td>\n",
       "      <td>0.607360</td>\n",
       "    </tr>\n",
       "    <tr>\n",
       "      <th>3</th>\n",
       "      <td>0.346946</td>\n",
       "      <td>0.363994</td>\n",
       "      <td>0.363994</td>\n",
       "      <td>0.363994</td>\n",
       "      <td>0.363990</td>\n",
       "      <td>0.352212</td>\n",
       "      <td>0.363994</td>\n",
       "    </tr>\n",
       "    <tr>\n",
       "      <th>4</th>\n",
       "      <td>0.807178</td>\n",
       "      <td>0.721937</td>\n",
       "      <td>0.721937</td>\n",
       "      <td>0.721937</td>\n",
       "      <td>0.721928</td>\n",
       "      <td>0.721815</td>\n",
       "      <td>0.721937</td>\n",
       "    </tr>\n",
       "    <tr>\n",
       "      <th>5</th>\n",
       "      <td>0.582440</td>\n",
       "      <td>0.593548</td>\n",
       "      <td>0.593548</td>\n",
       "      <td>0.593548</td>\n",
       "      <td>0.593541</td>\n",
       "      <td>0.540399</td>\n",
       "      <td>0.593548</td>\n",
       "    </tr>\n",
       "    <tr>\n",
       "      <th>6</th>\n",
       "      <td>0.872995</td>\n",
       "      <td>0.859396</td>\n",
       "      <td>0.859396</td>\n",
       "      <td>0.859396</td>\n",
       "      <td>0.859386</td>\n",
       "      <td>0.730609</td>\n",
       "      <td>0.859396</td>\n",
       "    </tr>\n",
       "    <tr>\n",
       "      <th>7</th>\n",
       "      <td>0.418506</td>\n",
       "      <td>0.362243</td>\n",
       "      <td>0.362243</td>\n",
       "      <td>0.362243</td>\n",
       "      <td>0.362239</td>\n",
       "      <td>0.361190</td>\n",
       "      <td>0.362243</td>\n",
       "    </tr>\n",
       "    <tr>\n",
       "      <th>8</th>\n",
       "      <td>0.120706</td>\n",
       "      <td>0.134975</td>\n",
       "      <td>0.134975</td>\n",
       "      <td>0.134975</td>\n",
       "      <td>0.134973</td>\n",
       "      <td>0.011258</td>\n",
       "      <td>0.134975</td>\n",
       "    </tr>\n",
       "    <tr>\n",
       "      <th>9</th>\n",
       "      <td>0.985335</td>\n",
       "      <td>0.993394</td>\n",
       "      <td>0.993394</td>\n",
       "      <td>0.993394</td>\n",
       "      <td>0.993382</td>\n",
       "      <td>0.840390</td>\n",
       "      <td>0.993394</td>\n",
       "    </tr>\n",
       "    <tr>\n",
       "      <th>10</th>\n",
       "      <td>0.940645</td>\n",
       "      <td>0.945035</td>\n",
       "      <td>0.945035</td>\n",
       "      <td>0.945035</td>\n",
       "      <td>0.945024</td>\n",
       "      <td>0.920600</td>\n",
       "      <td>0.945035</td>\n",
       "    </tr>\n",
       "    <tr>\n",
       "      <th>11</th>\n",
       "      <td>0.716570</td>\n",
       "      <td>0.662794</td>\n",
       "      <td>0.662794</td>\n",
       "      <td>0.662794</td>\n",
       "      <td>0.662786</td>\n",
       "      <td>0.642497</td>\n",
       "      <td>0.662794</td>\n",
       "    </tr>\n",
       "    <tr>\n",
       "      <th>12</th>\n",
       "      <td>0.341485</td>\n",
       "      <td>0.350806</td>\n",
       "      <td>0.350806</td>\n",
       "      <td>0.350806</td>\n",
       "      <td>0.350801</td>\n",
       "      <td>0.283082</td>\n",
       "      <td>0.350806</td>\n",
       "    </tr>\n",
       "    <tr>\n",
       "      <th>13</th>\n",
       "      <td>0.213179</td>\n",
       "      <td>0.245506</td>\n",
       "      <td>0.245506</td>\n",
       "      <td>0.245506</td>\n",
       "      <td>0.245503</td>\n",
       "      <td>0.245197</td>\n",
       "      <td>0.245506</td>\n",
       "    </tr>\n",
       "    <tr>\n",
       "      <th>14</th>\n",
       "      <td>0.246230</td>\n",
       "      <td>0.231679</td>\n",
       "      <td>0.231679</td>\n",
       "      <td>0.231679</td>\n",
       "      <td>0.231677</td>\n",
       "      <td>0.203629</td>\n",
       "      <td>0.231679</td>\n",
       "    </tr>\n",
       "    <tr>\n",
       "      <th>15</th>\n",
       "      <td>0.770887</td>\n",
       "      <td>0.781631</td>\n",
       "      <td>0.781631</td>\n",
       "      <td>0.781631</td>\n",
       "      <td>0.781621</td>\n",
       "      <td>0.768901</td>\n",
       "      <td>0.781631</td>\n",
       "    </tr>\n",
       "    <tr>\n",
       "      <th>16</th>\n",
       "      <td>0.995255</td>\n",
       "      <td>0.953231</td>\n",
       "      <td>0.953231</td>\n",
       "      <td>0.953231</td>\n",
       "      <td>0.953220</td>\n",
       "      <td>0.906379</td>\n",
       "      <td>0.953231</td>\n",
       "    </tr>\n",
       "    <tr>\n",
       "      <th>17</th>\n",
       "      <td>0.926977</td>\n",
       "      <td>0.929820</td>\n",
       "      <td>0.929820</td>\n",
       "      <td>0.929820</td>\n",
       "      <td>0.929809</td>\n",
       "      <td>0.900002</td>\n",
       "      <td>0.929820</td>\n",
       "    </tr>\n",
       "    <tr>\n",
       "      <th>18</th>\n",
       "      <td>0.858964</td>\n",
       "      <td>0.912967</td>\n",
       "      <td>0.912967</td>\n",
       "      <td>0.912967</td>\n",
       "      <td>0.912956</td>\n",
       "      <td>0.758306</td>\n",
       "      <td>0.912967</td>\n",
       "    </tr>\n",
       "    <tr>\n",
       "      <th>19</th>\n",
       "      <td>0.960326</td>\n",
       "      <td>0.997770</td>\n",
       "      <td>0.997770</td>\n",
       "      <td>0.997770</td>\n",
       "      <td>0.997758</td>\n",
       "      <td>1.000853</td>\n",
       "      <td>0.997770</td>\n",
       "    </tr>\n",
       "  </tbody>\n",
       "</table>\n",
       "</div>"
      ],
      "text/plain": [
       "        true  ensmallen     nlopt     scipy     cvxpy       jax  sm_logit\n",
       "0   0.897327   0.917879  0.917879  0.917879  0.917868  0.879663  0.917879\n",
       "1   0.758313   0.780738  0.780738  0.780738  0.780729  0.790432  0.780738\n",
       "2   0.567172   0.607360  0.607360  0.607360  0.607352  0.571163  0.607360\n",
       "3   0.346946   0.363994  0.363994  0.363994  0.363990  0.352212  0.363994\n",
       "4   0.807178   0.721937  0.721937  0.721937  0.721928  0.721815  0.721937\n",
       "5   0.582440   0.593548  0.593548  0.593548  0.593541  0.540399  0.593548\n",
       "6   0.872995   0.859396  0.859396  0.859396  0.859386  0.730609  0.859396\n",
       "7   0.418506   0.362243  0.362243  0.362243  0.362239  0.361190  0.362243\n",
       "8   0.120706   0.134975  0.134975  0.134975  0.134973  0.011258  0.134975\n",
       "9   0.985335   0.993394  0.993394  0.993394  0.993382  0.840390  0.993394\n",
       "10  0.940645   0.945035  0.945035  0.945035  0.945024  0.920600  0.945035\n",
       "11  0.716570   0.662794  0.662794  0.662794  0.662786  0.642497  0.662794\n",
       "12  0.341485   0.350806  0.350806  0.350806  0.350801  0.283082  0.350806\n",
       "13  0.213179   0.245506  0.245506  0.245506  0.245503  0.245197  0.245506\n",
       "14  0.246230   0.231679  0.231679  0.231679  0.231677  0.203629  0.231679\n",
       "15  0.770887   0.781631  0.781631  0.781631  0.781621  0.768901  0.781631\n",
       "16  0.995255   0.953231  0.953231  0.953231  0.953220  0.906379  0.953231\n",
       "17  0.926977   0.929820  0.929820  0.929820  0.929809  0.900002  0.929820\n",
       "18  0.858964   0.912967  0.912967  0.912967  0.912956  0.758306  0.912967\n",
       "19  0.960326   0.997770  0.997770  0.997770  0.997758  1.000853  0.997770"
      ]
     },
     "execution_count": 21,
     "metadata": {},
     "output_type": "execute_result"
    }
   ],
   "source": [
    "logit_df = pd.DataFrame(\n",
    "    {\n",
    "        \"true\": true_params_logistic,\n",
    "        \"ensmallen\": result_logistic_ens,\n",
    "        \"nlopt\": result_logistic_nlopt,\n",
    "        \"scipy\": result_logistic_scipy,\n",
    "        \"cvxpy\": b_logistic.value,\n",
    "        \"jax\": params,\n",
    "        \"sm_logit\": sm_logit_res,\n",
    "    }\n",
    ")\n",
    "logit_df"
   ]
  },
  {
   "cell_type": "markdown",
   "id": "546244ad",
   "metadata": {},
   "source": [
    "## Poisson Regression"
   ]
  },
  {
   "cell_type": "code",
   "execution_count": 22,
   "id": "f7c03a51",
   "metadata": {},
   "outputs": [
    {
     "name": "stdout",
     "output_type": "stream",
     "text": [
      "[0.46622737 0.27893256 0.1526658  0.04174791 0.46506248 0.03016092\n",
      " 0.94782085 0.33601329 0.11498335 0.72554644]\n"
     ]
    }
   ],
   "source": [
    "n, k = 100_000, 10\n",
    "# Poisson Regression Data\n",
    "X_poisson = np.random.randn(n, k)\n",
    "print(true_params_poisson := np.random.rand(k))\n",
    "lambda_ = np.exp(X_poisson @ true_params_poisson)\n",
    "y_poisson = np.random.poisson(lambda_)"
   ]
  },
  {
   "cell_type": "markdown",
   "id": "6bcf7888",
   "metadata": {},
   "source": [
    "## pyensmallen"
   ]
  },
  {
   "cell_type": "code",
   "execution_count": 23,
   "id": "ba86a97c",
   "metadata": {},
   "outputs": [],
   "source": [
    "def poisson_objective(params, gradient, X, y):\n",
    "    params = params.reshape(-1, 1)\n",
    "    y = y.reshape(-1, 1)\n",
    "    Xbeta = X @ params\n",
    "    lambda_ = np.exp(Xbeta)\n",
    "    objective = np.sum(lambda_ - np.multiply(y, np.log(lambda_)))\n",
    "    # Compute the gradient\n",
    "    grad = X.T @ (lambda_ - y)\n",
    "    gradient[:] = grad.ravel()\n",
    "    return objective\n",
    "\n",
    "poisson_start = np.random.rand(k)"
   ]
  },
  {
   "cell_type": "code",
   "execution_count": 24,
   "id": "c4c87692",
   "metadata": {},
   "outputs": [
    {
     "name": "stdout",
     "output_type": "stream",
     "text": [
      "CPU times: user 828 ms, sys: 0 ns, total: 828 ms\n",
      "Wall time: 58.1 ms\n"
     ]
    }
   ],
   "source": [
    "%%time\n",
    "optimizer = pyensmallen.L_BFGS()\n",
    "result_poisson_ens = optimizer.optimize(\n",
    "    lambda params, gradient: poisson_objective(params, gradient, X_poisson, y_poisson),\n",
    "    poisson_start,\n",
    ")\n"
   ]
  },
  {
   "cell_type": "markdown",
   "id": "f77071ae",
   "metadata": {},
   "source": [
    "### nlopt\n",
    "fails"
   ]
  },
  {
   "cell_type": "code",
   "execution_count": 31,
   "id": "ad4ac603",
   "metadata": {},
   "outputs": [],
   "source": [
    "# %%time\n",
    "# opt = nlopt.opt(nlopt.LD_LBFGS, k)\n",
    "# opt.set_min_objective(lambda params, gradient: poisson_objective(params, gradient, X_poisson, y_poisson))\n",
    "# opt.set_maxeval(100000)\n",
    "# result_poisson_nlopt = opt.optimize(poisson_start)\n",
    "# print(result_poisson_nlopt)"
   ]
  },
  {
   "cell_type": "markdown",
   "id": "e851e198",
   "metadata": {},
   "source": [
    "### scipy"
   ]
  },
  {
   "cell_type": "code",
   "execution_count": 26,
   "id": "4b00785b",
   "metadata": {},
   "outputs": [
    {
     "name": "stdout",
     "output_type": "stream",
     "text": [
      "CPU times: user 5.08 s, sys: 0 ns, total: 5.08 s\n",
      "Wall time: 355 ms\n"
     ]
    }
   ],
   "source": [
    "%%time\n",
    "result_poisson_scipy = scipy.optimize.minimize(\n",
    "    fun=lambda b: np.sum(np.exp(X_poisson @ b) - y_poisson * (X_poisson @ b)),\n",
    "    x0=poisson_start,\n",
    "    jac=lambda b: X_poisson.T @ (np.exp(X_poisson @ b) - y_poisson),\n",
    ").x\n"
   ]
  },
  {
   "cell_type": "markdown",
   "id": "a67b81bc",
   "metadata": {},
   "source": [
    "### cvxpy\n",
    "\n",
    "fails"
   ]
  },
  {
   "cell_type": "code",
   "execution_count": 32,
   "id": "572fcfa1",
   "metadata": {},
   "outputs": [],
   "source": [
    "# %%capture\n",
    "# b_poisson = cp.Variable(k)\n",
    "# z = X_poisson @ b_poisson\n",
    "# cost_poisson = cp.sum(cp.exp(z) - cp.multiply(y_poisson, z)) / n\n",
    "# prob_poisson = cp.Problem(cp.Minimize(cost_poisson))\n",
    "# prob_poisson.solve(solver=cp.SCS)\n"
   ]
  },
  {
   "cell_type": "markdown",
   "id": "601a275b",
   "metadata": {},
   "source": [
    "Runs out of memory."
   ]
  },
  {
   "cell_type": "markdown",
   "id": "50088af0",
   "metadata": {},
   "source": [
    "### statsmodels"
   ]
  },
  {
   "cell_type": "code",
   "execution_count": 28,
   "id": "e343e20d",
   "metadata": {},
   "outputs": [
    {
     "name": "stdout",
     "output_type": "stream",
     "text": [
      "Optimization terminated successfully.\n",
      "         Current function value: 1.361967\n",
      "         Iterations 14\n",
      "CPU times: user 3.83 s, sys: 0 ns, total: 3.83 s\n",
      "Wall time: 274 ms\n"
     ]
    }
   ],
   "source": [
    "%%time\n",
    "sm_poisson_res = sm.Poisson(y_poisson, X_poisson).fit().params"
   ]
  },
  {
   "cell_type": "markdown",
   "id": "75dbc95c",
   "metadata": {},
   "source": [
    "## jax\n",
    "switch to adam since lbfgs performs poorly (!TODO why?)"
   ]
  },
  {
   "cell_type": "code",
   "execution_count": 29,
   "id": "229f7d03",
   "metadata": {},
   "outputs": [
    {
     "name": "stdout",
     "output_type": "stream",
     "text": [
      "CPU times: user 3.58 s, sys: 61.8 ms, total: 3.64 s\n",
      "Wall time: 1.52 s\n"
     ]
    }
   ],
   "source": [
    "%%time\n",
    "X_jnp, y_jnp = jnp.array(X_poisson), jnp.array(y_poisson)\n",
    "\n",
    "def poisson_likelihood(beta):\n",
    "    z = jnp.dot(X_jnp, beta)\n",
    "    lambda_ = jnp.exp(z)\n",
    "    loss = jnp.sum(lambda_ - y_jnp * z)\n",
    "    return loss\n",
    "\n",
    "\n",
    "solver = optax.adam(1e-2)\n",
    "adam_params = jnp.array(poisson_start)\n",
    "opt_state = solver.init(adam_params)\n",
    "\n",
    "@jax.jit\n",
    "def update_step(params, opt_state):\n",
    "    loss, grads = jax.value_and_grad(poisson_likelihood)(params)\n",
    "    updates, opt_state = solver.update(grads, opt_state)\n",
    "    params = optax.apply_updates(params, updates)\n",
    "    return params, opt_state, loss\n",
    "\n",
    "\n",
    "for i in range(1000):\n",
    "    adam_params, opt_state, loss = update_step(adam_params, opt_state)"
   ]
  },
  {
   "cell_type": "code",
   "execution_count": 30,
   "id": "df402d06",
   "metadata": {},
   "outputs": [
    {
     "data": {
      "text/html": [
       "<div>\n",
       "<style scoped>\n",
       "    .dataframe tbody tr th:only-of-type {\n",
       "        vertical-align: middle;\n",
       "    }\n",
       "\n",
       "    .dataframe tbody tr th {\n",
       "        vertical-align: top;\n",
       "    }\n",
       "\n",
       "    .dataframe thead th {\n",
       "        text-align: right;\n",
       "    }\n",
       "</style>\n",
       "<table border=\"1\" class=\"dataframe\">\n",
       "  <thead>\n",
       "    <tr style=\"text-align: right;\">\n",
       "      <th></th>\n",
       "      <th>true</th>\n",
       "      <th>ensmallen</th>\n",
       "      <th>scipy</th>\n",
       "      <th>sm_poisson</th>\n",
       "      <th>jax_adam</th>\n",
       "    </tr>\n",
       "  </thead>\n",
       "  <tbody>\n",
       "    <tr>\n",
       "      <th>0</th>\n",
       "      <td>0.466227</td>\n",
       "      <td>0.467852</td>\n",
       "      <td>0.467852</td>\n",
       "      <td>0.467852</td>\n",
       "      <td>0.467852</td>\n",
       "    </tr>\n",
       "    <tr>\n",
       "      <th>1</th>\n",
       "      <td>0.278933</td>\n",
       "      <td>0.275483</td>\n",
       "      <td>0.275483</td>\n",
       "      <td>0.275483</td>\n",
       "      <td>0.275483</td>\n",
       "    </tr>\n",
       "    <tr>\n",
       "      <th>2</th>\n",
       "      <td>0.152666</td>\n",
       "      <td>0.151015</td>\n",
       "      <td>0.151015</td>\n",
       "      <td>0.151015</td>\n",
       "      <td>0.151015</td>\n",
       "    </tr>\n",
       "    <tr>\n",
       "      <th>3</th>\n",
       "      <td>0.041748</td>\n",
       "      <td>0.039774</td>\n",
       "      <td>0.039774</td>\n",
       "      <td>0.039774</td>\n",
       "      <td>0.039774</td>\n",
       "    </tr>\n",
       "    <tr>\n",
       "      <th>4</th>\n",
       "      <td>0.465062</td>\n",
       "      <td>0.466311</td>\n",
       "      <td>0.466311</td>\n",
       "      <td>0.466311</td>\n",
       "      <td>0.466311</td>\n",
       "    </tr>\n",
       "    <tr>\n",
       "      <th>5</th>\n",
       "      <td>0.030161</td>\n",
       "      <td>0.032722</td>\n",
       "      <td>0.032722</td>\n",
       "      <td>0.032722</td>\n",
       "      <td>0.032722</td>\n",
       "    </tr>\n",
       "    <tr>\n",
       "      <th>6</th>\n",
       "      <td>0.947821</td>\n",
       "      <td>0.948469</td>\n",
       "      <td>0.948469</td>\n",
       "      <td>0.948469</td>\n",
       "      <td>0.948469</td>\n",
       "    </tr>\n",
       "    <tr>\n",
       "      <th>7</th>\n",
       "      <td>0.336013</td>\n",
       "      <td>0.336803</td>\n",
       "      <td>0.336803</td>\n",
       "      <td>0.336803</td>\n",
       "      <td>0.336803</td>\n",
       "    </tr>\n",
       "    <tr>\n",
       "      <th>8</th>\n",
       "      <td>0.114983</td>\n",
       "      <td>0.120188</td>\n",
       "      <td>0.120188</td>\n",
       "      <td>0.120188</td>\n",
       "      <td>0.120188</td>\n",
       "    </tr>\n",
       "    <tr>\n",
       "      <th>9</th>\n",
       "      <td>0.725546</td>\n",
       "      <td>0.728043</td>\n",
       "      <td>0.728043</td>\n",
       "      <td>0.728043</td>\n",
       "      <td>0.728043</td>\n",
       "    </tr>\n",
       "  </tbody>\n",
       "</table>\n",
       "</div>"
      ],
      "text/plain": [
       "       true  ensmallen     scipy  sm_poisson  jax_adam\n",
       "0  0.466227   0.467852  0.467852    0.467852  0.467852\n",
       "1  0.278933   0.275483  0.275483    0.275483  0.275483\n",
       "2  0.152666   0.151015  0.151015    0.151015  0.151015\n",
       "3  0.041748   0.039774  0.039774    0.039774  0.039774\n",
       "4  0.465062   0.466311  0.466311    0.466311  0.466311\n",
       "5  0.030161   0.032722  0.032722    0.032722  0.032722\n",
       "6  0.947821   0.948469  0.948469    0.948469  0.948469\n",
       "7  0.336013   0.336803  0.336803    0.336803  0.336803\n",
       "8  0.114983   0.120188  0.120188    0.120188  0.120188\n",
       "9  0.725546   0.728043  0.728043    0.728043  0.728043"
      ]
     },
     "execution_count": 30,
     "metadata": {},
     "output_type": "execute_result"
    }
   ],
   "source": [
    "poi_df = pd.DataFrame(\n",
    "  {\n",
    "      \"true\": true_params_poisson,\n",
    "      \"ensmallen\": result_poisson_ens,\n",
    "      \"scipy\": result_poisson_scipy,\n",
    "      \"sm_poisson\": sm_poisson_res,\n",
    "      \"jax_adam\": adam_params,\n",
    "  }\n",
    ")\n",
    "poi_df"
   ]
  }
 ],
 "metadata": {
  "kernelspec": {
   "display_name": "econometrics",
   "language": "python",
   "name": "python3"
  },
  "language_info": {
   "codemirror_mode": {
    "name": "ipython",
    "version": 3
   },
   "file_extension": ".py",
   "mimetype": "text/x-python",
   "name": "python",
   "nbconvert_exporter": "python",
   "pygments_lexer": "ipython3",
   "version": "3.12.4"
  }
 },
 "nbformat": 4,
 "nbformat_minor": 5
}
