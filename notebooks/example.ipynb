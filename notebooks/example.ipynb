{
 "cells": [
  {
   "cell_type": "markdown",
   "id": "dc9fb1a2",
   "metadata": {},
   "source": [
    "# `pyensmallen` for Maximum Likelihood\n",
    "\n",
    "LBFGS works well for most smooth convex functions, notably a convex loss such as a likelihood. I generally find that optimization convergence is so fast that bootstrapping the entire procedure may be feasible.\n",
    "\n",
    "Benchmarks against scipy, cvxpy (hand-rolled), and statsmodels are provided."
   ]
  },
  {
   "cell_type": "code",
   "execution_count": 1,
   "id": "11982416",
   "metadata": {},
   "outputs": [],
   "source": [
    "import numpy as np\n",
    "import pyensmallen\n",
    "import scipy.optimize\n",
    "import cvxpy as cp\n",
    "from scipy.special import expit\n",
    "import time\n",
    "\n",
    "import statsmodels.api as sm\n",
    "import nlopt"
   ]
  },
  {
   "cell_type": "markdown",
   "id": "5356965f",
   "metadata": {},
   "source": [
    "## Data Generation"
   ]
  },
  {
   "cell_type": "code",
   "execution_count": 2,
   "id": "e2785ccf",
   "metadata": {},
   "outputs": [
    {
     "name": "stdout",
     "output_type": "stream",
     "text": [
      "[0.51639859 0.94598022 0.23380001 0.55162275 0.97811966 0.24254699\n",
      " 0.64702478 0.70271041 0.26476461 0.77362184 0.7817448  0.36874977\n",
      " 0.72697004 0.06518613 0.72705723 0.38967364 0.03826155 0.39386005\n",
      " 0.0438693  0.72142769]\n"
     ]
    }
   ],
   "source": [
    "np.random.seed(42)\n",
    "n, k = 1_000_000, 20\n",
    "\n",
    "# Linear Regression Data\n",
    "X_linear = np.random.randn(n, k)\n",
    "print(true_params_linear := np.random.rand(k))\n",
    "y_linear = X_linear @ true_params_linear + np.random.randn(n)"
   ]
  },
  {
   "cell_type": "markdown",
   "id": "6836c13a",
   "metadata": {
    "lines_to_next_cell": 2
   },
   "source": [
    "## Linear Regression"
   ]
  },
  {
   "cell_type": "markdown",
   "id": "84089c27",
   "metadata": {},
   "source": [
    "### pyensmallen"
   ]
  },
  {
   "cell_type": "code",
   "execution_count": 3,
   "id": "3df0ec24",
   "metadata": {},
   "outputs": [],
   "source": [
    "def linear_objective(params, gradient, X, y):\n",
    "    params = params.reshape(-1, 1)\n",
    "    residuals = X @ params - y.reshape(-1, 1)\n",
    "    objective = np.sum(residuals**2)\n",
    "    grad = 2 * X.T @ residuals\n",
    "    gradient[:] = grad.flatten()\n",
    "    return objective\n",
    "\n",
    "linear_start = np.random.rand(k)"
   ]
  },
  {
   "cell_type": "code",
   "execution_count": 4,
   "id": "a3483674",
   "metadata": {},
   "outputs": [
    {
     "name": "stdout",
     "output_type": "stream",
     "text": [
      "[0.51556024 0.94691468 0.23404849 0.55121759 0.97818756 0.24338623\n",
      " 0.64700696 0.70195589 0.26487498 0.77280983 0.78267599 0.36787315\n",
      " 0.72791074 0.06571446 0.72615144 0.38766298 0.03820425 0.39468909\n",
      " 0.04304362 0.72195013]\n",
      "CPU times: user 5.61 s, sys: 192 ms, total: 5.8 s\n",
      "Wall time: 385 ms\n"
     ]
    }
   ],
   "source": [
    "%%time\n",
    "optimizer = pyensmallen.L_BFGS()\n",
    "result_linear_ens = optimizer.optimize(\n",
    "    lambda params, gradient: linear_objective(params, gradient, X_linear, y_linear),\n",
    "    linear_start,\n",
    ")\n",
    "print(result_linear_ens)"
   ]
  },
  {
   "cell_type": "markdown",
   "id": "3580699f",
   "metadata": {},
   "source": [
    "### nlopt"
   ]
  },
  {
   "cell_type": "code",
   "execution_count": 5,
   "id": "b3261db1",
   "metadata": {},
   "outputs": [
    {
     "name": "stdout",
     "output_type": "stream",
     "text": [
      "[0.51556024 0.94691468 0.23404849 0.55121759 0.97818756 0.24338623\n",
      " 0.64700696 0.70195589 0.26487498 0.77280983 0.78267599 0.36787315\n",
      " 0.72791074 0.06571446 0.72615144 0.38766298 0.03820425 0.39468909\n",
      " 0.04304362 0.72195013]\n",
      "CPU times: user 9.12 s, sys: 282 ms, total: 9.4 s\n",
      "Wall time: 614 ms\n"
     ]
    }
   ],
   "source": [
    "%%time\n",
    "opt = nlopt.opt(nlopt.LD_LBFGS, k)\n",
    "opt.set_min_objective(lambda params, gradient: linear_objective(params, gradient, X_linear, y_linear))\n",
    "result_linear_nlopt = opt.optimize(linear_start)\n",
    "print(result_linear_nlopt)"
   ]
  },
  {
   "cell_type": "markdown",
   "id": "47cd35fb",
   "metadata": {},
   "source": [
    "### scipy"
   ]
  },
  {
   "cell_type": "code",
   "execution_count": 6,
   "id": "e1318ad5",
   "metadata": {},
   "outputs": [
    {
     "name": "stdout",
     "output_type": "stream",
     "text": [
      "[0.51556024 0.94691468 0.23404849 0.55121759 0.97818756 0.24338623\n",
      " 0.64700696 0.70195589 0.26487498 0.77280983 0.78267599 0.36787315\n",
      " 0.72791074 0.06571446 0.72615144 0.38766298 0.03820425 0.39468909\n",
      " 0.04304362 0.72195013]\n",
      "CPU times: user 1min 34s, sys: 2.21 s, total: 1min 36s\n",
      "Wall time: 6.31 s\n"
     ]
    }
   ],
   "source": [
    "%%time\n",
    "result_linear_scipy = scipy.optimize.minimize(\n",
    "    fun=lambda b: np.sum((X_linear @ b - y_linear) ** 2),\n",
    "    x0=linear_start,\n",
    "    jac=lambda b: 2 * X_linear.T @ (X_linear @ b - y_linear),\n",
    ").x\n",
    "print(result_linear_scipy)"
   ]
  },
  {
   "cell_type": "markdown",
   "id": "4d9edb7e",
   "metadata": {},
   "source": [
    "### cvxpy"
   ]
  },
  {
   "cell_type": "code",
   "execution_count": 7,
   "id": "16b477c4",
   "metadata": {},
   "outputs": [
    {
     "name": "stdout",
     "output_type": "stream",
     "text": [
      "[0.51556024 0.94691468 0.23404849 0.55121759 0.97818756 0.24338623\n",
      " 0.64700696 0.70195589 0.26487498 0.77280983 0.78267599 0.36787315\n",
      " 0.72791074 0.06571446 0.72615144 0.38766298 0.03820425 0.39468909\n",
      " 0.04304362 0.72195013]\n",
      "CPU times: user 21.5 s, sys: 3.59 s, total: 25.1 s\n",
      "Wall time: 25 s\n"
     ]
    }
   ],
   "source": [
    "%%time\n",
    "b_linear = cp.Variable(k)\n",
    "cost_linear = cp.norm(X_linear @ b_linear - y_linear, p=2) ** 2 / n\n",
    "prob_linear = cp.Problem(cp.Minimize(cost_linear))\n",
    "prob_linear.solve(solver=cp.SCS)\n",
    "print(b_linear.value)"
   ]
  },
  {
   "cell_type": "markdown",
   "id": "53501bbc",
   "metadata": {},
   "source": [
    "### closed form"
   ]
  },
  {
   "cell_type": "code",
   "execution_count": 8,
   "id": "1bd523d6",
   "metadata": {},
   "outputs": [
    {
     "name": "stdout",
     "output_type": "stream",
     "text": [
      "CPU times: user 1.62 s, sys: 1.05 s, total: 2.67 s\n",
      "Wall time: 798 ms\n"
     ]
    },
    {
     "data": {
      "text/plain": [
       "array([0.51556024, 0.94691468, 0.23404849, 0.55121759, 0.97818756,\n",
       "       0.24338623, 0.64700696, 0.70195589, 0.26487498, 0.77280983,\n",
       "       0.78267599, 0.36787315, 0.72791074, 0.06571446, 0.72615144,\n",
       "       0.38766298, 0.03820425, 0.39468909, 0.04304362, 0.72195013])"
      ]
     },
     "execution_count": 8,
     "metadata": {},
     "output_type": "execute_result"
    }
   ],
   "source": [
    "%%time\n",
    "np.linalg.lstsq(X_linear, y_linear, rcond=None)[0]"
   ]
  },
  {
   "cell_type": "code",
   "execution_count": 9,
   "id": "43383527",
   "metadata": {},
   "outputs": [
    {
     "name": "stdout",
     "output_type": "stream",
     "text": [
      "CPU times: user 7.05 s, sys: 3.25 s, total: 10.3 s\n",
      "Wall time: 3.51 s\n"
     ]
    },
    {
     "data": {
      "text/plain": [
       "array([0.51556024, 0.94691468, 0.23404849, 0.55121759, 0.97818756,\n",
       "       0.24338623, 0.64700696, 0.70195589, 0.26487498, 0.77280983,\n",
       "       0.78267599, 0.36787315, 0.72791074, 0.06571446, 0.72615144,\n",
       "       0.38766298, 0.03820425, 0.39468909, 0.04304362, 0.72195013])"
      ]
     },
     "execution_count": 9,
     "metadata": {},
     "output_type": "execute_result"
    }
   ],
   "source": [
    "%%time\n",
    "sm.OLS(y_linear, X_linear).fit().params"
   ]
  },
  {
   "cell_type": "markdown",
   "id": "9c05ef61",
   "metadata": {},
   "source": [
    "## Logistic Regression"
   ]
  },
  {
   "cell_type": "code",
   "execution_count": 10,
   "id": "3d5449a7",
   "metadata": {},
   "outputs": [
    {
     "name": "stdout",
     "output_type": "stream",
     "text": [
      "[0.74560931 0.96037048 0.30659196 0.78557459 0.04726211 0.89027718\n",
      " 0.24117347 0.89673488 0.36550133 0.97993472 0.25816369 0.58473241\n",
      " 0.38081169 0.95958797 0.92324205 0.08471913 0.33333406 0.5071405\n",
      " 0.20493563 0.33786489]\n"
     ]
    }
   ],
   "source": [
    "# Logistic Regression Data\n",
    "n, k = 10_000, 20\n",
    "X_logistic = np.random.randn(n, k)\n",
    "print(true_params_logistic := np.random.rand(k))\n",
    "p = expit(X_logistic @ true_params_logistic)\n",
    "y_logistic = np.random.binomial(1, p)"
   ]
  },
  {
   "cell_type": "markdown",
   "id": "fd7b3e3e",
   "metadata": {},
   "source": [
    "### pyensmallen"
   ]
  },
  {
   "cell_type": "code",
   "execution_count": 11,
   "id": "b8446939",
   "metadata": {},
   "outputs": [],
   "source": [
    "def logistic_objective(params, gradient, X, y):\n",
    "    z = X @ params\n",
    "    h = expit(z)\n",
    "    objective = -np.sum(y * np.log(h) + (1 - y) * np.log1p(-h))\n",
    "    if np.isnan(objective):\n",
    "        objective = np.inf\n",
    "    grad = X.T @ (h - y)\n",
    "    gradient[:] = grad\n",
    "    return objective\n",
    "\n",
    "logistic_start = np.random.rand(k)"
   ]
  },
  {
   "cell_type": "code",
   "execution_count": 12,
   "id": "add9a17e",
   "metadata": {},
   "outputs": [
    {
     "name": "stdout",
     "output_type": "stream",
     "text": [
      "[0.78103852 0.8975452  0.32361818 0.75455507 0.06058863 0.87528454\n",
      " 0.21365507 0.90129849 0.40673921 0.97992142 0.30068721 0.50152611\n",
      " 0.40801893 0.97259116 0.93292288 0.11679675 0.31657035 0.53056071\n",
      " 0.22217501 0.36503279]\n",
      "CPU times: user 26.2 ms, sys: 129 ms, total: 155 ms\n",
      "Wall time: 27.8 ms\n"
     ]
    }
   ],
   "source": [
    "%%time\n",
    "X_logistic2 = np.ascontiguousarray(\n",
    "    X_logistic\n",
    ")  # Ensure C-contiguous array for better performance\n",
    "y_logistic2 = y_logistic.ravel()\n",
    "\n",
    "optimizer = pyensmallen.L_BFGS()\n",
    "result_logistic_ens = optimizer.optimize(\n",
    "    lambda params, gradient: logistic_objective(\n",
    "        params, gradient, X_logistic2, y_logistic2\n",
    "    ),\n",
    "    logistic_start,\n",
    ")\n",
    "print(result_logistic_ens)"
   ]
  },
  {
   "cell_type": "markdown",
   "id": "004027cd",
   "metadata": {},
   "source": [
    "### nlopt"
   ]
  },
  {
   "cell_type": "code",
   "execution_count": 13,
   "id": "fdc7e066",
   "metadata": {},
   "outputs": [
    {
     "name": "stdout",
     "output_type": "stream",
     "text": [
      "[0.78103852 0.8975452  0.32361818 0.75455507 0.06058863 0.87528454\n",
      " 0.21365507 0.90129849 0.40673921 0.97992142 0.30068721 0.50152611\n",
      " 0.40801892 0.97259117 0.93292288 0.11679676 0.31657035 0.53056071\n",
      " 0.22217501 0.36503279]\n",
      "CPU times: user 54.5 ms, sys: 184 ms, total: 239 ms\n",
      "Wall time: 36.8 ms\n"
     ]
    },
    {
     "name": "stderr",
     "output_type": "stream",
     "text": [
      "/tmp/ipykernel_202269/510062118.py:4: RuntimeWarning: divide by zero encountered in log\n",
      "  objective = -np.sum(y * np.log(h) + (1 - y) * np.log1p(-h))\n",
      "/tmp/ipykernel_202269/510062118.py:4: RuntimeWarning: invalid value encountered in multiply\n",
      "  objective = -np.sum(y * np.log(h) + (1 - y) * np.log1p(-h))\n",
      "/tmp/ipykernel_202269/510062118.py:4: RuntimeWarning: divide by zero encountered in log1p\n",
      "  objective = -np.sum(y * np.log(h) + (1 - y) * np.log1p(-h))\n"
     ]
    }
   ],
   "source": [
    "%%time\n",
    "opt = nlopt.opt(nlopt.LD_LBFGS, k)\n",
    "opt.set_min_objective(lambda params, gradient: logistic_objective(\n",
    "        params, gradient, X_logistic2, y_logistic2\n",
    "    ))\n",
    "result_logistic_nlopt = opt.optimize(logistic_start)\n",
    "print(result_logistic_nlopt)"
   ]
  },
  {
   "cell_type": "markdown",
   "id": "bb60d2da",
   "metadata": {},
   "source": [
    "### scipy"
   ]
  },
  {
   "cell_type": "code",
   "execution_count": 14,
   "id": "6dee0bb8",
   "metadata": {},
   "outputs": [
    {
     "name": "stderr",
     "output_type": "stream",
     "text": [
      "<timed exec>:4: RuntimeWarning: divide by zero encountered in log\n"
     ]
    },
    {
     "name": "stdout",
     "output_type": "stream",
     "text": [
      "[0.78103852 0.89754519 0.32361818 0.75455506 0.06058863 0.87528454\n",
      " 0.21365506 0.90129849 0.40673921 0.97992141 0.30068721 0.50152611\n",
      " 0.40801892 0.97259116 0.93292288 0.11679676 0.31657034 0.53056071\n",
      " 0.22217501 0.36503279]\n",
      "CPU times: user 581 ms, sys: 2.21 s, total: 2.79 s\n",
      "Wall time: 549 ms\n"
     ]
    }
   ],
   "source": [
    "%%time\n",
    "result_logistic_scipy = scipy.optimize.minimize(\n",
    "    fun=lambda b: -np.sum(\n",
    "        y_logistic * np.log(expit(X_logistic @ b))\n",
    "        + (1 - y_logistic) * np.log(1 - expit(X_logistic @ b))\n",
    "    ),\n",
    "    x0=logistic_start,\n",
    "    jac=lambda b: X_logistic.T @ (expit(X_logistic @ b) - y_logistic),\n",
    ").x\n",
    "print(result_logistic_scipy)"
   ]
  },
  {
   "cell_type": "markdown",
   "id": "00054738",
   "metadata": {},
   "source": [
    "### cvxpy"
   ]
  },
  {
   "cell_type": "code",
   "execution_count": 15,
   "id": "d90380c7",
   "metadata": {},
   "outputs": [
    {
     "name": "stdout",
     "output_type": "stream",
     "text": [
      "[0.78103139 0.8975368  0.32361526 0.75454815 0.06058797 0.87527657\n",
      " 0.21365308 0.90129021 0.40673545 0.97991244 0.30068428 0.50152154\n",
      " 0.40801517 0.97258238 0.93291413 0.11679587 0.31656755 0.53055581\n",
      " 0.22217273 0.36502933]\n",
      "CPU times: user 3.09 s, sys: 408 ms, total: 3.5 s\n",
      "Wall time: 3.01 s\n"
     ]
    }
   ],
   "source": [
    "%%time\n",
    "b_logistic = cp.Variable(k)\n",
    "log_likelihood = cp.sum(\n",
    "    cp.multiply(y_logistic, X_logistic @ b_logistic)\n",
    "    - cp.logistic(X_logistic @ b_logistic)\n",
    ")\n",
    "prob_logistic = cp.Problem(cp.Maximize(log_likelihood))\n",
    "prob_logistic.solve(solver=cp.SCS)\n",
    "print(b_logistic.value)"
   ]
  },
  {
   "cell_type": "markdown",
   "id": "38794806",
   "metadata": {},
   "source": [
    "### statsmodels\n",
    "\n",
    "does IRLS"
   ]
  },
  {
   "cell_type": "code",
   "execution_count": 16,
   "id": "9dad1419",
   "metadata": {},
   "outputs": [
    {
     "name": "stdout",
     "output_type": "stream",
     "text": [
      "Optimization terminated successfully.\n",
      "         Current function value: 0.379271\n",
      "         Iterations 7\n",
      "CPU times: user 434 ms, sys: 739 ms, total: 1.17 s\n",
      "Wall time: 181 ms\n"
     ]
    },
    {
     "data": {
      "text/plain": [
       "array([0.78103852, 0.8975452 , 0.32361818, 0.75455507, 0.06058863,\n",
       "       0.87528454, 0.21365507, 0.90129849, 0.40673921, 0.97992142,\n",
       "       0.30068721, 0.50152611, 0.40801892, 0.97259117, 0.93292288,\n",
       "       0.11679676, 0.31657035, 0.53056071, 0.22217501, 0.36503279])"
      ]
     },
     "execution_count": 16,
     "metadata": {},
     "output_type": "execute_result"
    }
   ],
   "source": [
    "%%time\n",
    "sm.Logit(y_logistic, X_logistic).fit().params"
   ]
  },
  {
   "cell_type": "markdown",
   "id": "546244ad",
   "metadata": {},
   "source": [
    "## Poisson Regression"
   ]
  },
  {
   "cell_type": "code",
   "execution_count": 17,
   "id": "f7c03a51",
   "metadata": {},
   "outputs": [
    {
     "name": "stdout",
     "output_type": "stream",
     "text": [
      "[0.09990002 0.0547525  0.40475966 0.20774043 0.24657925 0.85989722\n",
      " 0.86845961 0.14166248 0.09512955 0.92680615]\n"
     ]
    }
   ],
   "source": [
    "n, k = 100_000, 10\n",
    "# Poisson Regression Data\n",
    "X_poisson = np.random.randn(n, k)\n",
    "print(true_params_poisson := np.random.rand(k))\n",
    "lambda_ = np.exp(X_poisson @ true_params_poisson)\n",
    "y_poisson = np.random.poisson(lambda_)"
   ]
  },
  {
   "cell_type": "markdown",
   "id": "6bcf7888",
   "metadata": {},
   "source": [
    "## pyensmallen"
   ]
  },
  {
   "cell_type": "code",
   "execution_count": 18,
   "id": "ba86a97c",
   "metadata": {},
   "outputs": [],
   "source": [
    "def poisson_objective(params, gradient, X, y):\n",
    "    params = params.reshape(-1, 1)\n",
    "    y = y.reshape(-1, 1)\n",
    "    Xbeta = X @ params\n",
    "    lambda_ = np.exp(Xbeta)\n",
    "    objective = np.sum(lambda_ - np.multiply(y, np.log(lambda_)))\n",
    "    # Compute the gradient\n",
    "    grad = X.T @ (lambda_ - y)\n",
    "    gradient[:] = grad.ravel()\n",
    "    return objective\n",
    "\n",
    "poisson_start = np.random.rand(k)"
   ]
  },
  {
   "cell_type": "code",
   "execution_count": 19,
   "id": "c4c87692",
   "metadata": {},
   "outputs": [
    {
     "name": "stdout",
     "output_type": "stream",
     "text": [
      "[0.0978387  0.05226027 0.40495176 0.20798044 0.24750742 0.85914355\n",
      " 0.86512068 0.14383657 0.09889716 0.92837268]\n",
      "CPU times: user 244 ms, sys: 427 ms, total: 671 ms\n",
      "Wall time: 115 ms\n"
     ]
    }
   ],
   "source": [
    "%%time\n",
    "optimizer = pyensmallen.L_BFGS()\n",
    "result_poisson_ens = optimizer.optimize(\n",
    "    lambda params, gradient: poisson_objective(params, gradient, X_poisson, y_poisson),\n",
    "    poisson_start,\n",
    ")\n",
    "print(result_poisson_ens)"
   ]
  },
  {
   "cell_type": "markdown",
   "id": "f77071ae",
   "metadata": {},
   "source": [
    "### nlopt"
   ]
  },
  {
   "cell_type": "code",
   "execution_count": 20,
   "id": "ad4ac603",
   "metadata": {},
   "outputs": [
    {
     "name": "stderr",
     "output_type": "stream",
     "text": [
      "/tmp/ipykernel_202269/4126034426.py:5: RuntimeWarning: overflow encountered in exp\n",
      "  lambda_ = np.exp(Xbeta)\n",
      "/tmp/ipykernel_202269/4126034426.py:6: RuntimeWarning: divide by zero encountered in log\n",
      "  objective = np.sum(lambda_ - np.multiply(y, np.log(lambda_)))\n",
      "/tmp/ipykernel_202269/4126034426.py:6: RuntimeWarning: invalid value encountered in multiply\n",
      "  objective = np.sum(lambda_ - np.multiply(y, np.log(lambda_)))\n",
      "/tmp/ipykernel_202269/4126034426.py:6: RuntimeWarning: invalid value encountered in subtract\n",
      "  objective = np.sum(lambda_ - np.multiply(y, np.log(lambda_)))\n",
      "/tmp/ipykernel_202269/4126034426.py:8: RuntimeWarning: invalid value encountered in matmul\n",
      "  grad = X.T @ (lambda_ - y)\n",
      "/tmp/ipykernel_202269/4126034426.py:8: RuntimeWarning: overflow encountered in matmul\n",
      "  grad = X.T @ (lambda_ - y)\n"
     ]
    },
    {
     "ename": "RuntimeError",
     "evalue": "nlopt failure",
     "output_type": "error",
     "traceback": [
      "\u001b[0;31m---------------------------------------------------------------------------\u001b[0m",
      "\u001b[0;31mRuntimeError\u001b[0m                              Traceback (most recent call last)",
      "File \u001b[0;32m<timed exec>:4\u001b[0m\n",
      "File \u001b[0;32m~/Repositories/netflix/xp-env/conda/envs/xp-env/lib/python3.10/site-packages/nlopt/nlopt.py:335\u001b[0m, in \u001b[0;36mopt.optimize\u001b[0;34m(self, *args)\u001b[0m\n\u001b[1;32m    334\u001b[0m \u001b[38;5;28;01mdef\u001b[39;00m \u001b[38;5;21moptimize\u001b[39m(\u001b[38;5;28mself\u001b[39m, \u001b[38;5;241m*\u001b[39margs):\n\u001b[0;32m--> 335\u001b[0m     \u001b[38;5;28;01mreturn\u001b[39;00m \u001b[43m_nlopt\u001b[49m\u001b[38;5;241;43m.\u001b[39;49m\u001b[43mopt_optimize\u001b[49m\u001b[43m(\u001b[49m\u001b[38;5;28;43mself\u001b[39;49m\u001b[43m,\u001b[49m\u001b[43m \u001b[49m\u001b[38;5;241;43m*\u001b[39;49m\u001b[43margs\u001b[49m\u001b[43m)\u001b[49m\n",
      "\u001b[0;31mRuntimeError\u001b[0m: nlopt failure"
     ]
    }
   ],
   "source": [
    "%%time\n",
    "opt = nlopt.opt(nlopt.LD_LBFGS, k)\n",
    "opt.set_min_objective(lambda params, gradient: poisson_objective(params, gradient, X_poisson, y_poisson))\n",
    "opt.set_maxeval(100000)\n",
    "result_poisson_nlopt = opt.optimize(poisson_start)\n",
    "print(result_poisson_nlopt)"
   ]
  },
  {
   "cell_type": "markdown",
   "id": "e851e198",
   "metadata": {},
   "source": [
    "### scipy"
   ]
  },
  {
   "cell_type": "code",
   "execution_count": 21,
   "id": "4b00785b",
   "metadata": {},
   "outputs": [
    {
     "name": "stdout",
     "output_type": "stream",
     "text": [
      "[0.09783871 0.05226027 0.40495176 0.20798044 0.24750742 0.85914355\n",
      " 0.86512068 0.14383657 0.09889716 0.92837268]\n",
      "CPU times: user 945 ms, sys: 1.79 s, total: 2.73 s\n",
      "Wall time: 408 ms\n"
     ]
    }
   ],
   "source": [
    "%%time\n",
    "result_poisson_scipy = scipy.optimize.minimize(\n",
    "    fun=lambda b: np.sum(np.exp(X_poisson @ b) - y_poisson * (X_poisson @ b)),\n",
    "    x0=poisson_start,\n",
    "    jac=lambda b: X_poisson.T @ (np.exp(X_poisson @ b) - y_poisson),\n",
    ").x\n",
    "print(result_poisson_scipy)"
   ]
  },
  {
   "cell_type": "markdown",
   "id": "a67b81bc",
   "metadata": {},
   "source": [
    "### cvxpy"
   ]
  },
  {
   "cell_type": "code",
   "execution_count": null,
   "id": "572fcfa1",
   "metadata": {},
   "outputs": [],
   "source": [
    "%%capture\n",
    "b_poisson = cp.Variable(k)\n",
    "z = X_poisson @ b_poisson\n",
    "cost_poisson = cp.sum(cp.exp(z) - cp.multiply(y_poisson, z)) / n\n",
    "prob_poisson = cp.Problem(cp.Minimize(cost_poisson))\n",
    "prob_poisson.solve(solver=cp.SCS)\n",
    "print(b_poisson.value)"
   ]
  },
  {
   "cell_type": "markdown",
   "id": "601a275b",
   "metadata": {},
   "source": [
    "Runs out of memory."
   ]
  },
  {
   "cell_type": "markdown",
   "id": "50088af0",
   "metadata": {},
   "source": [
    "### statsmodels"
   ]
  },
  {
   "cell_type": "code",
   "execution_count": 22,
   "id": "e343e20d",
   "metadata": {},
   "outputs": [
    {
     "name": "stdout",
     "output_type": "stream",
     "text": [
      "Optimization terminated successfully.\n",
      "         Current function value: 1.374653\n",
      "         Iterations 27\n",
      "CPU times: user 1.81 s, sys: 3.58 s, total: 5.39 s\n",
      "Wall time: 838 ms\n"
     ]
    },
    {
     "data": {
      "text/plain": [
       "array([0.09783871, 0.05226027, 0.40495176, 0.20798044, 0.24750742,\n",
       "       0.85914355, 0.86512068, 0.14383657, 0.09889716, 0.92837268])"
      ]
     },
     "execution_count": 22,
     "metadata": {},
     "output_type": "execute_result"
    }
   ],
   "source": [
    "%%time\n",
    "sm.Poisson(y_poisson, X_poisson).fit().params"
   ]
  },
  {
   "cell_type": "markdown",
   "id": "5a950833",
   "metadata": {},
   "source": [
    "Way off."
   ]
  }
 ],
 "metadata": {
  "kernelspec": {
   "display_name": "econometrics",
   "language": "python",
   "name": "python3"
  },
  "language_info": {
   "codemirror_mode": {
    "name": "ipython",
    "version": 3
   },
   "file_extension": ".py",
   "mimetype": "text/x-python",
   "name": "python",
   "nbconvert_exporter": "python",
   "pygments_lexer": "ipython3",
   "version": "3.12.4"
  }
 },
 "nbformat": 4,
 "nbformat_minor": 5
}
