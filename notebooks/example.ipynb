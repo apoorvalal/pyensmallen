{
 "cells": [
  {
   "cell_type": "markdown",
   "id": "4a3a5d5c",
   "metadata": {},
   "source": [
    "# Regression via ERM in `pyensmallen`"
   ]
  },
  {
   "cell_type": "code",
   "execution_count": 1,
   "id": "11982416",
   "metadata": {},
   "outputs": [],
   "source": [
    "import numpy as np\n",
    "import pyensmallen as pe"
   ]
  },
  {
   "cell_type": "code",
   "execution_count": 2,
   "id": "e2785ccf",
   "metadata": {},
   "outputs": [
    {
     "name": "stdout",
     "output_type": "stream",
     "text": [
      "[0.51639859 0.94598022 0.23380001 0.55162275 0.97811966 0.24254699\n",
      " 0.64702478 0.70271041 0.26476461 0.77362184 0.7817448  0.36874977\n",
      " 0.72697004 0.06518613 0.72705723 0.38967364 0.03826155 0.39386005\n",
      " 0.0438693  0.72142769]\n"
     ]
    }
   ],
   "source": [
    "np.random.seed(42)\n",
    "n, k = 1_000_000, 20\n",
    "\n",
    "# Linear Regression Data\n",
    "X_linear = np.random.randn(n, k)\n",
    "print(true_params_linear := np.random.rand(k))\n",
    "y_linear = X_linear @ true_params_linear"
   ]
  },
  {
   "cell_type": "markdown",
   "id": "6836c13a",
   "metadata": {
    "lines_to_next_cell": 2
   },
   "source": [
    "## Linear Regression"
   ]
  },
  {
   "cell_type": "markdown",
   "id": "84089c27",
   "metadata": {},
   "source": [
    "### pyensmallen"
   ]
  },
  {
   "cell_type": "code",
   "execution_count": 3,
   "id": "3df0ec24",
   "metadata": {},
   "outputs": [
    {
     "name": "stdout",
     "output_type": "stream",
     "text": [
      "CPU times: user 6.65 s, sys: 189 ms, total: 6.84 s\n",
      "Wall time: 480 ms\n"
     ]
    },
    {
     "data": {
      "text/plain": [
       "array([0.51639859, 0.94598022, 0.23380001, 0.55162275, 0.97811966,\n",
       "       0.24254699, 0.64702478, 0.70271041, 0.26476461, 0.77362184,\n",
       "       0.7817448 , 0.36874977, 0.72697004, 0.06518613, 0.72705723,\n",
       "       0.38967364, 0.03826155, 0.39386005, 0.0438693 , 0.72142769])"
      ]
     },
     "execution_count": 3,
     "metadata": {},
     "output_type": "execute_result"
    }
   ],
   "source": [
    "%%time\n",
    "linear_start = np.random.rand(k)\n",
    "\n",
    "optimizer = pe.L_BFGS()\n",
    "result_linear_ens = optimizer.optimize(\n",
    "    lambda params, gradient: pe.losses.linear_obj(params, gradient, X_linear, y_linear),\n",
    "    linear_start,\n",
    ")\n",
    "result_linear_ens"
   ]
  },
  {
   "cell_type": "markdown",
   "id": "9c05ef61",
   "metadata": {},
   "source": [
    "## Logistic Regression"
   ]
  },
  {
   "cell_type": "code",
   "execution_count": 4,
   "id": "239ea3d0",
   "metadata": {},
   "outputs": [],
   "source": [
    "from scipy.special import expit"
   ]
  },
  {
   "cell_type": "code",
   "execution_count": 5,
   "id": "3d5449a7",
   "metadata": {},
   "outputs": [
    {
     "name": "stdout",
     "output_type": "stream",
     "text": [
      "[0.89732722 0.75831337 0.56717163 0.34694649 0.80717784 0.58244036\n",
      " 0.87299492 0.41850594 0.1207063  0.98533514 0.94064507 0.7165698\n",
      " 0.34148517 0.21317874 0.24622957 0.77088703 0.99525454 0.92697675\n",
      " 0.85896413 0.96032642]\n"
     ]
    }
   ],
   "source": [
    "# Logistic Regression Data\n",
    "n, k = 10_000, 20\n",
    "X_logistic = np.random.randn(n, k)\n",
    "print(true_params_logistic := np.random.rand(k))\n",
    "p = expit(X_logistic @ true_params_logistic)\n",
    "y_logistic = np.random.binomial(1, p)"
   ]
  },
  {
   "cell_type": "markdown",
   "id": "fd7b3e3e",
   "metadata": {},
   "source": [
    "### pyensmallen"
   ]
  },
  {
   "cell_type": "code",
   "execution_count": 6,
   "id": "add9a17e",
   "metadata": {},
   "outputs": [
    {
     "name": "stdout",
     "output_type": "stream",
     "text": [
      "CPU times: user 8.45 ms, sys: 3.91 ms, total: 12.4 ms\n",
      "Wall time: 11.3 ms\n"
     ]
    },
    {
     "data": {
      "text/plain": [
       "array([0.91787916, 0.78073762, 0.60735961, 0.36399418, 0.72193698,\n",
       "       0.59354801, 0.85939579, 0.36224349, 0.13497476, 0.9933936 ,\n",
       "       0.94503475, 0.6627938 , 0.35080571, 0.24550555, 0.23167949,\n",
       "       0.781631  , 0.95323063, 0.92981989, 0.91296721, 0.99777022])"
      ]
     },
     "execution_count": 6,
     "metadata": {},
     "output_type": "execute_result"
    }
   ],
   "source": [
    "%%time\n",
    "logistic_start = np.random.rand(k)\n",
    "X_logistic2 = np.ascontiguousarray(\n",
    "    X_logistic\n",
    ")  # Ensure C-contiguous array for better performance\n",
    "y_logistic2 = y_logistic.ravel()\n",
    "\n",
    "optimizer = pe.L_BFGS()\n",
    "result_logistic_ens = optimizer.optimize(\n",
    "    lambda params, gradient: pe.losses.logistic_obj(\n",
    "        params, gradient, X_logistic2, y_logistic2\n",
    "    ),\n",
    "    logistic_start,\n",
    ")\n",
    "result_logistic_ens"
   ]
  },
  {
   "cell_type": "markdown",
   "id": "546244ad",
   "metadata": {},
   "source": [
    "## Poisson Regression"
   ]
  },
  {
   "cell_type": "code",
   "execution_count": 7,
   "id": "f7c03a51",
   "metadata": {},
   "outputs": [
    {
     "name": "stdout",
     "output_type": "stream",
     "text": [
      "[0.46622737 0.27893256 0.1526658  0.04174791 0.46506248 0.03016092\n",
      " 0.94782085 0.33601329 0.11498335 0.72554644]\n"
     ]
    }
   ],
   "source": [
    "n, k = 100_000, 10\n",
    "# Poisson Regression Data\n",
    "X_poisson = np.random.randn(n, k)\n",
    "print(true_params_poisson := np.random.rand(k))\n",
    "lambda_ = np.exp(X_poisson @ true_params_poisson)\n",
    "y_poisson = np.random.poisson(lambda_)"
   ]
  },
  {
   "cell_type": "code",
   "execution_count": 8,
   "id": "ba86a97c",
   "metadata": {},
   "outputs": [
    {
     "name": "stdout",
     "output_type": "stream",
     "text": [
      "CPU times: user 1.51 s, sys: 3.79 ms, total: 1.52 s\n",
      "Wall time: 115 ms\n"
     ]
    },
    {
     "data": {
      "text/plain": [
       "array([0.46785229, 0.27548319, 0.15101541, 0.03977385, 0.46631077,\n",
       "       0.03272198, 0.94846943, 0.33680279, 0.1201882 , 0.72804329])"
      ]
     },
     "execution_count": 8,
     "metadata": {},
     "output_type": "execute_result"
    }
   ],
   "source": [
    "%%time\n",
    "poisson_start = np.random.rand(k)\n",
    "optimizer = pe.L_BFGS()\n",
    "result_poisson_ens = optimizer.optimize(\n",
    "    lambda params, gradient: pe.poisson_obj(params, gradient, X_poisson, y_poisson),\n",
    "    poisson_start,\n",
    ")\n",
    "result_poisson_ens\n"
   ]
  }
 ],
 "metadata": {
  "kernelspec": {
   "display_name": "metrics",
   "language": "python",
   "name": "python3"
  },
  "language_info": {
   "codemirror_mode": {
    "name": "ipython",
    "version": 3
   },
   "file_extension": ".py",
   "mimetype": "text/x-python",
   "name": "python",
   "nbconvert_exporter": "python",
   "pygments_lexer": "ipython3",
   "version": "3.12.6"
  }
 },
 "nbformat": 4,
 "nbformat_minor": 5
}
