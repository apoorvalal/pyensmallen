{
 "cells": [
  {
   "cell_type": "code",
   "execution_count": 1,
   "metadata": {},
   "outputs": [],
   "source": [
    "import numpy as np\n",
    "import jax\n",
    "import pyensmallen as pe\n",
    "jax.config.update(\"jax_enable_x64\", True)\n"
   ]
  },
  {
   "cell_type": "markdown",
   "metadata": {},
   "source": [
    "## Linear IV\n",
    "\n",
    "The linear moment condition $z (y - x\\beta)$ is attached as a static-method (`iv_moment`) to the class for convenience. This covers OLS and 2SLS."
   ]
  },
  {
   "cell_type": "code",
   "execution_count": 2,
   "metadata": {},
   "outputs": [],
   "source": [
    "# Generate synthetic data for IV estimation\n",
    "def generate_test_data(n=5000, seed=42):\n",
    "    np.random.seed(seed)\n",
    "\n",
    "    # Generate instruments\n",
    "    z1 = np.random.normal(0, 1, n)\n",
    "    z2 = np.random.normal(0, 1, n)\n",
    "    Z = np.column_stack([np.ones(n), z1, z2])\n",
    "\n",
    "    # Generate error terms with correlation\n",
    "    error = np.random.normal(0, 1, n)\n",
    "    v = 0.7 * error + np.random.normal(0, 0.5, n)\n",
    "\n",
    "    # Generate endogenous variable\n",
    "    x = 0.5 * z1 - 0.2 * z2 + v\n",
    "    X = np.column_stack([np.ones(n), x])\n",
    "\n",
    "    # Generate outcome\n",
    "    true_beta = np.array([-0.5, 1.2])\n",
    "    y = X @ true_beta + error\n",
    "\n",
    "    return y, X, Z, true_beta"
   ]
  },
  {
   "cell_type": "code",
   "execution_count": 3,
   "metadata": {},
   "outputs": [
    {
     "name": "stdout",
     "output_type": "stream",
     "text": [
      "\n",
      "GMM Results:\n",
      "True parameters: [-0.5  1.2]\n",
      "Estimated parameters: [-0.48933885  1.19956026]\n",
      "Standard errors: [0.01412415 0.02603365]\n"
     ]
    }
   ],
   "source": [
    "# Generate test data\n",
    "y, X, Z, true_beta = generate_test_data()\n",
    "\n",
    "# Create and fit GMM estimator\n",
    "gmm = pe.EnsmallenEstimator(pe.EnsmallenEstimator.iv_moment, \"optimal\")\n",
    "gmm.fit(Z, y, X, verbose=True)\n",
    "\n",
    "# Display results\n",
    "print(\"\\nGMM Results:\")\n",
    "print(f\"True parameters: {true_beta}\")\n",
    "print(f\"Estimated parameters: {gmm.theta_}\")\n",
    "print(f\"Standard errors: {gmm.std_errors_}\")"
   ]
  },
  {
   "cell_type": "markdown",
   "metadata": {},
   "source": [
    "#### slow bootstrap that bootstraps the whole procedure"
   ]
  },
  {
   "cell_type": "code",
   "execution_count": 4,
   "metadata": {},
   "outputs": [
    {
     "name": "stdout",
     "output_type": "stream",
     "text": [
      "CPU times: user 2.27 s, sys: 24.9 ms, total: 2.3 s\n",
      "Wall time: 443 ms\n"
     ]
    },
    {
     "data": {
      "text/html": [
       "<div>\n",
       "<style scoped>\n",
       "    .dataframe tbody tr th:only-of-type {\n",
       "        vertical-align: middle;\n",
       "    }\n",
       "\n",
       "    .dataframe tbody tr th {\n",
       "        vertical-align: top;\n",
       "    }\n",
       "\n",
       "    .dataframe thead th {\n",
       "        text-align: right;\n",
       "    }\n",
       "</style>\n",
       "<table border=\"1\" class=\"dataframe\">\n",
       "  <thead>\n",
       "    <tr style=\"text-align: right;\">\n",
       "      <th></th>\n",
       "      <th>parameter</th>\n",
       "      <th>coef</th>\n",
       "      <th>std err</th>\n",
       "      <th>t</th>\n",
       "      <th>p-value</th>\n",
       "      <th>[0.025</th>\n",
       "      <th>0.975]</th>\n",
       "      <th>boot_se</th>\n",
       "      <th>ratio</th>\n",
       "    </tr>\n",
       "  </thead>\n",
       "  <tbody>\n",
       "    <tr>\n",
       "      <th>0</th>\n",
       "      <td>θ_0</td>\n",
       "      <td>-0.4893</td>\n",
       "      <td>0.0141</td>\n",
       "      <td>-34.6456</td>\n",
       "      <td>0.0</td>\n",
       "      <td>-0.5170</td>\n",
       "      <td>-0.4617</td>\n",
       "      <td>0.0141</td>\n",
       "      <td>0.9980</td>\n",
       "    </tr>\n",
       "    <tr>\n",
       "      <th>1</th>\n",
       "      <td>θ_1</td>\n",
       "      <td>1.1996</td>\n",
       "      <td>0.0260</td>\n",
       "      <td>46.0773</td>\n",
       "      <td>0.0</td>\n",
       "      <td>1.1485</td>\n",
       "      <td>1.2506</td>\n",
       "      <td>0.0255</td>\n",
       "      <td>0.9796</td>\n",
       "    </tr>\n",
       "  </tbody>\n",
       "</table>\n",
       "</div>"
      ],
      "text/plain": [
       "  parameter    coef  std err        t  p-value  [0.025  0.975]  boot_se  \\\n",
       "0       θ_0 -0.4893   0.0141 -34.6456      0.0 -0.5170 -0.4617   0.0141   \n",
       "1       θ_1  1.1996   0.0260  46.0773      0.0  1.1485  1.2506   0.0255   \n",
       "\n",
       "    ratio  \n",
       "0  0.9980  \n",
       "1  0.9796  "
      ]
     },
     "execution_count": 4,
     "metadata": {},
     "output_type": "execute_result"
    }
   ],
   "source": [
    "%%time\n",
    "\n",
    "# Get fast bootstrap standard errors\n",
    "bootstrap_se = gmm.bootstrap_scores(n_bootstrap=1000)\n",
    "\n",
    "# View results\n",
    "gmm.summary()"
   ]
  },
  {
   "cell_type": "markdown",
   "metadata": {},
   "source": [
    "#### fast bootstrap that bootstraps the influence function"
   ]
  },
  {
   "cell_type": "code",
   "execution_count": 5,
   "metadata": {},
   "outputs": [
    {
     "name": "stdout",
     "output_type": "stream",
     "text": [
      "CPU times: user 51.8 s, sys: 962 ms, total: 52.8 s\n",
      "Wall time: 22.8 s\n"
     ]
    },
    {
     "data": {
      "text/html": [
       "<div>\n",
       "<style scoped>\n",
       "    .dataframe tbody tr th:only-of-type {\n",
       "        vertical-align: middle;\n",
       "    }\n",
       "\n",
       "    .dataframe tbody tr th {\n",
       "        vertical-align: top;\n",
       "    }\n",
       "\n",
       "    .dataframe thead th {\n",
       "        text-align: right;\n",
       "    }\n",
       "</style>\n",
       "<table border=\"1\" class=\"dataframe\">\n",
       "  <thead>\n",
       "    <tr style=\"text-align: right;\">\n",
       "      <th></th>\n",
       "      <th>parameter</th>\n",
       "      <th>coef</th>\n",
       "      <th>std err</th>\n",
       "      <th>t</th>\n",
       "      <th>p-value</th>\n",
       "      <th>[0.025</th>\n",
       "      <th>0.975]</th>\n",
       "      <th>boot_se</th>\n",
       "      <th>ratio</th>\n",
       "    </tr>\n",
       "  </thead>\n",
       "  <tbody>\n",
       "    <tr>\n",
       "      <th>0</th>\n",
       "      <td>θ_0</td>\n",
       "      <td>-0.4893</td>\n",
       "      <td>0.0141</td>\n",
       "      <td>-34.6456</td>\n",
       "      <td>0.0</td>\n",
       "      <td>-0.5170</td>\n",
       "      <td>-0.4617</td>\n",
       "      <td>0.0154</td>\n",
       "      <td>1.0909</td>\n",
       "    </tr>\n",
       "    <tr>\n",
       "      <th>1</th>\n",
       "      <td>θ_1</td>\n",
       "      <td>1.1996</td>\n",
       "      <td>0.0260</td>\n",
       "      <td>46.0773</td>\n",
       "      <td>0.0</td>\n",
       "      <td>1.1485</td>\n",
       "      <td>1.2506</td>\n",
       "      <td>0.0259</td>\n",
       "      <td>0.9965</td>\n",
       "    </tr>\n",
       "  </tbody>\n",
       "</table>\n",
       "</div>"
      ],
      "text/plain": [
       "  parameter    coef  std err        t  p-value  [0.025  0.975]  boot_se  \\\n",
       "0       θ_0 -0.4893   0.0141 -34.6456      0.0 -0.5170 -0.4617   0.0154   \n",
       "1       θ_1  1.1996   0.0260  46.0773      0.0  1.1485  1.2506   0.0259   \n",
       "\n",
       "    ratio  \n",
       "0  1.0909  \n",
       "1  0.9965  "
      ]
     },
     "execution_count": 5,
     "metadata": {},
     "output_type": "execute_result"
    }
   ],
   "source": [
    "%%time\n",
    "bootstrap_se = gmm.bootstrap_full(n_bootstrap=100, seed=42, verbose=False)\n",
    "\n",
    "gmm.summary()"
   ]
  },
  {
   "cell_type": "markdown",
   "metadata": {},
   "source": [
    "## Logit"
   ]
  },
  {
   "cell_type": "code",
   "execution_count": 6,
   "metadata": {},
   "outputs": [],
   "source": [
    "# logit DGP\n",
    "n = 1000\n",
    "p = 2\n",
    "X = np.random.normal(size=(n, p))\n",
    "X = np.c_[np.ones(n), X]\n",
    "beta = np.array([0.5, -0.5, 0.5])\n",
    "y = np.random.binomial(1, 1 / (1 + np.exp(-X @ beta)))\n",
    "Z = X.copy()"
   ]
  },
  {
   "cell_type": "code",
   "execution_count": 7,
   "metadata": {},
   "outputs": [
    {
     "name": "stdout",
     "output_type": "stream",
     "text": [
      "Parameters:  [ 0.51176059 -0.4413885   0.42650761]\n"
     ]
    }
   ],
   "source": [
    "import statsmodels.api as sm\n",
    "logit_mod = sm.Logit(y, X)\n",
    "logit_res = logit_mod.fit(disp=0)\n",
    "print(\"Parameters: \", logit_res.params)"
   ]
  },
  {
   "cell_type": "markdown",
   "metadata": {},
   "source": [
    "### nonlinear GMM with ensmallen\n",
    "\n",
    "define moment condition (in jax-compatible terms)"
   ]
  },
  {
   "cell_type": "code",
   "execution_count": 8,
   "metadata": {},
   "outputs": [],
   "source": [
    "import jax.numpy as jnp\n",
    "import jax.scipy.special as jsp\n",
    "\n",
    "def ψ_logit(z, y, x, beta):\n",
    "    # Use jax.scipy.special.expit instead of scipy.special.expit\n",
    "    resid = y - jsp.expit(x @ beta)\n",
    "    return z * resid[:, jnp.newaxis]"
   ]
  },
  {
   "cell_type": "code",
   "execution_count": 9,
   "metadata": {},
   "outputs": [
    {
     "name": "stdout",
     "output_type": "stream",
     "text": [
      "True parameters: [ 0.5 -0.5  0.5]\n",
      "Estimated parameters: [ 0.51176057 -0.44138837  0.42650768]\n",
      "Standard errors: [0.06817014 0.07033721 0.06615554]\n"
     ]
    }
   ],
   "source": [
    "# Create and fit GMM estimator\n",
    "gmm = pe.EnsmallenEstimator(ψ_logit, \"optimal\")\n",
    "gmm.fit(Z, y, X, verbose=True)\n",
    "\n",
    "# Display results\n",
    "print(f\"True parameters: {beta}\")\n",
    "print(f\"Estimated parameters: {gmm.theta_}\")\n",
    "print(f\"Standard errors: {gmm.std_errors_}\")"
   ]
  },
  {
   "cell_type": "code",
   "execution_count": 10,
   "metadata": {},
   "outputs": [
    {
     "name": "stdout",
     "output_type": "stream",
     "text": [
      "CPU times: user 802 ms, sys: 28 ms, total: 830 ms\n",
      "Wall time: 692 ms\n"
     ]
    },
    {
     "data": {
      "text/html": [
       "<div>\n",
       "<style scoped>\n",
       "    .dataframe tbody tr th:only-of-type {\n",
       "        vertical-align: middle;\n",
       "    }\n",
       "\n",
       "    .dataframe tbody tr th {\n",
       "        vertical-align: top;\n",
       "    }\n",
       "\n",
       "    .dataframe thead th {\n",
       "        text-align: right;\n",
       "    }\n",
       "</style>\n",
       "<table border=\"1\" class=\"dataframe\">\n",
       "  <thead>\n",
       "    <tr style=\"text-align: right;\">\n",
       "      <th></th>\n",
       "      <th>parameter</th>\n",
       "      <th>coef</th>\n",
       "      <th>std err</th>\n",
       "      <th>t</th>\n",
       "      <th>p-value</th>\n",
       "      <th>[0.025</th>\n",
       "      <th>0.975]</th>\n",
       "      <th>boot_se</th>\n",
       "      <th>ratio</th>\n",
       "    </tr>\n",
       "  </thead>\n",
       "  <tbody>\n",
       "    <tr>\n",
       "      <th>0</th>\n",
       "      <td>θ_0</td>\n",
       "      <td>0.5118</td>\n",
       "      <td>0.0682</td>\n",
       "      <td>7.5071</td>\n",
       "      <td>0.0</td>\n",
       "      <td>0.3781</td>\n",
       "      <td>0.6454</td>\n",
       "      <td>0.0707</td>\n",
       "      <td>1.0366</td>\n",
       "    </tr>\n",
       "    <tr>\n",
       "      <th>1</th>\n",
       "      <td>θ_1</td>\n",
       "      <td>-0.4414</td>\n",
       "      <td>0.0703</td>\n",
       "      <td>-6.2753</td>\n",
       "      <td>0.0</td>\n",
       "      <td>-0.5792</td>\n",
       "      <td>-0.3035</td>\n",
       "      <td>0.0700</td>\n",
       "      <td>0.9949</td>\n",
       "    </tr>\n",
       "    <tr>\n",
       "      <th>2</th>\n",
       "      <td>θ_2</td>\n",
       "      <td>0.4265</td>\n",
       "      <td>0.0662</td>\n",
       "      <td>6.4470</td>\n",
       "      <td>0.0</td>\n",
       "      <td>0.2968</td>\n",
       "      <td>0.5562</td>\n",
       "      <td>0.0665</td>\n",
       "      <td>1.0048</td>\n",
       "    </tr>\n",
       "  </tbody>\n",
       "</table>\n",
       "</div>"
      ],
      "text/plain": [
       "  parameter    coef  std err       t  p-value  [0.025  0.975]  boot_se   ratio\n",
       "0       θ_0  0.5118   0.0682  7.5071      0.0  0.3781  0.6454   0.0707  1.0366\n",
       "1       θ_1 -0.4414   0.0703 -6.2753      0.0 -0.5792 -0.3035   0.0700  0.9949\n",
       "2       θ_2  0.4265   0.0662  6.4470      0.0  0.2968  0.5562   0.0665  1.0048"
      ]
     },
     "execution_count": 10,
     "metadata": {},
     "output_type": "execute_result"
    }
   ],
   "source": [
    "%%time\n",
    "\n",
    "# Get fast bootstrap standard errors\n",
    "bootstrap_se = gmm.bootstrap_scores(n_bootstrap=1000)\n",
    "\n",
    "# View results\n",
    "gmm.summary()"
   ]
  }
 ],
 "metadata": {
  "kernelspec": {
   "display_name": ".venv",
   "language": "python",
   "name": "python3"
  },
  "language_info": {
   "codemirror_mode": {
    "name": "ipython",
    "version": 3
   },
   "file_extension": ".py",
   "mimetype": "text/x-python",
   "name": "python",
   "nbconvert_exporter": "python",
   "pygments_lexer": "ipython3",
   "version": "3.12.5"
  }
 },
 "nbformat": 4,
 "nbformat_minor": 2
}
