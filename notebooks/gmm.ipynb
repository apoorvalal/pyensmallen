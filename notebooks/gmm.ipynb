{
 "cells": [
  {
   "cell_type": "code",
   "execution_count": 1,
   "metadata": {},
   "outputs": [],
   "source": [
    "import numpy as np\n",
    "import jax\n",
    "import pyensmallen as pe\n",
    "\n",
    "jax.config.update(\"jax_enable_x64\", True)"
   ]
  },
  {
   "cell_type": "markdown",
   "metadata": {},
   "source": [
    "## Linear IV\n",
    "\n",
    "The linear moment condition $z (y - x\\beta)$ is attached as a static-method (`iv_moment`) to the class for convenience. This covers OLS and 2SLS."
   ]
  },
  {
   "cell_type": "code",
   "execution_count": 2,
   "metadata": {},
   "outputs": [],
   "source": [
    "# Generate synthetic data for IV estimation\n",
    "def generate_test_data(n=5000, seed=42):\n",
    "    np.random.seed(seed)\n",
    "\n",
    "    # Generate instruments\n",
    "    z1 = np.random.normal(0, 1, n)\n",
    "    z2 = np.random.normal(0, 1, n)\n",
    "    Z = np.column_stack([np.ones(n), z1, z2])\n",
    "\n",
    "    # Generate error terms with correlation\n",
    "    error = np.random.normal(0, 1, n)\n",
    "    v = 0.7 * error + np.random.normal(0, 0.5, n)\n",
    "\n",
    "    # Generate endogenous variable\n",
    "    x = 0.5 * z1 - 0.2 * z2 + v\n",
    "    X = np.column_stack([np.ones(n), x])\n",
    "\n",
    "    # Generate outcome\n",
    "    true_beta = np.array([-0.5, 1.2])\n",
    "    y = X @ true_beta + error\n",
    "\n",
    "    return y, X, Z, true_beta"
   ]
  },
  {
   "cell_type": "code",
   "execution_count": 3,
   "metadata": {},
   "outputs": [
    {
     "name": "stdout",
     "output_type": "stream",
     "text": [
      "\n",
      "GMM Results:\n",
      "True parameters: [-0.5  1.2]\n",
      "Estimated parameters: [-0.48933885  1.19956026]\n",
      "Standard errors: [0.01412415 0.02603365]\n"
     ]
    }
   ],
   "source": [
    "# Generate test data\n",
    "y, X, Z, true_beta = generate_test_data()\n",
    "\n",
    "# Create and fit GMM estimator\n",
    "gmm = pe.EnsmallenEstimator(pe.EnsmallenEstimator.iv_moment, \"optimal\")\n",
    "gmm.fit(Z, y, X, verbose=True)\n",
    "\n",
    "# Display results\n",
    "print(\"\\nGMM Results:\")\n",
    "print(f\"True parameters: {true_beta}\")\n",
    "print(f\"Estimated parameters: {gmm.theta_}\")\n",
    "print(f\"Standard errors: {gmm.std_errors_}\")"
   ]
  },
  {
   "cell_type": "markdown",
   "metadata": {},
   "source": [
    "#### Fast bootstrap that bootstraps the score / influence function"
   ]
  },
  {
   "cell_type": "code",
   "execution_count": 4,
   "metadata": {},
   "outputs": [
    {
     "name": "stdout",
     "output_type": "stream",
     "text": [
      "CPU times: user 671 ms, sys: 1.28 ms, total: 672 ms\n",
      "Wall time: 671 ms\n"
     ]
    }
   ],
   "source": [
    "%%time\n",
    "\n",
    "# Get fast bootstrap standard errors\n",
    "fast_bootstrap_se = gmm.bootstrap_scores(n_bootstrap=1000)"
   ]
  },
  {
   "cell_type": "markdown",
   "metadata": {},
   "source": [
    "#### Slow bootstrap that bootstraps the whole procedure"
   ]
  },
  {
   "cell_type": "code",
   "execution_count": 5,
   "metadata": {},
   "outputs": [
    {
     "name": "stdout",
     "output_type": "stream",
     "text": [
      "CPU times: user 2min 32s, sys: 2.59 s, total: 2min 34s\n",
      "Wall time: 1min 39s\n"
     ]
    }
   ],
   "source": [
    "%%time\n",
    "slow_bootstrap_se = gmm.bootstrap_full(n_bootstrap=100, seed=42, verbose=False)"
   ]
  },
  {
   "cell_type": "code",
   "execution_count": 6,
   "metadata": {},
   "outputs": [
    {
     "data": {
      "text/html": [
       "<div>\n",
       "<style scoped>\n",
       "    .dataframe tbody tr th:only-of-type {\n",
       "        vertical-align: middle;\n",
       "    }\n",
       "\n",
       "    .dataframe tbody tr th {\n",
       "        vertical-align: top;\n",
       "    }\n",
       "\n",
       "    .dataframe thead th {\n",
       "        text-align: right;\n",
       "    }\n",
       "</style>\n",
       "<table border=\"1\" class=\"dataframe\">\n",
       "  <thead>\n",
       "    <tr style=\"text-align: right;\">\n",
       "      <th></th>\n",
       "      <th>True</th>\n",
       "      <th>Point Estimate</th>\n",
       "      <th>Analytic</th>\n",
       "      <th>Fast Bootstrap</th>\n",
       "      <th>Slow Bootstrap</th>\n",
       "    </tr>\n",
       "  </thead>\n",
       "  <tbody>\n",
       "    <tr>\n",
       "      <th>0</th>\n",
       "      <td>-0.5</td>\n",
       "      <td>-0.489339</td>\n",
       "      <td>0.014124</td>\n",
       "      <td>0.014096</td>\n",
       "      <td>0.015408</td>\n",
       "    </tr>\n",
       "    <tr>\n",
       "      <th>1</th>\n",
       "      <td>1.2</td>\n",
       "      <td>1.199560</td>\n",
       "      <td>0.026034</td>\n",
       "      <td>0.025503</td>\n",
       "      <td>0.025942</td>\n",
       "    </tr>\n",
       "  </tbody>\n",
       "</table>\n",
       "</div>"
      ],
      "text/plain": [
       "   True  Point Estimate  Analytic  Fast Bootstrap  Slow Bootstrap\n",
       "0  -0.5       -0.489339  0.014124        0.014096        0.015408\n",
       "1   1.2        1.199560  0.026034        0.025503        0.025942"
      ]
     },
     "execution_count": 6,
     "metadata": {},
     "output_type": "execute_result"
    }
   ],
   "source": [
    "import pandas as pd\n",
    "pd.DataFrame(\n",
    "    np.c_[true_beta, gmm.theta_, gmm.std_errors_, fast_bootstrap_se, slow_bootstrap_se],\n",
    "    columns=[\"True\", \"Point Estimate\", \"Analytic\", \"Fast Bootstrap\", \"Slow Bootstrap\"],\n",
    ")"
   ]
  },
  {
   "cell_type": "markdown",
   "metadata": {},
   "source": [
    "## Nonlinear GMM: Logit"
   ]
  },
  {
   "cell_type": "code",
   "execution_count": 7,
   "metadata": {},
   "outputs": [],
   "source": [
    "# logit DGP\n",
    "n = 1000\n",
    "p = 2\n",
    "X = np.random.normal(size=(n, p))\n",
    "X = np.c_[np.ones(n), X]\n",
    "beta = np.array([0.5, -0.5, 0.5])\n",
    "y = np.random.binomial(1, 1 / (1 + np.exp(-X @ beta)))\n",
    "Z = X.copy()"
   ]
  },
  {
   "cell_type": "markdown",
   "metadata": {},
   "source": [
    "IWLS solution"
   ]
  },
  {
   "cell_type": "code",
   "execution_count": 8,
   "metadata": {},
   "outputs": [
    {
     "name": "stdout",
     "output_type": "stream",
     "text": [
      "Parameters:  [ 0.51176059 -0.4413885   0.42650761]\n"
     ]
    }
   ],
   "source": [
    "import statsmodels.api as sm\n",
    "logit_mod = sm.Logit(y, X)\n",
    "logit_res = logit_mod.fit(disp=0)\n",
    "print(\"Parameters: \", logit_res.params)"
   ]
  },
  {
   "cell_type": "markdown",
   "metadata": {},
   "source": [
    "### nonlinear GMM with ensmallen\n",
    "\n",
    "define moment condition (in jax-compatible terms)"
   ]
  },
  {
   "cell_type": "code",
   "execution_count": 9,
   "metadata": {},
   "outputs": [],
   "source": [
    "import jax.numpy as jnp\n",
    "import jax.scipy.special as jsp\n",
    "\n",
    "def ψ_logit(z, y, x, beta):\n",
    "    # Use jax.scipy.special.expit instead of scipy.special.expit\n",
    "    resid = y - jsp.expit(x @ beta)\n",
    "    return z * resid[:, jnp.newaxis]"
   ]
  },
  {
   "cell_type": "code",
   "execution_count": 10,
   "metadata": {},
   "outputs": [
    {
     "name": "stdout",
     "output_type": "stream",
     "text": [
      "True parameters: [ 0.5 -0.5  0.5]\n",
      "Estimated parameters: [ 0.51176057 -0.44138837  0.42650768]\n",
      "Standard errors: [0.06817014 0.07033721 0.06615554]\n"
     ]
    }
   ],
   "source": [
    "# Create and fit GMM estimator\n",
    "gmm = pe.EnsmallenEstimator(ψ_logit, \"optimal\")\n",
    "gmm.fit(Z, y, X, verbose=True)\n",
    "\n",
    "# Display results\n",
    "print(f\"True parameters: {beta}\")\n",
    "print(f\"Estimated parameters: {gmm.theta_}\")\n",
    "print(f\"Standard errors: {gmm.std_errors_}\")"
   ]
  },
  {
   "cell_type": "code",
   "execution_count": 14,
   "metadata": {},
   "outputs": [
    {
     "name": "stdout",
     "output_type": "stream",
     "text": [
      "CPU times: user 2.78 s, sys: 61 ms, total: 2.85 s\n",
      "Wall time: 2.37 s\n"
     ]
    }
   ],
   "source": [
    "%%time\n",
    "\n",
    "# Get fast bootstrap standard errors\n",
    "bootstrap_se = gmm.bootstrap_scores(n_bootstrap=1000)"
   ]
  },
  {
   "cell_type": "code",
   "execution_count": 15,
   "metadata": {},
   "outputs": [
    {
     "data": {
      "text/html": [
       "<div>\n",
       "<style scoped>\n",
       "    .dataframe tbody tr th:only-of-type {\n",
       "        vertical-align: middle;\n",
       "    }\n",
       "\n",
       "    .dataframe tbody tr th {\n",
       "        vertical-align: top;\n",
       "    }\n",
       "\n",
       "    .dataframe thead th {\n",
       "        text-align: right;\n",
       "    }\n",
       "</style>\n",
       "<table border=\"1\" class=\"dataframe\">\n",
       "  <thead>\n",
       "    <tr style=\"text-align: right;\">\n",
       "      <th></th>\n",
       "      <th>True</th>\n",
       "      <th>IWLS Sol</th>\n",
       "      <th>GMM Sol</th>\n",
       "      <th>Analytic</th>\n",
       "      <th>Fast Bootstrap</th>\n",
       "    </tr>\n",
       "  </thead>\n",
       "  <tbody>\n",
       "    <tr>\n",
       "      <th>0</th>\n",
       "      <td>0.5</td>\n",
       "      <td>0.511761</td>\n",
       "      <td>0.511761</td>\n",
       "      <td>0.068170</td>\n",
       "      <td>0.067359</td>\n",
       "    </tr>\n",
       "    <tr>\n",
       "      <th>1</th>\n",
       "      <td>-0.5</td>\n",
       "      <td>-0.441389</td>\n",
       "      <td>-0.441388</td>\n",
       "      <td>0.070337</td>\n",
       "      <td>0.070655</td>\n",
       "    </tr>\n",
       "    <tr>\n",
       "      <th>2</th>\n",
       "      <td>0.5</td>\n",
       "      <td>0.426508</td>\n",
       "      <td>0.426508</td>\n",
       "      <td>0.066156</td>\n",
       "      <td>0.066174</td>\n",
       "    </tr>\n",
       "  </tbody>\n",
       "</table>\n",
       "</div>"
      ],
      "text/plain": [
       "   True  IWLS Sol   GMM Sol  Analytic  Fast Bootstrap\n",
       "0   0.5  0.511761  0.511761  0.068170        0.067359\n",
       "1  -0.5 -0.441389 -0.441388  0.070337        0.070655\n",
       "2   0.5  0.426508  0.426508  0.066156        0.066174"
      ]
     },
     "execution_count": 15,
     "metadata": {},
     "output_type": "execute_result"
    }
   ],
   "source": [
    "pd.DataFrame(\n",
    "    np.c_[beta, logit_res.params, gmm.theta_, gmm.std_errors_, bootstrap_se],\n",
    "    columns=[\"True\", \"IWLS Sol\", \"GMM Sol\", \"Analytic\", \"Fast Bootstrap\"],\n",
    ")"
   ]
  }
 ],
 "metadata": {
  "kernelspec": {
   "display_name": "metrics",
   "language": "python",
   "name": "python3"
  },
  "language_info": {
   "codemirror_mode": {
    "name": "ipython",
    "version": 3
   },
   "file_extension": ".py",
   "mimetype": "text/x-python",
   "name": "python",
   "nbconvert_exporter": "python",
   "pygments_lexer": "ipython3",
   "version": "3.13.3"
  }
 },
 "nbformat": 4,
 "nbformat_minor": 2
}
