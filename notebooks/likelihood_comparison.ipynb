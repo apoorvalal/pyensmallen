{
 "cells": [
  {
   "cell_type": "markdown",
   "id": "dc9fb1a2",
   "metadata": {},
   "source": [
    "# Benchmarking `pyensmallen` for m-estimation\n",
    "\n",
    "LBFGS works well for most smooth convex functions, notably a convex loss such as a likelihood. I generally find that optimization convergence is so fast that bootstrapping the entire procedure may be feasible.\n",
    "\n",
    "Benchmarks against several popular optimization libraries. `pyensmallen` can serve as a fast drop-in replacement for in-memory optimisation problems where you would otherwise have used scipy or cvxpy."
   ]
  },
  {
   "cell_type": "code",
   "execution_count": 1,
   "id": "11982416",
   "metadata": {
    "execution": {
     "iopub.execute_input": "2024-11-11T19:45:47.204686Z",
     "iopub.status.busy": "2024-11-11T19:45:47.204538Z",
     "iopub.status.idle": "2024-11-11T19:45:47.878104Z",
     "shell.execute_reply": "2024-11-11T19:45:47.877499Z",
     "shell.execute_reply.started": "2024-11-11T19:45:47.204671Z"
    }
   },
   "outputs": [],
   "source": [
    "import numpy as np\n",
    "import pandas as pd\n",
    "import pyensmallen\n",
    "import scipy.optimize\n",
    "import cvxpy as cp\n",
    "from scipy.special import expit\n",
    "import time\n",
    "\n",
    "import statsmodels.api as sm"
   ]
  },
  {
   "cell_type": "code",
   "execution_count": 2,
   "id": "d88d6eac",
   "metadata": {
    "execution": {
     "iopub.execute_input": "2024-11-11T19:45:47.879043Z",
     "iopub.status.busy": "2024-11-11T19:45:47.878788Z",
     "iopub.status.idle": "2024-11-11T19:45:48.283199Z",
     "shell.execute_reply": "2024-11-11T19:45:48.282617Z",
     "shell.execute_reply.started": "2024-11-11T19:45:47.879028Z"
    }
   },
   "outputs": [],
   "source": [
    "import jax\n",
    "import jax.numpy as jnp\n",
    "import optax\n",
    "import functools\n",
    "jax.config.update(\"jax_enable_x64\", True)"
   ]
  },
  {
   "cell_type": "markdown",
   "id": "5356965f",
   "metadata": {},
   "source": [
    "## Data Generation"
   ]
  },
  {
   "cell_type": "code",
   "execution_count": 3,
   "id": "e2785ccf",
   "metadata": {
    "execution": {
     "iopub.execute_input": "2024-11-11T19:45:48.284148Z",
     "iopub.status.busy": "2024-11-11T19:45:48.283898Z",
     "iopub.status.idle": "2024-11-11T19:45:48.609165Z",
     "shell.execute_reply": "2024-11-11T19:45:48.608471Z",
     "shell.execute_reply.started": "2024-11-11T19:45:48.284133Z"
    }
   },
   "outputs": [
    {
     "name": "stdout",
     "output_type": "stream",
     "text": [
      "[0.51639859 0.94598022 0.23380001 0.55162275 0.97811966 0.24254699\n",
      " 0.64702478 0.70271041 0.26476461 0.77362184 0.7817448  0.36874977\n",
      " 0.72697004 0.06518613 0.72705723 0.38967364 0.03826155 0.39386005\n",
      " 0.0438693  0.72142769]\n"
     ]
    }
   ],
   "source": [
    "np.random.seed(42)\n",
    "n, k = 1_000_000, 20\n",
    "\n",
    "# Linear Regression Data\n",
    "X_linear = np.random.randn(n, k)\n",
    "print(true_params_linear := np.random.rand(k))\n",
    "y_linear = X_linear @ true_params_linear"
   ]
  },
  {
   "cell_type": "markdown",
   "id": "6836c13a",
   "metadata": {
    "lines_to_next_cell": 2
   },
   "source": [
    "## Linear Regression"
   ]
  },
  {
   "cell_type": "markdown",
   "id": "84089c27",
   "metadata": {},
   "source": [
    "### pyensmallen"
   ]
  },
  {
   "cell_type": "code",
   "execution_count": 4,
   "id": "3df0ec24",
   "metadata": {
    "execution": {
     "iopub.execute_input": "2024-11-11T19:45:48.611476Z",
     "iopub.status.busy": "2024-11-11T19:45:48.610877Z",
     "iopub.status.idle": "2024-11-11T19:45:48.614513Z",
     "shell.execute_reply": "2024-11-11T19:45:48.614035Z",
     "shell.execute_reply.started": "2024-11-11T19:45:48.611455Z"
    }
   },
   "outputs": [],
   "source": [
    "def linear_objective(params, gradient, X, y):\n",
    "    params = params.reshape(-1, 1)\n",
    "    residuals = X @ params - y.reshape(-1, 1)\n",
    "    objective = np.sum(residuals**2)\n",
    "    grad = 2 * X.T @ residuals\n",
    "    gradient[:] = grad.flatten()\n",
    "    return objective\n",
    "\n",
    "linear_start = np.random.rand(k)"
   ]
  },
  {
   "cell_type": "code",
   "execution_count": 5,
   "id": "a3483674",
   "metadata": {
    "execution": {
     "iopub.execute_input": "2024-11-11T19:45:48.615304Z",
     "iopub.status.busy": "2024-11-11T19:45:48.615033Z",
     "iopub.status.idle": "2024-11-11T19:45:49.268466Z",
     "shell.execute_reply": "2024-11-11T19:45:49.267696Z",
     "shell.execute_reply.started": "2024-11-11T19:45:48.615289Z"
    }
   },
   "outputs": [
    {
     "name": "stdout",
     "output_type": "stream",
     "text": [
      "pyensmallen linear regression time: 0.469582 seconds\n"
     ]
    }
   ],
   "source": [
    "start_time = time.time()\n",
    "optimizer = pyensmallen.L_BFGS()\n",
    "result_linear_ens = optimizer.optimize(\n",
    "    lambda params, gradient: linear_objective(params, gradient, X_linear, y_linear),\n",
    "    linear_start,\n",
    ")\n",
    "end_time = time.time()\n",
    "ensmallen_linear_time = end_time - start_time\n",
    "print(f\"pyensmallen linear regression time: {ensmallen_linear_time:.6f} seconds\")"
   ]
  },
  {
   "cell_type": "markdown",
   "id": "47cd35fb",
   "metadata": {},
   "source": [
    "### scipy"
   ]
  },
  {
   "cell_type": "code",
   "execution_count": 6,
   "id": "e1318ad5",
   "metadata": {
    "execution": {
     "iopub.execute_input": "2024-11-11T19:45:49.269759Z",
     "iopub.status.busy": "2024-11-11T19:45:49.269355Z",
     "iopub.status.idle": "2024-11-11T19:45:56.949455Z",
     "shell.execute_reply": "2024-11-11T19:45:56.948918Z",
     "shell.execute_reply.started": "2024-11-11T19:45:49.269738Z"
    }
   },
   "outputs": [
    {
     "name": "stdout",
     "output_type": "stream",
     "text": [
      "scipy linear regression time: 7.389548 seconds\n"
     ]
    }
   ],
   "source": [
    "start_time = time.time()\n",
    "result_linear_scipy = scipy.optimize.minimize(\n",
    "    fun=lambda b: np.sum((X_linear @ b - y_linear) ** 2),\n",
    "    x0=linear_start,\n",
    "    jac=lambda b: 2 * X_linear.T @ (X_linear @ b - y_linear),\n",
    ").x\n",
    "end_time = time.time()\n",
    "scipy_linear_time = end_time - start_time\n",
    "print(f\"scipy linear regression time: {scipy_linear_time:.6f} seconds\")"
   ]
  },
  {
   "cell_type": "markdown",
   "id": "4d9edb7e",
   "metadata": {},
   "source": [
    "### cvxpy"
   ]
  },
  {
   "cell_type": "code",
   "execution_count": 7,
   "id": "16b477c4",
   "metadata": {
    "execution": {
     "iopub.execute_input": "2024-11-11T19:45:56.950294Z",
     "iopub.status.busy": "2024-11-11T19:45:56.950118Z",
     "iopub.status.idle": "2024-11-11T19:46:12.543803Z",
     "shell.execute_reply": "2024-11-11T19:46:12.543290Z",
     "shell.execute_reply.started": "2024-11-11T19:45:56.950259Z"
    }
   },
   "outputs": [
    {
     "name": "stdout",
     "output_type": "stream",
     "text": [
      "cvxpy linear regression time: 20.309397 seconds\n"
     ]
    }
   ],
   "source": [
    "start_time = time.time()\n",
    "b_linear = cp.Variable(k)\n",
    "cost_linear = cp.norm(X_linear @ b_linear - y_linear, p=2) ** 2 / n\n",
    "prob_linear = cp.Problem(cp.Minimize(cost_linear))\n",
    "prob_linear.solve(solver=cp.SCS)\n",
    "end_time = time.time()\n",
    "cvxpy_linear_time = end_time - start_time\n",
    "print(f\"cvxpy linear regression time: {cvxpy_linear_time:.6f} seconds\")\n"
   ]
  },
  {
   "cell_type": "markdown",
   "id": "299e3f80",
   "metadata": {},
   "source": [
    "### jax + optax"
   ]
  },
  {
   "cell_type": "code",
   "execution_count": 8,
   "id": "e0f4b82a",
   "metadata": {
    "execution": {
     "iopub.execute_input": "2024-11-11T19:46:12.544607Z",
     "iopub.status.busy": "2024-11-11T19:46:12.544465Z",
     "iopub.status.idle": "2024-11-11T19:46:17.609496Z",
     "shell.execute_reply": "2024-11-11T19:46:17.608817Z",
     "shell.execute_reply.started": "2024-11-11T19:46:12.544592Z"
    }
   },
   "outputs": [
    {
     "name": "stdout",
     "output_type": "stream",
     "text": [
      "jax linear regression time: 3.526115 seconds\n"
     ]
    }
   ],
   "source": [
    "start_time = time.time()\n",
    "X_jnp, y_jnp = jnp.array(X_linear), jnp.array(y_linear)\n",
    "\n",
    "def compute_loss(beta):\n",
    "    y_pred = jnp.dot(X_jnp, beta)\n",
    "    loss = jnp.mean((y_pred - y_jnp) ** 2)\n",
    "    return loss\n",
    "\n",
    "params = jnp.array(linear_start)\n",
    "solver = optax.lbfgs()\n",
    "opt_state = solver.init(params)\n",
    "value_and_grad = optax.value_and_grad_from_state(compute_loss)\n",
    "\n",
    "# Optimization loop\n",
    "for i in range(10):\n",
    "    value, grad = value_and_grad(params, state=opt_state)\n",
    "    updates, opt_state = solver.update(\n",
    "        grad, opt_state, params, value=value, grad=grad, value_fn=compute_loss\n",
    "    )\n",
    "    params = optax.apply_updates(params, updates)\n",
    "end_time = time.time()\n",
    "jax_linear_time = end_time - start_time\n",
    "print(f\"jax linear regression time: {jax_linear_time:.6f} seconds\")\n"
   ]
  },
  {
   "cell_type": "markdown",
   "id": "53501bbc",
   "metadata": {},
   "source": [
    "### closed form"
   ]
  },
  {
   "cell_type": "code",
   "execution_count": 9,
   "id": "1bd523d6",
   "metadata": {
    "execution": {
     "iopub.execute_input": "2024-11-11T19:46:17.610372Z",
     "iopub.status.busy": "2024-11-11T19:46:17.610216Z",
     "iopub.status.idle": "2024-11-11T19:46:17.950100Z",
     "shell.execute_reply": "2024-11-11T19:46:17.949430Z",
     "shell.execute_reply.started": "2024-11-11T19:46:17.610356Z"
    }
   },
   "outputs": [
    {
     "name": "stdout",
     "output_type": "stream",
     "text": [
      "numpy lstsq linear regression time: -1.514380 seconds\n"
     ]
    }
   ],
   "source": [
    "start_time = time.time()\n",
    "np_lstsq_sol = np.linalg.lstsq(X_linear, y_linear, rcond=None)[0]\n",
    "np_lstsq_time = end_time - start_time\n",
    "print(f\"numpy lstsq linear regression time: {np_lstsq_time:.6f} seconds\")"
   ]
  },
  {
   "cell_type": "code",
   "execution_count": 10,
   "id": "43383527",
   "metadata": {
    "execution": {
     "iopub.execute_input": "2024-11-11T19:46:17.951087Z",
     "iopub.status.busy": "2024-11-11T19:46:17.950818Z",
     "iopub.status.idle": "2024-11-11T19:46:19.500311Z",
     "shell.execute_reply": "2024-11-11T19:46:19.499581Z",
     "shell.execute_reply.started": "2024-11-11T19:46:17.951070Z"
    }
   },
   "outputs": [
    {
     "name": "stdout",
     "output_type": "stream",
     "text": [
      "statsmodels lstsq linear regression time: 2.020317 seconds\n"
     ]
    }
   ],
   "source": [
    "start_time = time.time()\n",
    "sm_lstsq_sol = sm.OLS(y_linear, X_linear).fit().params\n",
    "end_time = time.time()\n",
    "sm_lstsq_time = end_time - start_time\n",
    "print(f\"statsmodels lstsq linear regression time: {sm_lstsq_time:.6f} seconds\")\n"
   ]
  },
  {
   "cell_type": "markdown",
   "id": "0f709558",
   "metadata": {},
   "source": [
    "## Comparison"
   ]
  },
  {
   "cell_type": "code",
   "execution_count": 11,
   "id": "1e3cd2f4-705a-4e95-959f-33e2216e38d1",
   "metadata": {
    "execution": {
     "iopub.execute_input": "2024-11-11T19:46:19.501232Z",
     "iopub.status.busy": "2024-11-11T19:46:19.501080Z",
     "iopub.status.idle": "2024-11-11T19:46:19.518970Z",
     "shell.execute_reply": "2024-11-11T19:46:19.518505Z",
     "shell.execute_reply.started": "2024-11-11T19:46:19.501215Z"
    }
   },
   "outputs": [
    {
     "data": {
      "text/html": [
       "<div>\n",
       "<style scoped>\n",
       "    .dataframe tbody tr th:only-of-type {\n",
       "        vertical-align: middle;\n",
       "    }\n",
       "\n",
       "    .dataframe tbody tr th {\n",
       "        vertical-align: top;\n",
       "    }\n",
       "\n",
       "    .dataframe thead th {\n",
       "        text-align: right;\n",
       "    }\n",
       "</style>\n",
       "<table border=\"1\" class=\"dataframe\">\n",
       "  <thead>\n",
       "    <tr style=\"text-align: right;\">\n",
       "      <th></th>\n",
       "      <th>0</th>\n",
       "      <th>1</th>\n",
       "      <th>2</th>\n",
       "      <th>3</th>\n",
       "      <th>4</th>\n",
       "      <th>5</th>\n",
       "      <th>6</th>\n",
       "      <th>7</th>\n",
       "      <th>8</th>\n",
       "      <th>9</th>\n",
       "      <th>...</th>\n",
       "      <th>11</th>\n",
       "      <th>12</th>\n",
       "      <th>13</th>\n",
       "      <th>14</th>\n",
       "      <th>15</th>\n",
       "      <th>16</th>\n",
       "      <th>17</th>\n",
       "      <th>18</th>\n",
       "      <th>19</th>\n",
       "      <th>time</th>\n",
       "    </tr>\n",
       "  </thead>\n",
       "  <tbody>\n",
       "    <tr>\n",
       "      <th>true</th>\n",
       "      <td>0.516399</td>\n",
       "      <td>0.945980</td>\n",
       "      <td>0.233800</td>\n",
       "      <td>0.551623</td>\n",
       "      <td>0.978120</td>\n",
       "      <td>0.242547</td>\n",
       "      <td>0.647025</td>\n",
       "      <td>0.702710</td>\n",
       "      <td>0.264765</td>\n",
       "      <td>0.773622</td>\n",
       "      <td>...</td>\n",
       "      <td>0.368750</td>\n",
       "      <td>0.726970</td>\n",
       "      <td>0.065186</td>\n",
       "      <td>0.727057</td>\n",
       "      <td>0.389674</td>\n",
       "      <td>0.038262</td>\n",
       "      <td>0.393860</td>\n",
       "      <td>0.043869</td>\n",
       "      <td>0.721428</td>\n",
       "      <td>NaN</td>\n",
       "    </tr>\n",
       "    <tr>\n",
       "      <th>ensmallen</th>\n",
       "      <td>0.516399</td>\n",
       "      <td>0.945980</td>\n",
       "      <td>0.233800</td>\n",
       "      <td>0.551623</td>\n",
       "      <td>0.978120</td>\n",
       "      <td>0.242547</td>\n",
       "      <td>0.647025</td>\n",
       "      <td>0.702710</td>\n",
       "      <td>0.264765</td>\n",
       "      <td>0.773622</td>\n",
       "      <td>...</td>\n",
       "      <td>0.368750</td>\n",
       "      <td>0.726970</td>\n",
       "      <td>0.065186</td>\n",
       "      <td>0.727057</td>\n",
       "      <td>0.389674</td>\n",
       "      <td>0.038262</td>\n",
       "      <td>0.393860</td>\n",
       "      <td>0.043869</td>\n",
       "      <td>0.721428</td>\n",
       "      <td>0.469582</td>\n",
       "    </tr>\n",
       "    <tr>\n",
       "      <th>scipy</th>\n",
       "      <td>0.516399</td>\n",
       "      <td>0.945980</td>\n",
       "      <td>0.233800</td>\n",
       "      <td>0.551623</td>\n",
       "      <td>0.978120</td>\n",
       "      <td>0.242547</td>\n",
       "      <td>0.647025</td>\n",
       "      <td>0.702710</td>\n",
       "      <td>0.264765</td>\n",
       "      <td>0.773622</td>\n",
       "      <td>...</td>\n",
       "      <td>0.368750</td>\n",
       "      <td>0.726970</td>\n",
       "      <td>0.065186</td>\n",
       "      <td>0.727057</td>\n",
       "      <td>0.389674</td>\n",
       "      <td>0.038262</td>\n",
       "      <td>0.393860</td>\n",
       "      <td>0.043869</td>\n",
       "      <td>0.721428</td>\n",
       "      <td>7.389548</td>\n",
       "    </tr>\n",
       "    <tr>\n",
       "      <th>cvxpy</th>\n",
       "      <td>0.516399</td>\n",
       "      <td>0.945980</td>\n",
       "      <td>0.233800</td>\n",
       "      <td>0.551623</td>\n",
       "      <td>0.978120</td>\n",
       "      <td>0.242547</td>\n",
       "      <td>0.647025</td>\n",
       "      <td>0.702710</td>\n",
       "      <td>0.264765</td>\n",
       "      <td>0.773622</td>\n",
       "      <td>...</td>\n",
       "      <td>0.368750</td>\n",
       "      <td>0.726970</td>\n",
       "      <td>0.065186</td>\n",
       "      <td>0.727057</td>\n",
       "      <td>0.389674</td>\n",
       "      <td>0.038262</td>\n",
       "      <td>0.393860</td>\n",
       "      <td>0.043869</td>\n",
       "      <td>0.721428</td>\n",
       "      <td>20.309397</td>\n",
       "    </tr>\n",
       "    <tr>\n",
       "      <th>jax</th>\n",
       "      <td>0.516398</td>\n",
       "      <td>0.945978</td>\n",
       "      <td>0.233798</td>\n",
       "      <td>0.551626</td>\n",
       "      <td>0.978113</td>\n",
       "      <td>0.242545</td>\n",
       "      <td>0.647031</td>\n",
       "      <td>0.702712</td>\n",
       "      <td>0.264764</td>\n",
       "      <td>0.773627</td>\n",
       "      <td>...</td>\n",
       "      <td>0.368748</td>\n",
       "      <td>0.726966</td>\n",
       "      <td>0.065180</td>\n",
       "      <td>0.727062</td>\n",
       "      <td>0.389668</td>\n",
       "      <td>0.038263</td>\n",
       "      <td>0.393856</td>\n",
       "      <td>0.043868</td>\n",
       "      <td>0.721436</td>\n",
       "      <td>3.526115</td>\n",
       "    </tr>\n",
       "    <tr>\n",
       "      <th>np_lstsq</th>\n",
       "      <td>0.516399</td>\n",
       "      <td>0.945980</td>\n",
       "      <td>0.233800</td>\n",
       "      <td>0.551623</td>\n",
       "      <td>0.978120</td>\n",
       "      <td>0.242547</td>\n",
       "      <td>0.647025</td>\n",
       "      <td>0.702710</td>\n",
       "      <td>0.264765</td>\n",
       "      <td>0.773622</td>\n",
       "      <td>...</td>\n",
       "      <td>0.368750</td>\n",
       "      <td>0.726970</td>\n",
       "      <td>0.065186</td>\n",
       "      <td>0.727057</td>\n",
       "      <td>0.389674</td>\n",
       "      <td>0.038262</td>\n",
       "      <td>0.393860</td>\n",
       "      <td>0.043869</td>\n",
       "      <td>0.721428</td>\n",
       "      <td>-1.514380</td>\n",
       "    </tr>\n",
       "    <tr>\n",
       "      <th>sm_lstsq</th>\n",
       "      <td>0.516399</td>\n",
       "      <td>0.945980</td>\n",
       "      <td>0.233800</td>\n",
       "      <td>0.551623</td>\n",
       "      <td>0.978120</td>\n",
       "      <td>0.242547</td>\n",
       "      <td>0.647025</td>\n",
       "      <td>0.702710</td>\n",
       "      <td>0.264765</td>\n",
       "      <td>0.773622</td>\n",
       "      <td>...</td>\n",
       "      <td>0.368750</td>\n",
       "      <td>0.726970</td>\n",
       "      <td>0.065186</td>\n",
       "      <td>0.727057</td>\n",
       "      <td>0.389674</td>\n",
       "      <td>0.038262</td>\n",
       "      <td>0.393860</td>\n",
       "      <td>0.043869</td>\n",
       "      <td>0.721428</td>\n",
       "      <td>2.020317</td>\n",
       "    </tr>\n",
       "  </tbody>\n",
       "</table>\n",
       "<p>7 rows × 21 columns</p>\n",
       "</div>"
      ],
      "text/plain": [
       "                  0         1         2         3         4         5  \\\n",
       "true       0.516399  0.945980  0.233800  0.551623  0.978120  0.242547   \n",
       "ensmallen  0.516399  0.945980  0.233800  0.551623  0.978120  0.242547   \n",
       "scipy      0.516399  0.945980  0.233800  0.551623  0.978120  0.242547   \n",
       "cvxpy      0.516399  0.945980  0.233800  0.551623  0.978120  0.242547   \n",
       "jax        0.516398  0.945978  0.233798  0.551626  0.978113  0.242545   \n",
       "np_lstsq   0.516399  0.945980  0.233800  0.551623  0.978120  0.242547   \n",
       "sm_lstsq   0.516399  0.945980  0.233800  0.551623  0.978120  0.242547   \n",
       "\n",
       "                  6         7         8         9  ...        11        12  \\\n",
       "true       0.647025  0.702710  0.264765  0.773622  ...  0.368750  0.726970   \n",
       "ensmallen  0.647025  0.702710  0.264765  0.773622  ...  0.368750  0.726970   \n",
       "scipy      0.647025  0.702710  0.264765  0.773622  ...  0.368750  0.726970   \n",
       "cvxpy      0.647025  0.702710  0.264765  0.773622  ...  0.368750  0.726970   \n",
       "jax        0.647031  0.702712  0.264764  0.773627  ...  0.368748  0.726966   \n",
       "np_lstsq   0.647025  0.702710  0.264765  0.773622  ...  0.368750  0.726970   \n",
       "sm_lstsq   0.647025  0.702710  0.264765  0.773622  ...  0.368750  0.726970   \n",
       "\n",
       "                 13        14        15        16        17        18  \\\n",
       "true       0.065186  0.727057  0.389674  0.038262  0.393860  0.043869   \n",
       "ensmallen  0.065186  0.727057  0.389674  0.038262  0.393860  0.043869   \n",
       "scipy      0.065186  0.727057  0.389674  0.038262  0.393860  0.043869   \n",
       "cvxpy      0.065186  0.727057  0.389674  0.038262  0.393860  0.043869   \n",
       "jax        0.065180  0.727062  0.389668  0.038263  0.393856  0.043868   \n",
       "np_lstsq   0.065186  0.727057  0.389674  0.038262  0.393860  0.043869   \n",
       "sm_lstsq   0.065186  0.727057  0.389674  0.038262  0.393860  0.043869   \n",
       "\n",
       "                 19       time  \n",
       "true       0.721428        NaN  \n",
       "ensmallen  0.721428   0.469582  \n",
       "scipy      0.721428   7.389548  \n",
       "cvxpy      0.721428  20.309397  \n",
       "jax        0.721436   3.526115  \n",
       "np_lstsq   0.721428  -1.514380  \n",
       "sm_lstsq   0.721428   2.020317  \n",
       "\n",
       "[7 rows x 21 columns]"
      ]
     },
     "execution_count": 11,
     "metadata": {},
     "output_type": "execute_result"
    }
   ],
   "source": [
    "lin_results = {\n",
    "    \"true\": true_params_linear,\n",
    "    \"ensmallen\": result_linear_ens,\n",
    "    \"scipy\": result_linear_scipy,\n",
    "    \"cvxpy\": b_linear.value,\n",
    "    \"jax\": params,\n",
    "    \"np_lstsq\": np_lstsq_sol,\n",
    "    \"sm_lstsq\": sm_lstsq_sol,\n",
    "}\n",
    "lin_times = {\n",
    "    \"ensmallen\": ensmallen_linear_time,\n",
    "    \"scipy\": scipy_linear_time,\n",
    "    \"cvxpy\": cvxpy_linear_time,\n",
    "    \"jax\": jax_linear_time,\n",
    "    \"np_lstsq\": np_lstsq_time,\n",
    "    \"sm_lstsq\": sm_lstsq_time,\n",
    "}\n",
    "lin_df = pd.DataFrame(lin_results).T\n",
    "lin_df[\"time\"] = lin_df.index.map(lin_times)\n",
    "lin_df"
   ]
  },
  {
   "cell_type": "markdown",
   "id": "af53b2b0",
   "metadata": {},
   "source": [
    "Numpy is obviously fastest here since we're doing a closed form solution. `pyensmallen` is fastest among MSE minimisers (and also beats statsmodels, which adds a lot of overhead over numpy despite using closed form)."
   ]
  },
  {
   "cell_type": "markdown",
   "id": "9c05ef61",
   "metadata": {},
   "source": [
    "## Logistic Regression"
   ]
  },
  {
   "cell_type": "code",
   "execution_count": 12,
   "id": "3d5449a7",
   "metadata": {
    "execution": {
     "iopub.execute_input": "2024-11-11T19:46:19.519722Z",
     "iopub.status.busy": "2024-11-11T19:46:19.519580Z",
     "iopub.status.idle": "2024-11-11T19:46:19.695657Z",
     "shell.execute_reply": "2024-11-11T19:46:19.695148Z",
     "shell.execute_reply.started": "2024-11-11T19:46:19.519706Z"
    }
   },
   "outputs": [
    {
     "name": "stdout",
     "output_type": "stream",
     "text": [
      "[0.37971646 0.76615664 0.97499895 0.41514807 0.72909192 0.49428436\n",
      " 0.14184926 0.21549712 0.66351905 0.62357696 0.16687515 0.32194925\n",
      " 0.50776434 0.61101253 0.80298513 0.61154467 0.05334338 0.17495924\n",
      " 0.08381726 0.10534799]\n"
     ]
    }
   ],
   "source": [
    "# Logistic Regression Data\n",
    "n, k = 100_000, 20\n",
    "X_logistic = np.random.randn(n, k)\n",
    "print(true_params_logistic := np.random.rand(k))\n",
    "p = expit(X_logistic @ true_params_logistic)\n",
    "y_logistic = np.random.binomial(1, p)"
   ]
  },
  {
   "cell_type": "markdown",
   "id": "fd7b3e3e",
   "metadata": {},
   "source": [
    "### pyensmallen"
   ]
  },
  {
   "cell_type": "code",
   "execution_count": 13,
   "id": "b8446939",
   "metadata": {
    "execution": {
     "iopub.execute_input": "2024-11-11T19:46:19.696415Z",
     "iopub.status.busy": "2024-11-11T19:46:19.696259Z",
     "iopub.status.idle": "2024-11-11T19:46:19.769749Z",
     "shell.execute_reply": "2024-11-11T19:46:19.769189Z",
     "shell.execute_reply.started": "2024-11-11T19:46:19.696400Z"
    }
   },
   "outputs": [],
   "source": [
    "def logistic_objective(params, gradient, X, y):\n",
    "    z = X @ params\n",
    "    h = expit(z)\n",
    "    objective = -np.sum(y * np.log(h) + (1 - y) * np.log1p(-h))\n",
    "    if np.isnan(objective):\n",
    "        objective = np.inf\n",
    "    grad = X.T @ (h - y)\n",
    "    gradient[:] = grad\n",
    "    return objective\n",
    "\n",
    "logistic_start = np.random.rand(k)"
   ]
  },
  {
   "cell_type": "code",
   "execution_count": 14,
   "id": "add9a17e",
   "metadata": {
    "execution": {
     "iopub.execute_input": "2024-11-11T19:46:19.770526Z",
     "iopub.status.busy": "2024-11-11T19:46:19.770385Z",
     "iopub.status.idle": "2024-11-11T19:46:19.989530Z",
     "shell.execute_reply": "2024-11-11T19:46:19.988982Z",
     "shell.execute_reply.started": "2024-11-11T19:46:19.770511Z"
    }
   },
   "outputs": [
    {
     "name": "stdout",
     "output_type": "stream",
     "text": [
      "pyensmallen logistic regression time: 0.138552 seconds\n"
     ]
    }
   ],
   "source": [
    "start_time = time.time()\n",
    "X_logistic2 = np.ascontiguousarray(\n",
    "    X_logistic\n",
    ")  # Ensure C-contiguous array for better performance\n",
    "y_logistic2 = y_logistic.ravel()\n",
    "\n",
    "optimizer = pyensmallen.L_BFGS()\n",
    "result_logistic_ens = optimizer.optimize(\n",
    "    lambda params, gradient: logistic_objective(\n",
    "        params, gradient, X_logistic2, y_logistic2\n",
    "    ),\n",
    "    logistic_start,\n",
    ")\n",
    "end_time = time.time()\n",
    "ensmallen_logistic_time = end_time - start_time\n",
    "print(f\"pyensmallen logistic regression time: {ensmallen_logistic_time:.6f} seconds\")"
   ]
  },
  {
   "cell_type": "markdown",
   "id": "bb60d2da",
   "metadata": {},
   "source": [
    "### scipy"
   ]
  },
  {
   "cell_type": "code",
   "execution_count": 15,
   "id": "6dee0bb8",
   "metadata": {
    "execution": {
     "iopub.execute_input": "2024-11-11T19:46:19.991618Z",
     "iopub.status.busy": "2024-11-11T19:46:19.991455Z",
     "iopub.status.idle": "2024-11-11T19:46:20.560463Z",
     "shell.execute_reply": "2024-11-11T19:46:20.559930Z",
     "shell.execute_reply.started": "2024-11-11T19:46:19.991602Z"
    }
   },
   "outputs": [
    {
     "name": "stderr",
     "output_type": "stream",
     "text": [
      "/tmp/ipykernel_267719/1381715751.py:5: RuntimeWarning: divide by zero encountered in log\n",
      "  + (1 - y_logistic) * np.log(1 - expit(X_logistic @ b))\n",
      "/tmp/ipykernel_267719/1381715751.py:5: RuntimeWarning: invalid value encountered in multiply\n",
      "  + (1 - y_logistic) * np.log(1 - expit(X_logistic @ b))\n"
     ]
    },
    {
     "name": "stdout",
     "output_type": "stream",
     "text": [
      "scipy logistic regression time: 0.783805 seconds\n"
     ]
    }
   ],
   "source": [
    "start_time = time.time()\n",
    "result_logistic_scipy = scipy.optimize.minimize(\n",
    "    fun=lambda b: -np.sum(\n",
    "        y_logistic * np.log(expit(X_logistic @ b))\n",
    "        + (1 - y_logistic) * np.log(1 - expit(X_logistic @ b))\n",
    "    ),\n",
    "    x0=logistic_start,\n",
    "    jac=lambda b: X_logistic.T @ (expit(X_logistic @ b) - y_logistic),\n",
    ").x\n",
    "end_time = time.time()\n",
    "scipy_logistic_time = end_time - start_time\n",
    "print(f\"scipy logistic regression time: {scipy_logistic_time:.6f} seconds\")"
   ]
  },
  {
   "cell_type": "markdown",
   "id": "00054738",
   "metadata": {},
   "source": [
    "### cvxpy"
   ]
  },
  {
   "cell_type": "code",
   "execution_count": 16,
   "id": "d90380c7",
   "metadata": {
    "execution": {
     "iopub.execute_input": "2024-11-11T19:46:20.561232Z",
     "iopub.status.busy": "2024-11-11T19:46:20.561083Z",
     "iopub.status.idle": "2024-11-11T19:46:34.106073Z",
     "shell.execute_reply": "2024-11-11T19:46:34.105455Z",
     "shell.execute_reply.started": "2024-11-11T19:46:20.561216Z"
    }
   },
   "outputs": [
    {
     "name": "stdout",
     "output_type": "stream",
     "text": [
      "cvxpy logistic regression time: 14.463672 seconds\n"
     ]
    }
   ],
   "source": [
    "start_time = time.time()\n",
    "b_logistic = cp.Variable(k)\n",
    "log_likelihood = cp.sum(\n",
    "    cp.multiply(y_logistic, X_logistic @ b_logistic)\n",
    "    - cp.logistic(X_logistic @ b_logistic)\n",
    ")\n",
    "prob_logistic = cp.Problem(cp.Maximize(log_likelihood))\n",
    "prob_logistic.solve(solver=cp.SCS)\n",
    "end_time = time.time()\n",
    "cvxpy_logistic_time = end_time - start_time\n",
    "print(f\"cvxpy logistic regression time: {cvxpy_logistic_time:.6f} seconds\")"
   ]
  },
  {
   "cell_type": "markdown",
   "id": "38794806",
   "metadata": {},
   "source": [
    "### statsmodels\n",
    "\n",
    "does IRLS"
   ]
  },
  {
   "cell_type": "code",
   "execution_count": 17,
   "id": "9dad1419",
   "metadata": {
    "execution": {
     "iopub.execute_input": "2024-11-11T19:46:34.107001Z",
     "iopub.status.busy": "2024-11-11T19:46:34.106836Z",
     "iopub.status.idle": "2024-11-11T19:46:34.337781Z",
     "shell.execute_reply": "2024-11-11T19:46:34.332777Z",
     "shell.execute_reply.started": "2024-11-11T19:46:34.106984Z"
    }
   },
   "outputs": [
    {
     "name": "stdout",
     "output_type": "stream",
     "text": [
      "Optimization terminated successfully.\n",
      "         Current function value: 0.425222\n",
      "         Iterations 7\n",
      "statsmodels logistic regression time: 0.373359 seconds\n"
     ]
    }
   ],
   "source": [
    "start_time = time.time()\n",
    "sm_logit_res = sm.Logit(y_logistic, X_logistic).fit().params\n",
    "end_time = time.time()\n",
    "sm_logistic_time = end_time - start_time\n",
    "print(f\"statsmodels logistic regression time: {sm_logistic_time:.6f} seconds\")"
   ]
  },
  {
   "cell_type": "code",
   "execution_count": 18,
   "id": "1b4f9925",
   "metadata": {
    "execution": {
     "iopub.execute_input": "2024-11-11T19:46:34.338579Z",
     "iopub.status.busy": "2024-11-11T19:46:34.338430Z",
     "iopub.status.idle": "2024-11-11T19:46:39.022862Z",
     "shell.execute_reply": "2024-11-11T19:46:39.022191Z",
     "shell.execute_reply.started": "2024-11-11T19:46:34.338564Z"
    }
   },
   "outputs": [
    {
     "name": "stdout",
     "output_type": "stream",
     "text": [
      "jax logistic regression time: 3.161464 seconds\n"
     ]
    }
   ],
   "source": [
    "start_time = time.time()\n",
    "X_jnp, y_jnp = jnp.array(X_logistic), jnp.array(y_logistic)\n",
    "\n",
    "def logistic_likelihood(beta):\n",
    "    z = jnp.dot(X_jnp, beta)\n",
    "    h = jax.scipy.special.expit(z)\n",
    "    loss = -jnp.sum(y_jnp * jnp.log(h) + (1 - y_jnp) * jnp.log1p(-h))\n",
    "    return loss\n",
    "\n",
    "params = jnp.array(linear_start)\n",
    "solver = optax.lbfgs()\n",
    "opt_state = solver.init(params)\n",
    "value_and_grad = optax.value_and_grad_from_state(logistic_likelihood)\n",
    "\n",
    "# Optimization loop\n",
    "for i in range(10):\n",
    "    value, grad = value_and_grad(params, state=opt_state)\n",
    "    updates, opt_state = solver.update(\n",
    "        grad, opt_state, params, value=value, grad=grad, value_fn=logistic_likelihood\n",
    "    )\n",
    "    params = optax.apply_updates(params, updates)\n",
    "\n",
    "end_time = time.time()\n",
    "jax_logistic_time = end_time - start_time\n",
    "print(f\"jax logistic regression time: {jax_logistic_time:.6f} seconds\")"
   ]
  },
  {
   "cell_type": "markdown",
   "id": "975cbb20",
   "metadata": {},
   "source": [
    "## comparison"
   ]
  },
  {
   "cell_type": "code",
   "execution_count": 19,
   "id": "06085d8c",
   "metadata": {
    "execution": {
     "iopub.execute_input": "2024-11-11T19:46:39.023775Z",
     "iopub.status.busy": "2024-11-11T19:46:39.023623Z",
     "iopub.status.idle": "2024-11-11T19:46:39.036735Z",
     "shell.execute_reply": "2024-11-11T19:46:39.036292Z",
     "shell.execute_reply.started": "2024-11-11T19:46:39.023759Z"
    }
   },
   "outputs": [
    {
     "data": {
      "text/html": [
       "<div>\n",
       "<style scoped>\n",
       "    .dataframe tbody tr th:only-of-type {\n",
       "        vertical-align: middle;\n",
       "    }\n",
       "\n",
       "    .dataframe tbody tr th {\n",
       "        vertical-align: top;\n",
       "    }\n",
       "\n",
       "    .dataframe thead th {\n",
       "        text-align: right;\n",
       "    }\n",
       "</style>\n",
       "<table border=\"1\" class=\"dataframe\">\n",
       "  <thead>\n",
       "    <tr style=\"text-align: right;\">\n",
       "      <th></th>\n",
       "      <th>0</th>\n",
       "      <th>1</th>\n",
       "      <th>2</th>\n",
       "      <th>3</th>\n",
       "      <th>4</th>\n",
       "      <th>5</th>\n",
       "      <th>6</th>\n",
       "      <th>7</th>\n",
       "      <th>8</th>\n",
       "      <th>9</th>\n",
       "      <th>...</th>\n",
       "      <th>11</th>\n",
       "      <th>12</th>\n",
       "      <th>13</th>\n",
       "      <th>14</th>\n",
       "      <th>15</th>\n",
       "      <th>16</th>\n",
       "      <th>17</th>\n",
       "      <th>18</th>\n",
       "      <th>19</th>\n",
       "      <th>time</th>\n",
       "    </tr>\n",
       "  </thead>\n",
       "  <tbody>\n",
       "    <tr>\n",
       "      <th>true</th>\n",
       "      <td>0.379716</td>\n",
       "      <td>0.766157</td>\n",
       "      <td>0.974999</td>\n",
       "      <td>0.415148</td>\n",
       "      <td>0.729092</td>\n",
       "      <td>0.494284</td>\n",
       "      <td>0.141849</td>\n",
       "      <td>0.215497</td>\n",
       "      <td>0.663519</td>\n",
       "      <td>0.623577</td>\n",
       "      <td>...</td>\n",
       "      <td>0.321949</td>\n",
       "      <td>0.507764</td>\n",
       "      <td>0.611013</td>\n",
       "      <td>0.802985</td>\n",
       "      <td>0.611545</td>\n",
       "      <td>0.053343</td>\n",
       "      <td>0.174959</td>\n",
       "      <td>0.083817</td>\n",
       "      <td>0.105348</td>\n",
       "      <td>NaN</td>\n",
       "    </tr>\n",
       "    <tr>\n",
       "      <th>ensmallen</th>\n",
       "      <td>0.392438</td>\n",
       "      <td>0.769003</td>\n",
       "      <td>0.971823</td>\n",
       "      <td>0.413940</td>\n",
       "      <td>0.736091</td>\n",
       "      <td>0.502503</td>\n",
       "      <td>0.156761</td>\n",
       "      <td>0.221206</td>\n",
       "      <td>0.677057</td>\n",
       "      <td>0.641259</td>\n",
       "      <td>...</td>\n",
       "      <td>0.311772</td>\n",
       "      <td>0.509763</td>\n",
       "      <td>0.595544</td>\n",
       "      <td>0.812800</td>\n",
       "      <td>0.626395</td>\n",
       "      <td>0.047291</td>\n",
       "      <td>0.174555</td>\n",
       "      <td>0.083820</td>\n",
       "      <td>0.110272</td>\n",
       "      <td>0.138552</td>\n",
       "    </tr>\n",
       "    <tr>\n",
       "      <th>scipy</th>\n",
       "      <td>0.392438</td>\n",
       "      <td>0.769003</td>\n",
       "      <td>0.971823</td>\n",
       "      <td>0.413940</td>\n",
       "      <td>0.736091</td>\n",
       "      <td>0.502503</td>\n",
       "      <td>0.156761</td>\n",
       "      <td>0.221206</td>\n",
       "      <td>0.677057</td>\n",
       "      <td>0.641259</td>\n",
       "      <td>...</td>\n",
       "      <td>0.311772</td>\n",
       "      <td>0.509763</td>\n",
       "      <td>0.595544</td>\n",
       "      <td>0.812800</td>\n",
       "      <td>0.626395</td>\n",
       "      <td>0.047291</td>\n",
       "      <td>0.174555</td>\n",
       "      <td>0.083820</td>\n",
       "      <td>0.110272</td>\n",
       "      <td>0.783805</td>\n",
       "    </tr>\n",
       "    <tr>\n",
       "      <th>cvxpy</th>\n",
       "      <td>0.392435</td>\n",
       "      <td>0.768999</td>\n",
       "      <td>0.971818</td>\n",
       "      <td>0.413938</td>\n",
       "      <td>0.736086</td>\n",
       "      <td>0.502500</td>\n",
       "      <td>0.156760</td>\n",
       "      <td>0.221204</td>\n",
       "      <td>0.677053</td>\n",
       "      <td>0.641255</td>\n",
       "      <td>...</td>\n",
       "      <td>0.311770</td>\n",
       "      <td>0.509760</td>\n",
       "      <td>0.595541</td>\n",
       "      <td>0.812795</td>\n",
       "      <td>0.626391</td>\n",
       "      <td>0.047290</td>\n",
       "      <td>0.174554</td>\n",
       "      <td>0.083820</td>\n",
       "      <td>0.110271</td>\n",
       "      <td>14.463672</td>\n",
       "    </tr>\n",
       "    <tr>\n",
       "      <th>jax</th>\n",
       "      <td>0.386978</td>\n",
       "      <td>0.790770</td>\n",
       "      <td>0.987460</td>\n",
       "      <td>0.418043</td>\n",
       "      <td>0.755707</td>\n",
       "      <td>0.494496</td>\n",
       "      <td>0.113446</td>\n",
       "      <td>0.224108</td>\n",
       "      <td>0.654783</td>\n",
       "      <td>0.602921</td>\n",
       "      <td>...</td>\n",
       "      <td>0.311000</td>\n",
       "      <td>0.500431</td>\n",
       "      <td>0.612805</td>\n",
       "      <td>0.829732</td>\n",
       "      <td>0.640011</td>\n",
       "      <td>0.030524</td>\n",
       "      <td>0.165428</td>\n",
       "      <td>0.029116</td>\n",
       "      <td>0.108533</td>\n",
       "      <td>3.161464</td>\n",
       "    </tr>\n",
       "    <tr>\n",
       "      <th>sm_logit</th>\n",
       "      <td>0.392438</td>\n",
       "      <td>0.769003</td>\n",
       "      <td>0.971823</td>\n",
       "      <td>0.413940</td>\n",
       "      <td>0.736091</td>\n",
       "      <td>0.502503</td>\n",
       "      <td>0.156761</td>\n",
       "      <td>0.221206</td>\n",
       "      <td>0.677057</td>\n",
       "      <td>0.641259</td>\n",
       "      <td>...</td>\n",
       "      <td>0.311772</td>\n",
       "      <td>0.509763</td>\n",
       "      <td>0.595544</td>\n",
       "      <td>0.812800</td>\n",
       "      <td>0.626395</td>\n",
       "      <td>0.047291</td>\n",
       "      <td>0.174555</td>\n",
       "      <td>0.083820</td>\n",
       "      <td>0.110272</td>\n",
       "      <td>0.373359</td>\n",
       "    </tr>\n",
       "  </tbody>\n",
       "</table>\n",
       "<p>6 rows × 21 columns</p>\n",
       "</div>"
      ],
      "text/plain": [
       "                  0         1         2         3         4         5  \\\n",
       "true       0.379716  0.766157  0.974999  0.415148  0.729092  0.494284   \n",
       "ensmallen  0.392438  0.769003  0.971823  0.413940  0.736091  0.502503   \n",
       "scipy      0.392438  0.769003  0.971823  0.413940  0.736091  0.502503   \n",
       "cvxpy      0.392435  0.768999  0.971818  0.413938  0.736086  0.502500   \n",
       "jax        0.386978  0.790770  0.987460  0.418043  0.755707  0.494496   \n",
       "sm_logit   0.392438  0.769003  0.971823  0.413940  0.736091  0.502503   \n",
       "\n",
       "                  6         7         8         9  ...        11        12  \\\n",
       "true       0.141849  0.215497  0.663519  0.623577  ...  0.321949  0.507764   \n",
       "ensmallen  0.156761  0.221206  0.677057  0.641259  ...  0.311772  0.509763   \n",
       "scipy      0.156761  0.221206  0.677057  0.641259  ...  0.311772  0.509763   \n",
       "cvxpy      0.156760  0.221204  0.677053  0.641255  ...  0.311770  0.509760   \n",
       "jax        0.113446  0.224108  0.654783  0.602921  ...  0.311000  0.500431   \n",
       "sm_logit   0.156761  0.221206  0.677057  0.641259  ...  0.311772  0.509763   \n",
       "\n",
       "                 13        14        15        16        17        18  \\\n",
       "true       0.611013  0.802985  0.611545  0.053343  0.174959  0.083817   \n",
       "ensmallen  0.595544  0.812800  0.626395  0.047291  0.174555  0.083820   \n",
       "scipy      0.595544  0.812800  0.626395  0.047291  0.174555  0.083820   \n",
       "cvxpy      0.595541  0.812795  0.626391  0.047290  0.174554  0.083820   \n",
       "jax        0.612805  0.829732  0.640011  0.030524  0.165428  0.029116   \n",
       "sm_logit   0.595544  0.812800  0.626395  0.047291  0.174555  0.083820   \n",
       "\n",
       "                 19       time  \n",
       "true       0.105348        NaN  \n",
       "ensmallen  0.110272   0.138552  \n",
       "scipy      0.110272   0.783805  \n",
       "cvxpy      0.110271  14.463672  \n",
       "jax        0.108533   3.161464  \n",
       "sm_logit   0.110272   0.373359  \n",
       "\n",
       "[6 rows x 21 columns]"
      ]
     },
     "execution_count": 19,
     "metadata": {},
     "output_type": "execute_result"
    }
   ],
   "source": [
    "logit_df = pd.DataFrame(\n",
    "    {\n",
    "        \"true\": true_params_logistic,\n",
    "        \"ensmallen\": result_logistic_ens,\n",
    "        \"scipy\": result_logistic_scipy,\n",
    "        \"cvxpy\": b_logistic.value,\n",
    "        \"jax\": params,\n",
    "        \"sm_logit\": sm_logit_res,\n",
    "    }\n",
    ")\n",
    "\n",
    "logit_times = {\n",
    "    \"ensmallen\": ensmallen_logistic_time,\n",
    "    \"scipy\": scipy_logistic_time,\n",
    "    \"cvxpy\": cvxpy_logistic_time,\n",
    "    \"jax\": jax_logistic_time,\n",
    "    \"sm_logit\": sm_logistic_time,\n",
    "}\n",
    "\n",
    "logit_df = pd.DataFrame(logit_df).T\n",
    "logit_df[\"time\"] = logit_df.index.map(logit_times)\n",
    "logit_df"
   ]
  },
  {
   "cell_type": "markdown",
   "id": "4f2cf3aa",
   "metadata": {},
   "source": [
    "Ensmallen is fastest among all libraries."
   ]
  },
  {
   "cell_type": "markdown",
   "id": "546244ad",
   "metadata": {},
   "source": [
    "## Poisson Regression"
   ]
  },
  {
   "cell_type": "code",
   "execution_count": 20,
   "id": "f7c03a51",
   "metadata": {
    "execution": {
     "iopub.execute_input": "2024-11-11T19:46:39.037446Z",
     "iopub.status.busy": "2024-11-11T19:46:39.037314Z",
     "iopub.status.idle": "2024-11-11T19:46:39.257097Z",
     "shell.execute_reply": "2024-11-11T19:46:39.256466Z",
     "shell.execute_reply.started": "2024-11-11T19:46:39.037431Z"
    }
   },
   "outputs": [
    {
     "name": "stdout",
     "output_type": "stream",
     "text": [
      "[0.23958574 0.94348091 0.55742479 0.3897755  0.91983041 0.73762105\n",
      " 0.92259406 0.70978266 0.77998603 0.8961713 ]\n"
     ]
    }
   ],
   "source": [
    "n, k = 100_000, 10\n",
    "# Poisson Regression Data\n",
    "X_poisson = np.random.randn(n, k)\n",
    "print(true_params_poisson := np.random.rand(k))\n",
    "lambda_ = np.exp(X_poisson @ true_params_poisson)\n",
    "y_poisson = np.random.poisson(lambda_)"
   ]
  },
  {
   "cell_type": "markdown",
   "id": "6bcf7888",
   "metadata": {},
   "source": [
    "## pyensmallen"
   ]
  },
  {
   "cell_type": "code",
   "execution_count": 21,
   "id": "ba86a97c",
   "metadata": {
    "execution": {
     "iopub.execute_input": "2024-11-11T19:46:39.258061Z",
     "iopub.status.busy": "2024-11-11T19:46:39.257812Z",
     "iopub.status.idle": "2024-11-11T19:46:39.379903Z",
     "shell.execute_reply": "2024-11-11T19:46:39.379279Z",
     "shell.execute_reply.started": "2024-11-11T19:46:39.258045Z"
    }
   },
   "outputs": [],
   "source": [
    "def poisson_objective(params, gradient, X, y):\n",
    "    params = params.reshape(-1, 1)\n",
    "    y = y.reshape(-1, 1)\n",
    "    Xbeta = X @ params\n",
    "    lambda_ = np.exp(Xbeta)\n",
    "    objective = np.sum(lambda_ - np.multiply(y, np.log(lambda_)))\n",
    "    # Compute the gradient\n",
    "    grad = X.T @ (lambda_ - y)\n",
    "    gradient[:] = grad.ravel()\n",
    "    return objective\n",
    "\n",
    "poisson_start = np.random.rand(k)"
   ]
  },
  {
   "cell_type": "code",
   "execution_count": 22,
   "id": "c4c87692",
   "metadata": {
    "execution": {
     "iopub.execute_input": "2024-11-11T19:46:39.380882Z",
     "iopub.status.busy": "2024-11-11T19:46:39.380601Z",
     "iopub.status.idle": "2024-11-11T19:46:39.510396Z",
     "shell.execute_reply": "2024-11-11T19:46:39.509754Z",
     "shell.execute_reply.started": "2024-11-11T19:46:39.380865Z"
    }
   },
   "outputs": [
    {
     "name": "stdout",
     "output_type": "stream",
     "text": [
      "pyensmallen poisson regression time: 0.166607 seconds\n"
     ]
    }
   ],
   "source": [
    "start_time = time.time()\n",
    "optimizer = pyensmallen.L_BFGS()\n",
    "result_poisson_ens = optimizer.optimize(\n",
    "    lambda params, gradient: poisson_objective(params, gradient, X_poisson, y_poisson),\n",
    "    poisson_start,\n",
    ")\n",
    "end_time = time.time()\n",
    "ensmallen_poisson_time = end_time - start_time\n",
    "print(f\"pyensmallen poisson regression time: {ensmallen_poisson_time:.6f} seconds\")"
   ]
  },
  {
   "cell_type": "markdown",
   "id": "e851e198",
   "metadata": {},
   "source": [
    "### scipy"
   ]
  },
  {
   "cell_type": "code",
   "execution_count": 23,
   "id": "4b00785b",
   "metadata": {
    "execution": {
     "iopub.execute_input": "2024-11-11T19:46:39.511254Z",
     "iopub.status.busy": "2024-11-11T19:46:39.511093Z",
     "iopub.status.idle": "2024-11-11T19:46:39.747475Z",
     "shell.execute_reply": "2024-11-11T19:46:39.746734Z",
     "shell.execute_reply.started": "2024-11-11T19:46:39.511237Z"
    }
   },
   "outputs": [
    {
     "name": "stdout",
     "output_type": "stream",
     "text": [
      "scipy poisson regression time: 0.315395 seconds\n"
     ]
    }
   ],
   "source": [
    "start_time = time.time()\n",
    "result_poisson_scipy = scipy.optimize.minimize(\n",
    "    fun=lambda b: np.sum(np.exp(X_poisson @ b) - y_poisson * (X_poisson @ b)),\n",
    "    x0=poisson_start,\n",
    "    jac=lambda b: X_poisson.T @ (np.exp(X_poisson @ b) - y_poisson),\n",
    ").x\n",
    "end_time = time.time()\n",
    "scipy_poisson_time = end_time - start_time\n",
    "print(f\"scipy poisson regression time: {scipy_poisson_time:.6f} seconds\")"
   ]
  },
  {
   "cell_type": "markdown",
   "id": "a67b81bc",
   "metadata": {},
   "source": [
    "### cvxpy\n",
    "\n",
    "fails"
   ]
  },
  {
   "cell_type": "code",
   "execution_count": 25,
   "id": "572fcfa1",
   "metadata": {
    "execution": {
     "iopub.execute_input": "2024-11-11T19:46:39.748741Z",
     "iopub.status.busy": "2024-11-11T19:46:39.748205Z",
     "iopub.status.idle": "2024-11-11T19:46:39.824510Z",
     "shell.execute_reply": "2024-11-11T19:46:39.823820Z",
     "shell.execute_reply.started": "2024-11-11T19:46:39.748722Z"
    }
   },
   "outputs": [],
   "source": [
    "# start_time = time.time()\n",
    "# b_poisson = cp.Variable(k)\n",
    "# z = X_poisson @ b_poisson\n",
    "# cost_poisson = cp.sum(cp.exp(z) - cp.multiply(y_poisson, z)) / n\n",
    "# prob_poisson = cp.Problem(cp.Minimize(cost_poisson))\n",
    "# prob_poisson.solve(solver=cp.SCS)\n",
    "\n",
    "# end_time = time.time()\n",
    "# cvxpy_poisson_time = end_time - start_time\n",
    "# print(f\"cvxpy poisson regression time: {cvxpy_poisson_time:.6f} seconds\")"
   ]
  },
  {
   "cell_type": "markdown",
   "id": "601a275b",
   "metadata": {},
   "source": [
    "Interrupted after 5 mins."
   ]
  },
  {
   "cell_type": "markdown",
   "id": "50088af0",
   "metadata": {},
   "source": [
    "### statsmodels"
   ]
  },
  {
   "cell_type": "code",
   "execution_count": 24,
   "id": "e343e20d",
   "metadata": {
    "execution": {
     "iopub.execute_input": "2024-11-11T19:46:39.825418Z",
     "iopub.status.busy": "2024-11-11T19:46:39.825256Z",
     "iopub.status.idle": "2024-11-11T19:46:40.169396Z",
     "shell.execute_reply": "2024-11-11T19:46:40.168677Z",
     "shell.execute_reply.started": "2024-11-11T19:46:39.825403Z"
    }
   },
   "outputs": [
    {
     "name": "stdout",
     "output_type": "stream",
     "text": [
      "Warning: Maximum number of iterations has been exceeded.\n",
      "         Current function value: 3947169750512799336144193892850757803797908353139605504.000000\n",
      "         Iterations: 35\n",
      "sm poisson regression time: 0.563872 seconds\n"
     ]
    },
    {
     "name": "stderr",
     "output_type": "stream",
     "text": [
      "/home/alal/miniforge3/envs/metrics/lib/python3.12/site-packages/statsmodels/base/model.py:607: ConvergenceWarning: Maximum Likelihood optimization failed to converge. Check mle_retvals\n",
      "  warnings.warn(\"Maximum Likelihood optimization failed to \"\n"
     ]
    }
   ],
   "source": [
    "start_time = time.time()\n",
    "sm_poisson_res = sm.Poisson(y_poisson, X_poisson).fit().params\n",
    "end_time = time.time()\n",
    "sm_poisson_time = end_time - start_time\n",
    "print(f\"sm poisson regression time: {sm_poisson_time:.6f} seconds\")"
   ]
  },
  {
   "cell_type": "markdown",
   "id": "75dbc95c",
   "metadata": {},
   "source": [
    "## jax\n",
    "switch to adam since lbfgs performs poorly (!TODO why?)"
   ]
  },
  {
   "cell_type": "code",
   "execution_count": 25,
   "id": "229f7d03",
   "metadata": {
    "execution": {
     "iopub.execute_input": "2024-11-11T19:46:40.170314Z",
     "iopub.status.busy": "2024-11-11T19:46:40.170149Z",
     "iopub.status.idle": "2024-11-11T19:46:41.891413Z",
     "shell.execute_reply": "2024-11-11T19:46:41.890838Z",
     "shell.execute_reply.started": "2024-11-11T19:46:40.170297Z"
    }
   },
   "outputs": [
    {
     "name": "stdout",
     "output_type": "stream",
     "text": [
      "jax poisson regression time: 2.062514 seconds\n",
      "CPU times: user 2.82 s, sys: 116 ms, total: 2.94 s\n",
      "Wall time: 2.06 s\n"
     ]
    }
   ],
   "source": [
    "%%time\n",
    "start_time = time.time()\n",
    "X_jnp, y_jnp = jnp.array(X_poisson), jnp.array(y_poisson)\n",
    "\n",
    "def poisson_likelihood(beta):\n",
    "    z = jnp.dot(X_jnp, beta)\n",
    "    lambda_ = jnp.exp(z)\n",
    "    loss = jnp.sum(lambda_ - y_jnp * z)\n",
    "    return loss\n",
    "\n",
    "\n",
    "solver = optax.adam(1e-2)\n",
    "adam_params = jnp.array(poisson_start)\n",
    "opt_state = solver.init(adam_params)\n",
    "\n",
    "@jax.jit\n",
    "def update_step(params, opt_state):\n",
    "    loss, grads = jax.value_and_grad(poisson_likelihood)(params)\n",
    "    updates, opt_state = solver.update(grads, opt_state)\n",
    "    params = optax.apply_updates(params, updates)\n",
    "    return params, opt_state, loss\n",
    "\n",
    "\n",
    "for i in range(1000):\n",
    "    adam_params, opt_state, loss = update_step(adam_params, opt_state)\n",
    "\n",
    "end_time = time.time()\n",
    "jax_poisson_time = end_time - start_time\n",
    "print(f\"jax poisson regression time: {jax_poisson_time:.6f} seconds\")"
   ]
  },
  {
   "cell_type": "code",
   "execution_count": 26,
   "id": "df402d06",
   "metadata": {
    "execution": {
     "iopub.execute_input": "2024-11-11T19:46:41.892422Z",
     "iopub.status.busy": "2024-11-11T19:46:41.892108Z",
     "iopub.status.idle": "2024-11-11T19:46:41.901596Z",
     "shell.execute_reply": "2024-11-11T19:46:41.901182Z",
     "shell.execute_reply.started": "2024-11-11T19:46:41.892405Z"
    }
   },
   "outputs": [
    {
     "data": {
      "text/html": [
       "<div>\n",
       "<style scoped>\n",
       "    .dataframe tbody tr th:only-of-type {\n",
       "        vertical-align: middle;\n",
       "    }\n",
       "\n",
       "    .dataframe tbody tr th {\n",
       "        vertical-align: top;\n",
       "    }\n",
       "\n",
       "    .dataframe thead th {\n",
       "        text-align: right;\n",
       "    }\n",
       "</style>\n",
       "<table border=\"1\" class=\"dataframe\">\n",
       "  <thead>\n",
       "    <tr style=\"text-align: right;\">\n",
       "      <th></th>\n",
       "      <th>0</th>\n",
       "      <th>1</th>\n",
       "      <th>2</th>\n",
       "      <th>3</th>\n",
       "      <th>4</th>\n",
       "      <th>5</th>\n",
       "      <th>6</th>\n",
       "      <th>7</th>\n",
       "      <th>8</th>\n",
       "      <th>9</th>\n",
       "      <th>time</th>\n",
       "    </tr>\n",
       "  </thead>\n",
       "  <tbody>\n",
       "    <tr>\n",
       "      <th>true</th>\n",
       "      <td>0.239586</td>\n",
       "      <td>0.943481</td>\n",
       "      <td>0.557425</td>\n",
       "      <td>0.389775</td>\n",
       "      <td>0.919830</td>\n",
       "      <td>0.737621</td>\n",
       "      <td>0.922594</td>\n",
       "      <td>0.709783</td>\n",
       "      <td>0.779986</td>\n",
       "      <td>0.896171</td>\n",
       "      <td>NaN</td>\n",
       "    </tr>\n",
       "    <tr>\n",
       "      <th>ensmallen</th>\n",
       "      <td>0.239864</td>\n",
       "      <td>0.944432</td>\n",
       "      <td>0.558993</td>\n",
       "      <td>0.390959</td>\n",
       "      <td>0.919913</td>\n",
       "      <td>0.737666</td>\n",
       "      <td>0.922831</td>\n",
       "      <td>0.708114</td>\n",
       "      <td>0.778613</td>\n",
       "      <td>0.895464</td>\n",
       "      <td>0.166607</td>\n",
       "    </tr>\n",
       "    <tr>\n",
       "      <th>scipy</th>\n",
       "      <td>0.239864</td>\n",
       "      <td>0.944432</td>\n",
       "      <td>0.558993</td>\n",
       "      <td>0.390959</td>\n",
       "      <td>0.919913</td>\n",
       "      <td>0.737666</td>\n",
       "      <td>0.922831</td>\n",
       "      <td>0.708114</td>\n",
       "      <td>0.778613</td>\n",
       "      <td>0.895464</td>\n",
       "      <td>0.315395</td>\n",
       "    </tr>\n",
       "    <tr>\n",
       "      <th>sm_poisson</th>\n",
       "      <td>6.231685</td>\n",
       "      <td>9.539198</td>\n",
       "      <td>6.079230</td>\n",
       "      <td>5.737063</td>\n",
       "      <td>11.695746</td>\n",
       "      <td>9.101099</td>\n",
       "      <td>11.501975</td>\n",
       "      <td>8.929547</td>\n",
       "      <td>11.217799</td>\n",
       "      <td>9.636084</td>\n",
       "      <td>0.563872</td>\n",
       "    </tr>\n",
       "    <tr>\n",
       "      <th>jax</th>\n",
       "      <td>0.239864</td>\n",
       "      <td>0.944432</td>\n",
       "      <td>0.558993</td>\n",
       "      <td>0.390959</td>\n",
       "      <td>0.919913</td>\n",
       "      <td>0.737666</td>\n",
       "      <td>0.922831</td>\n",
       "      <td>0.708114</td>\n",
       "      <td>0.778613</td>\n",
       "      <td>0.895464</td>\n",
       "      <td>2.062514</td>\n",
       "    </tr>\n",
       "  </tbody>\n",
       "</table>\n",
       "</div>"
      ],
      "text/plain": [
       "                   0         1         2         3          4         5  \\\n",
       "true        0.239586  0.943481  0.557425  0.389775   0.919830  0.737621   \n",
       "ensmallen   0.239864  0.944432  0.558993  0.390959   0.919913  0.737666   \n",
       "scipy       0.239864  0.944432  0.558993  0.390959   0.919913  0.737666   \n",
       "sm_poisson  6.231685  9.539198  6.079230  5.737063  11.695746  9.101099   \n",
       "jax         0.239864  0.944432  0.558993  0.390959   0.919913  0.737666   \n",
       "\n",
       "                    6         7          8         9      time  \n",
       "true         0.922594  0.709783   0.779986  0.896171       NaN  \n",
       "ensmallen    0.922831  0.708114   0.778613  0.895464  0.166607  \n",
       "scipy        0.922831  0.708114   0.778613  0.895464  0.315395  \n",
       "sm_poisson  11.501975  8.929547  11.217799  9.636084  0.563872  \n",
       "jax          0.922831  0.708114   0.778613  0.895464  2.062514  "
      ]
     },
     "execution_count": 26,
     "metadata": {},
     "output_type": "execute_result"
    }
   ],
   "source": [
    "poi_df = pd.DataFrame(\n",
    "    {\n",
    "        \"true\": true_params_poisson,\n",
    "        \"ensmallen\": result_poisson_ens,\n",
    "        \"scipy\": result_poisson_scipy,\n",
    "        \"sm_poisson\": sm_poisson_res,\n",
    "        # \"cvxpy\": b_poisson.value,\n",
    "        \"jax\": adam_params,\n",
    "    }\n",
    ")\n",
    "\n",
    "\n",
    "poi_times = {\n",
    "    \"ensmallen\": ensmallen_poisson_time,\n",
    "    \"scipy\": scipy_poisson_time,\n",
    "    \"jax\": jax_poisson_time,\n",
    "    # \"cvxpy\": cvxpy_poisson_time,\n",
    "    \"sm_poisson\": sm_poisson_time,\n",
    "}\n",
    "\n",
    "poi_df = pd.DataFrame(poi_df).T\n",
    "poi_df[\"time\"] = poi_df.index.map(poi_times)\n",
    "poi_df"
   ]
  },
  {
   "cell_type": "markdown",
   "id": "a4c61e39",
   "metadata": {},
   "source": [
    "Ensmallen is fastest again. CVXPY fails to converge after 5 minutes, as does statsmodels."
   ]
  }
 ],
 "metadata": {
  "kernelspec": {
   "display_name": "metrics",
   "language": "python",
   "name": "python3"
  },
  "language_info": {
   "codemirror_mode": {
    "name": "ipython",
    "version": 3
   },
   "file_extension": ".py",
   "mimetype": "text/x-python",
   "name": "python",
   "nbconvert_exporter": "python",
   "pygments_lexer": "ipython3",
   "version": "3.12.6"
  }
 },
 "nbformat": 4,
 "nbformat_minor": 5
}
