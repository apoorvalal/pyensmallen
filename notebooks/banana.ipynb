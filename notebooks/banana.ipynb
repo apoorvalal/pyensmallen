{
 "cells": [
  {
   "cell_type": "code",
   "execution_count": 1,
   "metadata": {},
   "outputs": [],
   "source": [
    "import numpy as np\n",
    "import pyensmallen"
   ]
  },
  {
   "cell_type": "markdown",
   "metadata": {},
   "source": [
    "## Rosenbrock's banana\n",
    "\n",
    "$$\n",
    "f(x, y) = (a - x)^2 + b(y - x^2)^2\n",
    "$$\n",
    "\n",
    "global optimum reached at $(a, a^2)$. "
   ]
  },
  {
   "cell_type": "code",
   "execution_count": 2,
   "metadata": {},
   "outputs": [],
   "source": [
    "def rosenbrock(x, a=2):\n",
    "    return np.sum((a - x[:-1]) ** 2 + 100.0 * (x[1:] - x[:-1] ** 2) ** 2)\n",
    "\n",
    "\n",
    "def rosenbrock_gradient(x, a=2):\n",
    "    grad = np.zeros_like(x)\n",
    "\n",
    "    # Gradient for the first element\n",
    "    grad[0] = -2 * (a - x[0]) - 400 * x[0] * (x[1] - x[0] ** 2)\n",
    "\n",
    "    # Gradient for the middle elements\n",
    "    grad[1:-1] = (\n",
    "        -2 * (a - x[1:-1])\n",
    "        + 200 * (x[1:-1] - x[:-2] ** 2)\n",
    "        - 400 * x[1:-1] * (x[2:] - x[1:-1] ** 2)\n",
    "    )\n",
    "\n",
    "    # Gradient for the last element\n",
    "    grad[-1] = 200 * (x[-1] - x[-2] ** 2)\n",
    "\n",
    "    return grad\n",
    "\n",
    "\n",
    "def objective_function(x, grad):\n",
    "    grad[:] = rosenbrock_gradient(x)\n",
    "    return rosenbrock(x)"
   ]
  },
  {
   "cell_type": "markdown",
   "metadata": {},
   "source": [
    "## BFGS"
   ]
  },
  {
   "cell_type": "code",
   "execution_count": 3,
   "metadata": {},
   "outputs": [
    {
     "name": "stdout",
     "output_type": "stream",
     "text": [
      "Optimized parameters: [2. 4.]\n",
      "Objective value: 2.7026507009290854e-19\n"
     ]
    }
   ],
   "source": [
    "# Initialize L-BFGS optimizer\n",
    "lbfgs = pyensmallen.L_BFGS(numBasis=10, maxIterations=1000)\n",
    "\n",
    "# Initial guess\n",
    "initial_x = np.array([-1.2, 1.0])\n",
    "\n",
    "# Optimize\n",
    "result = lbfgs.optimize(objective_function, initial_x)\n",
    "\n",
    "print(\"Optimized parameters:\", result)\n",
    "print(\"Objective value:\", rosenbrock(result))"
   ]
  },
  {
   "cell_type": "markdown",
   "metadata": {},
   "source": [
    "Gets to optimum exactly."
   ]
  },
  {
   "cell_type": "markdown",
   "metadata": {},
   "source": [
    "## Adam"
   ]
  },
  {
   "cell_type": "code",
   "execution_count": 4,
   "metadata": {},
   "outputs": [],
   "source": [
    "initial_w = np.random.randn(2)"
   ]
  },
  {
   "cell_type": "code",
   "execution_count": 5,
   "metadata": {},
   "outputs": [
    {
     "data": {
      "text/plain": [
       "array([1.84242719, 3.39499252])"
      ]
     },
     "execution_count": 5,
     "metadata": {},
     "output_type": "execute_result"
    }
   ],
   "source": [
    "adam = pyensmallen.Adam(maxIterations=100_000)\n",
    "result = adam.optimize(objective_function, initial_w)\n",
    "result"
   ]
  },
  {
   "cell_type": "code",
   "execution_count": 6,
   "metadata": {},
   "outputs": [
    {
     "data": {
      "text/plain": [
       "array([1.9529393 , 3.81386375])"
      ]
     },
     "execution_count": 6,
     "metadata": {},
     "output_type": "execute_result"
    }
   ],
   "source": [
    "adamax = pyensmallen.AdaMax(maxIterations=100_000)\n",
    "result = adamax.optimize(objective_function, initial_w)\n",
    "result"
   ]
  },
  {
   "cell_type": "code",
   "execution_count": 7,
   "metadata": {},
   "outputs": [
    {
     "data": {
      "text/plain": [
       "array([1.5916263 , 2.53414253])"
      ]
     },
     "execution_count": 7,
     "metadata": {},
     "output_type": "execute_result"
    }
   ],
   "source": [
    "a = pyensmallen.OptimisticAdam(maxIterations=100_000)\n",
    "result = a.optimize(objective_function, initial_w)\n",
    "result"
   ]
  },
  {
   "cell_type": "code",
   "execution_count": 8,
   "metadata": {},
   "outputs": [
    {
     "data": {
      "text/plain": [
       "array([0.65721087, 0.42299591])"
      ]
     },
     "execution_count": 8,
     "metadata": {},
     "output_type": "execute_result"
    }
   ],
   "source": [
    "a = pyensmallen.AMSGrad(maxIterations=100_000)\n",
    "result = a.optimize(objective_function, initial_w)\n",
    "result"
   ]
  },
  {
   "cell_type": "code",
   "execution_count": 9,
   "metadata": {},
   "outputs": [
    {
     "data": {
      "text/plain": [
       "array([1.90080892, 3.61223393])"
      ]
     },
     "execution_count": 9,
     "metadata": {},
     "output_type": "execute_result"
    }
   ],
   "source": [
    "a = pyensmallen.Nadam(maxIterations=100_000)\n",
    "result = a.optimize(objective_function, initial_w)\n",
    "result"
   ]
  }
 ],
 "metadata": {
  "kernelspec": {
   "display_name": "metrics",
   "language": "python",
   "name": "python3"
  },
  "language_info": {
   "codemirror_mode": {
    "name": "ipython",
    "version": 3
   },
   "file_extension": ".py",
   "mimetype": "text/x-python",
   "name": "python",
   "nbconvert_exporter": "python",
   "pygments_lexer": "ipython3",
   "version": "3.12.6"
  }
 },
 "nbformat": 4,
 "nbformat_minor": 2
}
