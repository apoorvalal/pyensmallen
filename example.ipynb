{
 "cells": [
  {
   "cell_type": "markdown",
   "id": "dc9fb1a2",
   "metadata": {},
   "source": [
    "# `pyensmallen` for Maximum Likelihood\n",
    "\n",
    "LBFGS works well for most smooth convex functions, notably a convex loss such as a likelihood. I generally find that optimization convergence is so fast that bootstrapping the entire procedure may be feasible.\n",
    "\n",
    "Benchmarks against scipy, cvxpy (hand-rolled), and statsmodels are provided."
   ]
  },
  {
   "cell_type": "code",
   "execution_count": 1,
   "id": "11982416",
   "metadata": {},
   "outputs": [],
   "source": [
    "import numpy as np\n",
    "import pyensmallen\n",
    "import scipy.optimize\n",
    "import cvxpy as cp\n",
    "from scipy.special import expit\n",
    "import time\n",
    "\n",
    "import statsmodels.api as sm"
   ]
  },
  {
   "cell_type": "markdown",
   "id": "5356965f",
   "metadata": {},
   "source": [
    "## Data Generation"
   ]
  },
  {
   "cell_type": "code",
   "execution_count": 2,
   "id": "e2785ccf",
   "metadata": {},
   "outputs": [
    {
     "name": "stdout",
     "output_type": "stream",
     "text": [
      "[0.51639859 0.94598022 0.23380001 0.55162275 0.97811966 0.24254699\n",
      " 0.64702478 0.70271041 0.26476461 0.77362184 0.7817448  0.36874977\n",
      " 0.72697004 0.06518613 0.72705723 0.38967364 0.03826155 0.39386005\n",
      " 0.0438693  0.72142769]\n"
     ]
    }
   ],
   "source": [
    "np.random.seed(42)\n",
    "n, k = 1_000_000, 20\n",
    "\n",
    "# Linear Regression Data\n",
    "X_linear = np.random.randn(n, k)\n",
    "print(true_params_linear := np.random.rand(k))\n",
    "y_linear = X_linear @ true_params_linear + np.random.randn(n)"
   ]
  },
  {
   "cell_type": "markdown",
   "id": "6836c13a",
   "metadata": {
    "lines_to_next_cell": 2
   },
   "source": [
    "## Linear Regression"
   ]
  },
  {
   "cell_type": "markdown",
   "id": "84089c27",
   "metadata": {},
   "source": [
    "### pyensmallen"
   ]
  },
  {
   "cell_type": "code",
   "execution_count": 3,
   "id": "3df0ec24",
   "metadata": {},
   "outputs": [],
   "source": [
    "def linear_objective(params, gradient, X, y):\n",
    "    params = params.reshape(-1, 1)\n",
    "    residuals = X @ params - y.reshape(-1, 1)\n",
    "    objective = np.sum(residuals**2)\n",
    "    grad = 2 * X.T @ residuals\n",
    "    gradient[:] = grad.flatten()\n",
    "    return objective"
   ]
  },
  {
   "cell_type": "code",
   "execution_count": 4,
   "id": "a3483674",
   "metadata": {},
   "outputs": [
    {
     "name": "stdout",
     "output_type": "stream",
     "text": [
      "[0.51556024 0.94691468 0.23404849 0.55121759 0.97818756 0.24338623\n",
      " 0.64700696 0.70195589 0.26487498 0.77280983 0.78267599 0.36787315\n",
      " 0.72791074 0.06571446 0.72615144 0.38766298 0.03820425 0.39468909\n",
      " 0.04304362 0.72195013]\n",
      "CPU times: user 5.47 s, sys: 151 ms, total: 5.62 s\n",
      "Wall time: 371 ms\n"
     ]
    }
   ],
   "source": [
    "%%time\n",
    "optimizer = pyensmallen.L_BFGS()\n",
    "result_linear_ens = optimizer.optimize(\n",
    "    lambda params, gradient: linear_objective(params, gradient, X_linear, y_linear),\n",
    "    np.random.rand(k),\n",
    ")\n",
    "print(result_linear_ens)"
   ]
  },
  {
   "cell_type": "markdown",
   "id": "47cd35fb",
   "metadata": {},
   "source": [
    "### scipy"
   ]
  },
  {
   "cell_type": "code",
   "execution_count": 5,
   "id": "e1318ad5",
   "metadata": {},
   "outputs": [
    {
     "name": "stdout",
     "output_type": "stream",
     "text": [
      "[0.51556024 0.94691468 0.23404849 0.55121759 0.97818756 0.24338623\n",
      " 0.64700696 0.70195589 0.26487498 0.77280983 0.78267599 0.36787315\n",
      " 0.72791074 0.06571446 0.72615144 0.38766298 0.03820425 0.39468909\n",
      " 0.04304362 0.72195013]\n",
      "CPU times: user 1min 30s, sys: 2.62 s, total: 1min 32s\n",
      "Wall time: 6.03 s\n"
     ]
    }
   ],
   "source": [
    "%%time\n",
    "result_linear_scipy = scipy.optimize.minimize(\n",
    "    fun=lambda b: np.sum((X_linear @ b - y_linear) ** 2),\n",
    "    x0=np.random.rand(k),\n",
    "    jac=lambda b: 2 * X_linear.T @ (X_linear @ b - y_linear),\n",
    ").x\n",
    "print(result_linear_scipy)"
   ]
  },
  {
   "cell_type": "markdown",
   "id": "4d9edb7e",
   "metadata": {},
   "source": [
    "### cvxpy"
   ]
  },
  {
   "cell_type": "code",
   "execution_count": 6,
   "id": "16b477c4",
   "metadata": {},
   "outputs": [
    {
     "name": "stdout",
     "output_type": "stream",
     "text": [
      "[0.51556024 0.94691468 0.23404849 0.55121759 0.97818756 0.24338623\n",
      " 0.64700696 0.70195589 0.26487498 0.77280983 0.78267599 0.36787315\n",
      " 0.72791074 0.06571446 0.72615144 0.38766298 0.03820425 0.39468909\n",
      " 0.04304362 0.72195013]\n",
      "CPU times: user 23.1 s, sys: 3.6 s, total: 26.7 s\n",
      "Wall time: 24.9 s\n"
     ]
    }
   ],
   "source": [
    "%%time\n",
    "b_linear = cp.Variable(k)\n",
    "cost_linear = cp.norm(X_linear @ b_linear - y_linear, p=2) ** 2 / n\n",
    "prob_linear = cp.Problem(cp.Minimize(cost_linear))\n",
    "prob_linear.solve(solver=cp.SCS)\n",
    "print(b_linear.value)"
   ]
  },
  {
   "cell_type": "markdown",
   "id": "53501bbc",
   "metadata": {},
   "source": [
    "### closed form"
   ]
  },
  {
   "cell_type": "code",
   "execution_count": 7,
   "id": "1bd523d6",
   "metadata": {},
   "outputs": [
    {
     "name": "stdout",
     "output_type": "stream",
     "text": [
      "CPU times: user 2.76 s, sys: 11 ms, total: 2.77 s\n",
      "Wall time: 411 ms\n"
     ]
    },
    {
     "data": {
      "text/plain": [
       "array([0.51556024, 0.94691468, 0.23404849, 0.55121759, 0.97818756,\n",
       "       0.24338623, 0.64700696, 0.70195589, 0.26487498, 0.77280983,\n",
       "       0.78267599, 0.36787315, 0.72791074, 0.06571446, 0.72615144,\n",
       "       0.38766298, 0.03820425, 0.39468909, 0.04304362, 0.72195013])"
      ]
     },
     "execution_count": 7,
     "metadata": {},
     "output_type": "execute_result"
    }
   ],
   "source": [
    "%%time\n",
    "np.linalg.lstsq(X_linear, y_linear, rcond=None)[0]"
   ]
  },
  {
   "cell_type": "code",
   "execution_count": 8,
   "id": "43383527",
   "metadata": {},
   "outputs": [
    {
     "name": "stdout",
     "output_type": "stream",
     "text": [
      "CPU times: user 7.65 s, sys: 339 ms, total: 7.99 s\n",
      "Wall time: 1.63 s\n"
     ]
    },
    {
     "data": {
      "text/plain": [
       "array([0.51556024, 0.94691468, 0.23404849, 0.55121759, 0.97818756,\n",
       "       0.24338623, 0.64700696, 0.70195589, 0.26487498, 0.77280983,\n",
       "       0.78267599, 0.36787315, 0.72791074, 0.06571446, 0.72615144,\n",
       "       0.38766298, 0.03820425, 0.39468909, 0.04304362, 0.72195013])"
      ]
     },
     "execution_count": 8,
     "metadata": {},
     "output_type": "execute_result"
    }
   ],
   "source": [
    "%%time\n",
    "sm.OLS(y_linear, X_linear).fit().params"
   ]
  },
  {
   "cell_type": "markdown",
   "id": "9c05ef61",
   "metadata": {},
   "source": [
    "## Logistic Regression"
   ]
  },
  {
   "cell_type": "code",
   "execution_count": 9,
   "id": "3d5449a7",
   "metadata": {},
   "outputs": [
    {
     "name": "stdout",
     "output_type": "stream",
     "text": [
      "[0.17265046 0.1778864  0.49767087 0.64843282 0.98414584 0.21942117\n",
      " 0.53109792 0.68926063 0.9222397  0.90592967 0.08626337 0.45876915\n",
      " 0.07621689 0.47511573 0.2636066  0.66777898 0.76603666 0.01132669\n",
      " 0.01504104 0.02569576]\n"
     ]
    }
   ],
   "source": [
    "# Logistic Regression Data\n",
    "n, k = 10_000, 20\n",
    "X_logistic = np.random.randn(n, k)\n",
    "print(true_params_logistic := np.random.rand(k))\n",
    "p = expit(X_logistic @ true_params_logistic)\n",
    "y_logistic = np.random.binomial(1, p)"
   ]
  },
  {
   "cell_type": "markdown",
   "id": "fd7b3e3e",
   "metadata": {},
   "source": [
    "### pyensmallen"
   ]
  },
  {
   "cell_type": "code",
   "execution_count": 10,
   "id": "b8446939",
   "metadata": {},
   "outputs": [],
   "source": [
    "def logistic_objective(params, gradient, X, y):\n",
    "    z = X @ params\n",
    "    h = expit(z)\n",
    "    objective = -np.sum(y * np.log(h) + (1 - y) * np.log1p(-h))\n",
    "    grad = X.T @ (h - y)\n",
    "    gradient[:] = grad\n",
    "    return objective"
   ]
  },
  {
   "cell_type": "code",
   "execution_count": 11,
   "id": "add9a17e",
   "metadata": {},
   "outputs": [
    {
     "name": "stdout",
     "output_type": "stream",
     "text": [
      "[ 0.17934344  0.17613996  0.47516449  0.65546909  0.99649103  0.18322668\n",
      "  0.49237341  0.73499685  0.92133107  0.92753401  0.05997722  0.45651545\n",
      "  0.08532323  0.49863473  0.30227163  0.63633992  0.77514856  0.04266289\n",
      " -0.03735041  0.03002617]\n",
      "CPU times: user 66.6 ms, sys: 144 μs, total: 66.8 ms\n",
      "Wall time: 10.2 ms\n"
     ]
    }
   ],
   "source": [
    "%%time\n",
    "X_logistic2 = np.ascontiguousarray(\n",
    "    X_logistic\n",
    ")  # Ensure C-contiguous array for better performance\n",
    "y_logistic2 = y_logistic.ravel()\n",
    "\n",
    "optimizer = pyensmallen.L_BFGS()\n",
    "result_logistic_ens = optimizer.optimize(\n",
    "    lambda params, gradient: logistic_objective(\n",
    "        params, gradient, X_logistic2, y_logistic2\n",
    "    ),\n",
    "    np.random.rand(k),\n",
    ")\n",
    "print(result_logistic_ens)"
   ]
  },
  {
   "cell_type": "markdown",
   "id": "bb60d2da",
   "metadata": {},
   "source": [
    "### scipy"
   ]
  },
  {
   "cell_type": "code",
   "execution_count": 12,
   "id": "6dee0bb8",
   "metadata": {},
   "outputs": [
    {
     "name": "stdout",
     "output_type": "stream",
     "text": [
      "[ 0.17934344  0.17613996  0.47516449  0.65546909  0.99649103  0.18322668\n",
      "  0.49237341  0.73499685  0.92133107  0.92753401  0.05997722  0.45651545\n",
      "  0.08532323  0.49863473  0.30227163  0.63633992  0.77514856  0.04266289\n",
      " -0.03735041  0.03002617]\n",
      "CPU times: user 243 ms, sys: 4.16 ms, total: 247 ms\n",
      "Wall time: 66.9 ms\n"
     ]
    }
   ],
   "source": [
    "%%time\n",
    "result_logistic_scipy = scipy.optimize.minimize(\n",
    "    fun=lambda b: -np.sum(\n",
    "        y_logistic * np.log(expit(X_logistic @ b))\n",
    "        + (1 - y_logistic) * np.log(1 - expit(X_logistic @ b))\n",
    "    ),\n",
    "    x0=np.random.rand(k),\n",
    "    jac=lambda b: X_logistic.T @ (expit(X_logistic @ b) - y_logistic),\n",
    ").x\n",
    "print(result_logistic_scipy)"
   ]
  },
  {
   "cell_type": "markdown",
   "id": "00054738",
   "metadata": {},
   "source": [
    "### cvxpy"
   ]
  },
  {
   "cell_type": "code",
   "execution_count": 13,
   "id": "d90380c7",
   "metadata": {},
   "outputs": [
    {
     "name": "stdout",
     "output_type": "stream",
     "text": [
      "[ 0.17934256  0.17613886  0.47516186  0.65546576  0.99648578  0.18322555\n",
      "  0.4923709   0.73499296  0.92132606  0.92752899  0.05997698  0.45651312\n",
      "  0.08532281  0.49863207  0.30227002  0.63633648  0.77514439  0.0426626\n",
      " -0.03735022  0.0300261 ]\n",
      "CPU times: user 1.1 s, sys: 93 μs, total: 1.1 s\n",
      "Wall time: 1.1 s\n"
     ]
    }
   ],
   "source": [
    "%%time\n",
    "b_logistic = cp.Variable(k)\n",
    "log_likelihood = cp.sum(\n",
    "    cp.multiply(y_logistic, X_logistic @ b_logistic)\n",
    "    - cp.logistic(X_logistic @ b_logistic)\n",
    ")\n",
    "prob_logistic = cp.Problem(cp.Maximize(log_likelihood))\n",
    "prob_logistic.solve(solver=cp.SCS)\n",
    "print(b_logistic.value)"
   ]
  },
  {
   "cell_type": "markdown",
   "id": "38794806",
   "metadata": {},
   "source": [
    "### statsmodels\n",
    "\n",
    "does IRLS"
   ]
  },
  {
   "cell_type": "code",
   "execution_count": 14,
   "id": "9dad1419",
   "metadata": {},
   "outputs": [
    {
     "name": "stdout",
     "output_type": "stream",
     "text": [
      "Optimization terminated successfully.\n",
      "         Current function value: 0.416715\n",
      "         Iterations 7\n",
      "CPU times: user 111 ms, sys: 0 ns, total: 111 ms\n",
      "Wall time: 17.6 ms\n"
     ]
    },
    {
     "data": {
      "text/plain": [
       "array([ 0.17934344,  0.17613996,  0.47516449,  0.65546909,  0.99649103,\n",
       "        0.18322668,  0.49237341,  0.73499685,  0.92133107,  0.92753401,\n",
       "        0.05997722,  0.45651545,  0.08532323,  0.49863473,  0.30227163,\n",
       "        0.63633992,  0.77514856,  0.04266289, -0.03735041,  0.03002617])"
      ]
     },
     "execution_count": 14,
     "metadata": {},
     "output_type": "execute_result"
    }
   ],
   "source": [
    "%%time\n",
    "sm.Logit(y_logistic, X_logistic).fit().params"
   ]
  },
  {
   "cell_type": "markdown",
   "id": "546244ad",
   "metadata": {},
   "source": [
    "## Poisson Regression"
   ]
  },
  {
   "cell_type": "code",
   "execution_count": 15,
   "id": "f7c03a51",
   "metadata": {},
   "outputs": [
    {
     "name": "stdout",
     "output_type": "stream",
     "text": [
      "[0.86917029 0.96687352 0.57554146 0.2946829  0.65323721 0.74023376\n",
      " 0.28311498 0.59695143 0.19782333 0.94529361]\n"
     ]
    }
   ],
   "source": [
    "n, k = 100_000, 10\n",
    "# Poisson Regression Data\n",
    "X_poisson = np.random.randn(n, k)\n",
    "print(true_params_poisson := np.random.rand(k))\n",
    "lambda_ = np.exp(X_poisson @ true_params_poisson)\n",
    "y_poisson = np.random.poisson(lambda_)"
   ]
  },
  {
   "cell_type": "markdown",
   "id": "6bcf7888",
   "metadata": {},
   "source": [
    "## pyensmallen"
   ]
  },
  {
   "cell_type": "code",
   "execution_count": 16,
   "id": "ba86a97c",
   "metadata": {},
   "outputs": [],
   "source": [
    "def poisson_objective(params, gradient, X, y):\n",
    "    params = params.reshape(-1, 1)\n",
    "    y = y.reshape(-1, 1)\n",
    "    Xbeta = X @ params\n",
    "    lambda_ = np.exp(Xbeta)\n",
    "    objective = np.sum(lambda_ - np.multiply(y, np.log(lambda_)))\n",
    "    # Compute the gradient\n",
    "    grad = X.T @ (lambda_ - y)\n",
    "    gradient[:] = grad.ravel()\n",
    "    return objective"
   ]
  },
  {
   "cell_type": "code",
   "execution_count": 17,
   "id": "c4c87692",
   "metadata": {},
   "outputs": [
    {
     "name": "stdout",
     "output_type": "stream",
     "text": [
      "[0.86877556 0.96685947 0.57539955 0.29520506 0.65312095 0.73924052\n",
      " 0.28189688 0.59807216 0.1970171  0.94496917]\n",
      "CPU times: user 1.89 s, sys: 4.9 ms, total: 1.89 s\n",
      "Wall time: 129 ms\n"
     ]
    }
   ],
   "source": [
    "%%time\n",
    "optimizer = pyensmallen.L_BFGS()\n",
    "result_poisson_ens = optimizer.optimize(\n",
    "    lambda params, gradient: poisson_objective(params, gradient, X_poisson, y_poisson),\n",
    "    np.zeros(k),\n",
    ")\n",
    "print(result_poisson_ens)"
   ]
  },
  {
   "cell_type": "markdown",
   "id": "e851e198",
   "metadata": {},
   "source": [
    "### scipy"
   ]
  },
  {
   "cell_type": "code",
   "execution_count": 18,
   "id": "4b00785b",
   "metadata": {},
   "outputs": [
    {
     "name": "stdout",
     "output_type": "stream",
     "text": [
      "[0.86877556 0.96685947 0.57539955 0.29520505 0.65312095 0.73924053\n",
      " 0.28189688 0.59807215 0.1970171  0.94496917]\n",
      "CPU times: user 5.01 s, sys: 0 ns, total: 5.01 s\n",
      "Wall time: 347 ms\n"
     ]
    }
   ],
   "source": [
    "%%time\n",
    "result_poisson_scipy = scipy.optimize.minimize(\n",
    "    fun=lambda b: np.sum(np.exp(X_poisson @ b) - y_poisson * (X_poisson @ b)),\n",
    "    x0=np.random.rand(k),\n",
    "    jac=lambda b: X_poisson.T @ (np.exp(X_poisson @ b) - y_poisson),\n",
    ").x\n",
    "print(result_poisson_scipy)"
   ]
  },
  {
   "cell_type": "markdown",
   "id": "a67b81bc",
   "metadata": {},
   "source": [
    "### cvxpy"
   ]
  },
  {
   "cell_type": "code",
   "execution_count": null,
   "id": "572fcfa1",
   "metadata": {},
   "outputs": [],
   "source": [
    "%%capture\n",
    "b_poisson = cp.Variable(k)\n",
    "z = X_poisson @ b_poisson\n",
    "cost_poisson = cp.sum(cp.exp(z) - cp.multiply(y_poisson, z)) / n\n",
    "prob_poisson = cp.Problem(cp.Minimize(cost_poisson))\n",
    "prob_poisson.solve(solver=cp.SCS)\n",
    "print(b_poisson.value)"
   ]
  },
  {
   "cell_type": "markdown",
   "id": "601a275b",
   "metadata": {},
   "source": [
    "Runs out of memory."
   ]
  },
  {
   "cell_type": "markdown",
   "id": "50088af0",
   "metadata": {},
   "source": [
    "### statsmodels"
   ]
  },
  {
   "cell_type": "code",
   "execution_count": 20,
   "id": "e343e20d",
   "metadata": {},
   "outputs": [
    {
     "name": "stdout",
     "output_type": "stream",
     "text": [
      "Warning: Maximum number of iterations has been exceeded.\n",
      "         Current function value: 75075747038101008.000000\n",
      "         Iterations: 35\n",
      "CPU times: user 6.16 s, sys: 3.54 ms, total: 6.17 s\n",
      "Wall time: 424 ms\n"
     ]
    },
    {
     "name": "stderr",
     "output_type": "stream",
     "text": [
      "/home/alal/miniforge3/envs/econometrics/lib/python3.12/site-packages/statsmodels/base/model.py:607: ConvergenceWarning: Maximum Likelihood optimization failed to converge. Check mle_retvals\n",
      "  warnings.warn(\"Maximum Likelihood optimization failed to \"\n"
     ]
    },
    {
     "data": {
      "text/plain": [
       "array([2.52946653, 4.6910591 , 3.09004472, 0.60682215, 4.08554177,\n",
       "       4.53577489, 0.33532728, 4.82258398, 1.23212272, 4.19929592])"
      ]
     },
     "execution_count": 20,
     "metadata": {},
     "output_type": "execute_result"
    }
   ],
   "source": [
    "%%time\n",
    "sm.Poisson(y_poisson, X_poisson).fit().params"
   ]
  },
  {
   "cell_type": "markdown",
   "id": "5a950833",
   "metadata": {},
   "source": [
    "Way off."
   ]
  }
 ],
 "metadata": {
  "kernelspec": {
   "display_name": "econometrics",
   "language": "python",
   "name": "python3"
  },
  "language_info": {
   "codemirror_mode": {
    "name": "ipython",
    "version": 3
   },
   "file_extension": ".py",
   "mimetype": "text/x-python",
   "name": "python",
   "nbconvert_exporter": "python",
   "pygments_lexer": "ipython3",
   "version": "3.12.4"
  }
 },
 "nbformat": 4,
 "nbformat_minor": 5
}
