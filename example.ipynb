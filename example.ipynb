{
 "cells": [
  {
   "cell_type": "markdown",
   "metadata": {},
   "source": [
    "# Least Squares via L-BFGS in ensmallen"
   ]
  },
  {
   "cell_type": "code",
   "execution_count": 1,
   "metadata": {},
   "outputs": [],
   "source": [
    "import numpy as np\n",
    "import pyensmallen"
   ]
  },
  {
   "cell_type": "code",
   "execution_count": 2,
   "metadata": {},
   "outputs": [
    {
     "name": "stdout",
     "output_type": "stream",
     "text": [
      "[0.51639859 0.94598022 0.23380001 0.55162275 0.97811966 0.24254699\n",
      " 0.64702478 0.70271041 0.26476461 0.77362184 0.7817448  0.36874977\n",
      " 0.72697004 0.06518613 0.72705723 0.38967364 0.03826155 0.39386005\n",
      " 0.0438693  0.72142769]\n"
     ]
    }
   ],
   "source": [
    "# Generate some random data for linear regression\n",
    "n, k = 1_000_000, 20\n",
    "np.random.seed(42)\n",
    "X = np.random.randn(n, k)\n",
    "print(true_params := np.random.rand(k))\n",
    "y = X @ true_params + np.random.randn(n)"
   ]
  },
  {
   "cell_type": "markdown",
   "metadata": {},
   "source": [
    "## ERM with L-BFGS"
   ]
  },
  {
   "cell_type": "markdown",
   "metadata": {},
   "source": [
    "## pyensmallen"
   ]
  },
  {
   "cell_type": "code",
   "execution_count": 3,
   "metadata": {},
   "outputs": [],
   "source": [
    "def linear_regression_objective(params, gradient):\n",
    "    params = params.reshape(-1, 1)\n",
    "    residuals = X @ params - y.reshape(-1, 1)\n",
    "    objective = np.sum(residuals**2)\n",
    "    grad = 2 * X.T @ residuals\n",
    "    gradient[:] = grad.flatten()\n",
    "    return objective\n"
   ]
  },
  {
   "cell_type": "code",
   "execution_count": 4,
   "metadata": {},
   "outputs": [
    {
     "name": "stdout",
     "output_type": "stream",
     "text": [
      "CPU times: user 5 s, sys: 175 ms, total: 5.18 s\n",
      "Wall time: 334 ms\n"
     ]
    },
    {
     "data": {
      "text/plain": [
       "array([0.51556024, 0.94691468, 0.23404849, 0.55121759, 0.97818756,\n",
       "       0.24338623, 0.64700696, 0.70195589, 0.26487498, 0.77280983,\n",
       "       0.78267599, 0.36787315, 0.72791074, 0.06571446, 0.72615144,\n",
       "       0.38766298, 0.03820425, 0.39468909, 0.04304362, 0.72195013])"
      ]
     },
     "execution_count": 4,
     "metadata": {},
     "output_type": "execute_result"
    }
   ],
   "source": [
    "%%time\n",
    "# Create an L-BFGS optimizer\n",
    "optimizer = pyensmallen.L_BFGS()\n",
    "(result := optimizer.optimize(linear_regression_objective,\n",
    "                            np.random.rand(k)))"
   ]
  },
  {
   "cell_type": "markdown",
   "metadata": {},
   "source": [
    "## scipy"
   ]
  },
  {
   "cell_type": "code",
   "execution_count": 5,
   "metadata": {},
   "outputs": [],
   "source": [
    "import scipy.optimize"
   ]
  },
  {
   "cell_type": "code",
   "execution_count": 6,
   "metadata": {},
   "outputs": [
    {
     "name": "stdout",
     "output_type": "stream",
     "text": [
      "CPU times: user 1min 36s, sys: 2.57 s, total: 1min 39s\n",
      "Wall time: 6.62 s\n"
     ]
    },
    {
     "data": {
      "text/plain": [
       "array([0.51556024, 0.94691468, 0.23404849, 0.55121759, 0.97818756,\n",
       "       0.24338623, 0.64700696, 0.70195589, 0.26487498, 0.77280983,\n",
       "       0.78267599, 0.36787315, 0.72791074, 0.06571446, 0.72615144,\n",
       "       0.38766298, 0.03820425, 0.39468909, 0.04304362, 0.72195013])"
      ]
     },
     "execution_count": 6,
     "metadata": {},
     "output_type": "execute_result"
    }
   ],
   "source": [
    "%%time\n",
    "(result := scipy.optimize.minimize(\n",
    "    fun = lambda b: np.sum((X @ b - y)**2),\n",
    "    x0 = np.random.rand(k),\n",
    "    jac = lambda b: 2 * X.T @ (X @ b - y),\n",
    "    ).x\n",
    ")"
   ]
  },
  {
   "cell_type": "markdown",
   "metadata": {},
   "source": [
    "## cvxpy"
   ]
  },
  {
   "cell_type": "code",
   "execution_count": 7,
   "metadata": {},
   "outputs": [],
   "source": [
    "import cvxpy as cp"
   ]
  },
  {
   "cell_type": "code",
   "execution_count": 8,
   "metadata": {},
   "outputs": [
    {
     "name": "stdout",
     "output_type": "stream",
     "text": [
      "CPU times: user 22.4 s, sys: 4 s, total: 26.4 s\n",
      "Wall time: 26.3 s\n"
     ]
    },
    {
     "data": {
      "text/plain": [
       "array([0.51556024, 0.94691468, 0.23404849, 0.55121759, 0.97818756,\n",
       "       0.24338623, 0.64700696, 0.70195589, 0.26487498, 0.77280983,\n",
       "       0.78267599, 0.36787315, 0.72791074, 0.06571446, 0.72615144,\n",
       "       0.38766298, 0.03820425, 0.39468909, 0.04304362, 0.72195013])"
      ]
     },
     "execution_count": 8,
     "metadata": {},
     "output_type": "execute_result"
    }
   ],
   "source": [
    "%%time\n",
    "b = cp.Variable(k)\n",
    "# cost = cp.sum_squares(X @ b - y)  / n\n",
    "cost = cp.norm(X @ b - y, p=2)**2 / n\n",
    "prob = cp.Problem(cp.Minimize(cost))\n",
    "prob.solve(solver=cp.SCS)\n",
    "b.value"
   ]
  },
  {
   "cell_type": "markdown",
   "metadata": {},
   "source": [
    "## closed form runtime"
   ]
  },
  {
   "cell_type": "code",
   "execution_count": 9,
   "metadata": {},
   "outputs": [
    {
     "name": "stdout",
     "output_type": "stream",
     "text": [
      "CPU times: user 2.71 s, sys: 6.08 ms, total: 2.72 s\n",
      "Wall time: 375 ms\n"
     ]
    },
    {
     "data": {
      "text/plain": [
       "array([0.51556024, 0.94691468, 0.23404849, 0.55121759, 0.97818756,\n",
       "       0.24338623, 0.64700696, 0.70195589, 0.26487498, 0.77280983,\n",
       "       0.78267599, 0.36787315, 0.72791074, 0.06571446, 0.72615144,\n",
       "       0.38766298, 0.03820425, 0.39468909, 0.04304362, 0.72195013])"
      ]
     },
     "execution_count": 9,
     "metadata": {},
     "output_type": "execute_result"
    }
   ],
   "source": [
    "%%time\n",
    "(np_solution := np.linalg.lstsq(X, y, rcond=None)[0])"
   ]
  }
 ],
 "metadata": {
  "kernelspec": {
   "display_name": "econometrics",
   "language": "python",
   "name": "python3"
  },
  "language_info": {
   "codemirror_mode": {
    "name": "ipython",
    "version": 3
   },
   "file_extension": ".py",
   "mimetype": "text/x-python",
   "name": "python",
   "nbconvert_exporter": "python",
   "pygments_lexer": "ipython3",
   "version": "3.12.4"
  }
 },
 "nbformat": 4,
 "nbformat_minor": 2
}
